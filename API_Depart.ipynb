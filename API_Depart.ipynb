{
 "cells": [
  {
   "attachments": {},
   "cell_type": "markdown",
   "metadata": {},
   "source": [
    "Ce script permet d'afficher les trains au départ de n'importe quelle gare française.\n",
    "\n",
    "La liste des noms des gares française se trouve dans le fichier Excel **liste_gares.xlsx**"
   ]
  },
  {
   "attachments": {},
   "cell_type": "markdown",
   "metadata": {},
   "source": [
    "# Code"
   ]
  },
  {
   "attachments": {},
   "cell_type": "markdown",
   "metadata": {},
   "source": [
    "## Import des Modules"
   ]
  },
  {
   "cell_type": "code",
   "execution_count": 1,
   "metadata": {},
   "outputs": [],
   "source": [
    "import pandas as pd\n",
    "import requests\n",
    "import json\n",
    "import datetime"
   ]
  },
  {
   "attachments": {},
   "cell_type": "markdown",
   "metadata": {},
   "source": [
    "## Choix de la gare et du nombre de trains affichés"
   ]
  },
  {
   "cell_type": "code",
   "execution_count": 2,
   "metadata": {},
   "outputs": [],
   "source": [
    "gare = \"Montpellier Saint-Roch\"\n",
    "\n",
    "# Max 250\n",
    "nb_trains = 20"
   ]
  },
  {
   "attachments": {},
   "cell_type": "markdown",
   "metadata": {},
   "source": [
    "Mise en varaible du token de connexion à l'API SNCF V1"
   ]
  },
  {
   "cell_type": "code",
   "execution_count": 3,
   "metadata": {},
   "outputs": [],
   "source": [
    "token = 'e7b7fedd-71d0-48c6-8cc7-749e22ba8e80'"
   ]
  },
  {
   "attachments": {},
   "cell_type": "markdown",
   "metadata": {},
   "source": [
    "## Création du dictionnaire des gares françaises"
   ]
  },
  {
   "attachments": {},
   "cell_type": "markdown",
   "metadata": {},
   "source": [
    "Requête à l'API SNCF (pas besoin de token ici) afin de récupérer la liste des gares françaises et l'identifiant associé"
   ]
  },
  {
   "cell_type": "code",
   "execution_count": 4,
   "metadata": {},
   "outputs": [
    {
     "name": "stdout",
     "output_type": "stream",
     "text": [
      "Nombre de gares : 3220\n"
     ]
    }
   ],
   "source": [
    "req_gare = requests.get(\"https://ressources.data.sncf.com/api/records/1.0/search/?dataset=referentiel-gares-voyageurs&q=&rows=3220&sort=gare_alias_libelle_noncontraint&facet=departement_libellemin&facet=segmentdrg_libelle&facet=gare_agencegc_libelle&facet=gare_regionsncf_libelle&facet=gare_ug_libelle\")\n",
    "doc_gare = json.loads(req_gare.text)\n",
    "row_gare = len(doc_gare['records'])\n",
    "print(f'Nombre de gares : {row_gare}')"
   ]
  },
  {
   "attachments": {},
   "cell_type": "markdown",
   "metadata": {},
   "source": [
    "On ne garde que le nom de la gare et l'identifiant"
   ]
  },
  {
   "cell_type": "code",
   "execution_count": 5,
   "metadata": {},
   "outputs": [],
   "source": [
    "df_dic = pd.DataFrame(doc_gare['records'])\n",
    "df_dic = pd.DataFrame(list(df_dic['fields']))\n",
    "df_dic = df_dic[['alias_libelle_noncontraint','uic_code']]"
   ]
  },
  {
   "attachments": {},
   "cell_type": "markdown",
   "metadata": {},
   "source": [
    "On retire les `0` inutiles au début de l'identifiant de gare"
   ]
  },
  {
   "cell_type": "code",
   "execution_count": 6,
   "metadata": {},
   "outputs": [],
   "source": [
    "def removezero(string):\n",
    "    return 'SNCF:' + str(string)[2:]\n",
    "\n",
    "df_dic['uic_code'] = df_dic['uic_code'].apply(removezero)"
   ]
  },
  {
   "attachments": {},
   "cell_type": "markdown",
   "metadata": {},
   "source": [
    "On convertit le dataframe en dictionnaire python"
   ]
  },
  {
   "cell_type": "code",
   "execution_count": null,
   "metadata": {},
   "outputs": [],
   "source": [
    "df_dic.convert_dtypes()\n",
    "dic_gare = df_dic.set_index('alias_libelle_noncontraint').T.to_dict('list')"
   ]
  },
  {
   "attachments": {},
   "cell_type": "markdown",
   "metadata": {},
   "source": [
    "## Obtention des trains au départ en gare"
   ]
  },
  {
   "attachments": {},
   "cell_type": "markdown",
   "metadata": {},
   "source": [
    "Requête à l'API SNCF afin de récupérer la liste des trains au départ en gare"
   ]
  },
  {
   "cell_type": "code",
   "execution_count": 8,
   "metadata": {},
   "outputs": [],
   "source": [
    "link = 'https://api.sncf.com/v1/coverage/sncf/stop_areas/stop_area:' + dic_gare[gare][0] + '/departures?count=' + str(nb_trains)\n",
    "req = requests.get(link,auth=(token, ''))\n",
    "#print(link)"
   ]
  },
  {
   "cell_type": "code",
   "execution_count": 9,
   "metadata": {},
   "outputs": [
    {
     "name": "stdout",
     "output_type": "stream",
     "text": [
      "Nombre de trains : 20\n"
     ]
    }
   ],
   "source": [
    "doc = json.loads(req.text)\n",
    "row = len(doc['departures'])\n",
    "print(f'Nombre de trains : {row}')"
   ]
  },
  {
   "attachments": {},
   "cell_type": "markdown",
   "metadata": {},
   "source": [
    "On découpe le résultat de la requête en 3 dataframes distincts :\n",
    "\n",
    "- **df_gare** qui donne les informations sur la direction du train, son type (TER, TGV, etc.) et son numéro\n",
    "\n",
    "- **df_heure** qui donne des informations sur un éventuel retard du train\n",
    "\n",
    "- **df_id** qui contient l'identifiant du voyage, ce qui nous servira à récupérer d'autres données plus tard"
   ]
  },
  {
   "cell_type": "code",
   "execution_count": 10,
   "metadata": {},
   "outputs": [],
   "source": [
    "df = pd.DataFrame(doc['departures'])\n",
    "df_gare = pd.DataFrame(list(df['display_informations']))\n",
    "df_heure = pd.DataFrame(list(df['stop_date_time']))\n",
    "df_id = pd.DataFrame(list(df['links']))\n",
    "df_id = pd.DataFrame(list(df_id[1]))"
   ]
  },
  {
   "attachments": {},
   "cell_type": "markdown",
   "metadata": {},
   "source": [
    "On récupère le jour de départ du train"
   ]
  },
  {
   "cell_type": "code",
   "execution_count": 11,
   "metadata": {},
   "outputs": [],
   "source": [
    "def get_day(string):\n",
    "    string = string[:8]\n",
    "    return string[6:8]+'-'+string[4:6]+'-'+string[0:4]\n",
    "\n",
    "df_heure['jour'] = df_heure['departure_date_time'].apply(get_day)"
   ]
  },
  {
   "attachments": {},
   "cell_type": "markdown",
   "metadata": {},
   "source": [
    "On récupère l'heure de départ prévue et réelle du train"
   ]
  },
  {
   "cell_type": "code",
   "execution_count": 12,
   "metadata": {},
   "outputs": [],
   "source": [
    "def del_day(string):\n",
    "    return string[9:]\n",
    "\n",
    "df_heure['departure_date_time'] = df_heure['departure_date_time'].apply(del_day)\n",
    "df_heure['base_departure_date_time'] = df_heure['base_departure_date_time'].apply(del_day)"
   ]
  },
  {
   "attachments": {},
   "cell_type": "markdown",
   "metadata": {},
   "source": [
    "On calcule le retard du train et on le convertit au format heure de `datetime`"
   ]
  },
  {
   "cell_type": "code",
   "execution_count": 13,
   "metadata": {},
   "outputs": [],
   "source": [
    "def conv_min(string):\n",
    "    return int(string[0:2])*60 + int(string[2:4])\n",
    "\n",
    "df_heure['retard'] = df_heure['departure_date_time'].apply(conv_min) - df_heure['base_departure_date_time'].apply(conv_min)"
   ]
  },
  {
   "cell_type": "code",
   "execution_count": 14,
   "metadata": {},
   "outputs": [],
   "source": [
    "def str_tps(str):\n",
    "    return datetime.datetime.strptime(str, '%H%M%S').time()\n",
    "\n",
    "df_heure['heure'] = df_heure['departure_date_time'].apply(str_tps)\n",
    "df_heure['old_heure'] = df_heure['base_departure_date_time'].apply(str_tps)"
   ]
  },
  {
   "attachments": {},
   "cell_type": "markdown",
   "metadata": {},
   "source": [
    "On retire le nom de la ville ou se situe la gare pour plus de lisibilité.\n",
    "\n",
    "_Exemple :_ `Paris Gare de Lyon (Paris)` devient `Paris Gare de Lyon`"
   ]
  },
  {
   "cell_type": "code",
   "execution_count": 15,
   "metadata": {},
   "outputs": [],
   "source": [
    "def del_par(string):\n",
    "    index = string.find(\"(\")\n",
    "    return string[:index]\n",
    "\n",
    "df_gare['direction'] = df_gare['direction'].apply(del_par)"
   ]
  },
  {
   "attachments": {},
   "cell_type": "markdown",
   "metadata": {},
   "source": [
    "On renome les colonnes du dataframe **df_gare** et on y ajoute :\n",
    "\n",
    "- Le jour de départ\n",
    "\n",
    "- L'heure de départ réelle\n",
    "\n",
    "- L'heure de départ prévue\n",
    "\n",
    "- Le retard au départ en minutes du train\n",
    "\n",
    "- L'identifiant du voyage"
   ]
  },
  {
   "cell_type": "code",
   "execution_count": 16,
   "metadata": {},
   "outputs": [],
   "source": [
    "df_gare = df_gare[['direction','network','trip_short_name']]\n",
    "df_gare.rename(columns = {'direction':'Destination'}, inplace = True)\n",
    "df_gare.rename(columns = {'network':'Train'}, inplace = True)\n",
    "df_gare.rename(columns = {'trip_short_name':'Numéro'}, inplace = True)\n",
    "\n",
    "df_gare['Jour'] = df_heure['jour']\n",
    "df_gare['Départ (réel)'] = df_heure['heure']\n",
    "df_gare['Départ (prévu)'] = df_heure['old_heure']\n",
    "df_gare['Retard (min)'] = df_heure['retard']\n",
    "df_gare['id'] = df_id['id']"
   ]
  },
  {
   "attachments": {},
   "cell_type": "markdown",
   "metadata": {},
   "source": [
    "## Obtention des arrêts et de la cause de retard du train"
   ]
  },
  {
   "attachments": {},
   "cell_type": "markdown",
   "metadata": {},
   "source": [
    "Création d'une fonction permettant de récupérer uniquement le nom de la gare dans le json et de supprimer les données superflues"
   ]
  },
  {
   "cell_type": "code",
   "execution_count": 17,
   "metadata": {},
   "outputs": [],
   "source": [
    "def get_name(string):\n",
    "    string = string[10:]\n",
    "    index_fin = string.find(\"', 'links'\")\n",
    "    return string[:index_fin]"
   ]
  },
  {
   "attachments": {},
   "cell_type": "markdown",
   "metadata": {},
   "source": [
    "Pour chaque train, on effectue un requête grâce à l'**id** du voyage afin de récupérer les arrêts et l'éventuelle cause du retard de celui-ci"
   ]
  },
  {
   "cell_type": "code",
   "execution_count": 18,
   "metadata": {},
   "outputs": [],
   "source": [
    "arrets = []\n",
    "causes = []\n",
    "\n",
    "for i in df_gare.index:\n",
    "    id = df_gare.iloc[i]['id']\n",
    "    \n",
    "    # Il faut retirer la partie 'RealTime' de l'id pour faire la requête\n",
    "    if 'RealTime' in id:\n",
    "        index_id = id.index(\"RealTime\")\n",
    "        id = id[:index_id-1]\n",
    "\n",
    "    # On effectue la requête\n",
    "    link_voyage = 'https://api.sncf.com/v1/coverage/sncf/vehicle_journeys/' + id\n",
    "    req_arret = requests.get(link_voyage ,auth=(token, ''))\n",
    "    doc_voyage = json.loads(req_arret.text)\n",
    "\n",
    "    # On récupère la liste des arrêts du train\n",
    "    df_arret = pd.DataFrame(doc_voyage['vehicle_journeys'])\n",
    "    df_arret = pd.DataFrame(list(df_arret['stop_times']))\n",
    "    df_arret = df_arret.T\n",
    "    df_arret = pd.DataFrame(list(df_arret[0]))\n",
    "    df_arret['stop_point'] = df_arret['stop_point'].astype('str').apply(get_name)\n",
    "\n",
    "    # Si le train est en retard, on récupère la cause du retard\n",
    "    # On renvoie \"Retard non expliqué\" si la SNCF ne fournit pas plus d'informations sur le retard\n",
    "    if df_gare.iloc[i]['Retard (min)'] != 0:\n",
    "        df_retard = pd.DataFrame(doc_voyage['disruptions'])\n",
    "        if 'messages' in df_retard:\n",
    "            df_retard = pd.DataFrame(list(df_retard['messages'][0]))\n",
    "            causes.append(df_retard.iloc[0]['text'])\n",
    "        else:\n",
    "            causes.append(\"Retard non expliqué\")\n",
    "    else:\n",
    "        causes.append(\"\")\n",
    "\n",
    "    # On retire les gares que le trains a déjà traversées avant d'arriver à la gare choisie\n",
    "    # Il existe des gares à Paris qui ont plusieurs noms qui ne sont pas tous indéxés dans le dataset des gares françaises\n",
    "    # On créé donc une exception pour chacune d'entre elles\n",
    "    liste_arrets = list(df_arret['stop_point'])\n",
    "    if gare not in liste_arrets:\n",
    "        if \"Paris Gare de Lyon\" in liste_arrets:\n",
    "            index_gare = liste_arrets.index(\"Paris Gare de Lyon\")\n",
    "        if \"Paris - Gare de Lyon - Banlieue\" in liste_arrets:\n",
    "            index_gare = liste_arrets.index(\"Paris - Gare de Lyon - Banlieue\")\n",
    "        if \"Gare du Nord Surface\" in liste_arrets:\n",
    "            index_gare = liste_arrets.index(\"Gare du Nord Surface\")\n",
    "    else:\n",
    "        index_gare = liste_arrets.index(gare)\n",
    "    \n",
    "    # On ajoute donc que les gares pas encore traversées\n",
    "    liste_arrets = liste_arrets[index_gare+1:]\n",
    "    arrets.append(liste_arrets)"
   ]
  },
  {
   "attachments": {},
   "cell_type": "markdown",
   "metadata": {},
   "source": [
    "On ajoute la cause du retard ainsi que les arrêts au dataframe **df_gare**\n",
    "On retire aussi l'id du voyage qui ne sert plus à rien"
   ]
  },
  {
   "cell_type": "code",
   "execution_count": 19,
   "metadata": {},
   "outputs": [],
   "source": [
    "df_gare['Cause'] = causes\n",
    "df_gare['Arrêts'] = arrets\n",
    "df_gare = df_gare.drop(['id'], axis=1)"
   ]
  },
  {
   "attachments": {},
   "cell_type": "markdown",
   "metadata": {},
   "source": [
    "On affiche le dataframe final"
   ]
  },
  {
   "cell_type": "code",
   "execution_count": 20,
   "metadata": {},
   "outputs": [
    {
     "data": {
      "text/html": [
       "<div>\n",
       "<style scoped>\n",
       "    .dataframe tbody tr th:only-of-type {\n",
       "        vertical-align: middle;\n",
       "    }\n",
       "\n",
       "    .dataframe tbody tr th {\n",
       "        vertical-align: top;\n",
       "    }\n",
       "\n",
       "    .dataframe thead th {\n",
       "        text-align: right;\n",
       "    }\n",
       "</style>\n",
       "<table border=\"1\" class=\"dataframe\">\n",
       "  <thead>\n",
       "    <tr style=\"text-align: right;\">\n",
       "      <th></th>\n",
       "      <th>Destination</th>\n",
       "      <th>Train</th>\n",
       "      <th>Numéro</th>\n",
       "      <th>Jour</th>\n",
       "      <th>Départ (réel)</th>\n",
       "      <th>Départ (prévu)</th>\n",
       "      <th>Retard (min)</th>\n",
       "      <th>Cause</th>\n",
       "      <th>Arrêts</th>\n",
       "    </tr>\n",
       "  </thead>\n",
       "  <tbody>\n",
       "    <tr>\n",
       "      <th>0</th>\n",
       "      <td>Avignon Centre</td>\n",
       "      <td>TER</td>\n",
       "      <td>86994</td>\n",
       "      <td>04-03-2023</td>\n",
       "      <td>19:13:00</td>\n",
       "      <td>19:13:00</td>\n",
       "      <td>0</td>\n",
       "      <td></td>\n",
       "      <td>[Baillargues, Lunel, Vergèze - Codognan, Nîmes...</td>\n",
       "    </tr>\n",
       "    <tr>\n",
       "      <th>1</th>\n",
       "      <td>Bordeaux Saint-Jean</td>\n",
       "      <td>Intercités</td>\n",
       "      <td>4766</td>\n",
       "      <td>04-03-2023</td>\n",
       "      <td>19:17:00</td>\n",
       "      <td>19:07:00</td>\n",
       "      <td>10</td>\n",
       "      <td>Panne de signalisation</td>\n",
       "      <td>[Béziers, Narbonne, Carcassonne, Toulouse Mata...</td>\n",
       "    </tr>\n",
       "    <tr>\n",
       "      <th>2</th>\n",
       "      <td>Marseille - Saint-Charles</td>\n",
       "      <td>Intercités</td>\n",
       "      <td>4663</td>\n",
       "      <td>04-03-2023</td>\n",
       "      <td>19:28:00</td>\n",
       "      <td>18:58:00</td>\n",
       "      <td>30</td>\n",
       "      <td>Panne d'un passage à niveau</td>\n",
       "      <td>[Nîmes Centre, Marseille - Saint-Charles]</td>\n",
       "    </tr>\n",
       "    <tr>\n",
       "      <th>3</th>\n",
       "      <td>Nîmes Centre</td>\n",
       "      <td>TER</td>\n",
       "      <td>876207</td>\n",
       "      <td>04-03-2023</td>\n",
       "      <td>19:33:00</td>\n",
       "      <td>19:33:00</td>\n",
       "      <td>0</td>\n",
       "      <td></td>\n",
       "      <td>[Baillargues, Lunel, Vergèze - Codognan, Nîmes...</td>\n",
       "    </tr>\n",
       "    <tr>\n",
       "      <th>4</th>\n",
       "      <td>Narbonne</td>\n",
       "      <td>TER</td>\n",
       "      <td>876429</td>\n",
       "      <td>04-03-2023</td>\n",
       "      <td>19:52:00</td>\n",
       "      <td>19:52:00</td>\n",
       "      <td>0</td>\n",
       "      <td></td>\n",
       "      <td>[Frontignan, Sète, Agde, Béziers, Narbonne]</td>\n",
       "    </tr>\n",
       "    <tr>\n",
       "      <th>5</th>\n",
       "      <td>Toulouse Matabiau</td>\n",
       "      <td>TGV INOUI</td>\n",
       "      <td>6825</td>\n",
       "      <td>04-03-2023</td>\n",
       "      <td>20:17:00</td>\n",
       "      <td>20:07:00</td>\n",
       "      <td>10</td>\n",
       "      <td>Conditions de départ non réunies</td>\n",
       "      <td>[Sète, Béziers, Narbonne, Carcassonne, Toulous...</td>\n",
       "    </tr>\n",
       "    <tr>\n",
       "      <th>6</th>\n",
       "      <td>Narbonne</td>\n",
       "      <td>TER</td>\n",
       "      <td>876566</td>\n",
       "      <td>04-03-2023</td>\n",
       "      <td>20:29:00</td>\n",
       "      <td>20:29:00</td>\n",
       "      <td>0</td>\n",
       "      <td></td>\n",
       "      <td>[Frontignan, Sète, Agde, Béziers, Narbonne]</td>\n",
       "    </tr>\n",
       "    <tr>\n",
       "      <th>7</th>\n",
       "      <td>Marseille - Saint-Charles</td>\n",
       "      <td>Intercités</td>\n",
       "      <td>4665</td>\n",
       "      <td>04-03-2023</td>\n",
       "      <td>20:55:00</td>\n",
       "      <td>20:55:00</td>\n",
       "      <td>0</td>\n",
       "      <td></td>\n",
       "      <td>[Nîmes Centre, Marseille - Saint-Charles]</td>\n",
       "    </tr>\n",
       "    <tr>\n",
       "      <th>8</th>\n",
       "      <td>Perpignan</td>\n",
       "      <td>TGV INOUI</td>\n",
       "      <td>6225</td>\n",
       "      <td>04-03-2023</td>\n",
       "      <td>21:17:00</td>\n",
       "      <td>21:17:00</td>\n",
       "      <td>0</td>\n",
       "      <td></td>\n",
       "      <td>[Sète, Agde, Béziers, Narbonne, Perpignan]</td>\n",
       "    </tr>\n",
       "    <tr>\n",
       "      <th>9</th>\n",
       "      <td>Nîmes Centre</td>\n",
       "      <td>TER</td>\n",
       "      <td>86998</td>\n",
       "      <td>04-03-2023</td>\n",
       "      <td>22:13:00</td>\n",
       "      <td>22:13:00</td>\n",
       "      <td>0</td>\n",
       "      <td></td>\n",
       "      <td>[Baillargues, Lunel, Vergèze - Codognan, Nîmes...</td>\n",
       "    </tr>\n",
       "    <tr>\n",
       "      <th>10</th>\n",
       "      <td>Narbonne</td>\n",
       "      <td>TER</td>\n",
       "      <td>876433</td>\n",
       "      <td>04-03-2023</td>\n",
       "      <td>22:52:00</td>\n",
       "      <td>22:52:00</td>\n",
       "      <td>0</td>\n",
       "      <td></td>\n",
       "      <td>[Frontignan, Sète, Agde, Béziers, Narbonne]</td>\n",
       "    </tr>\n",
       "    <tr>\n",
       "      <th>11</th>\n",
       "      <td>Luxembourg</td>\n",
       "      <td>TGV INOUI</td>\n",
       "      <td>9898</td>\n",
       "      <td>05-03-2023</td>\n",
       "      <td>06:29:00</td>\n",
       "      <td>06:29:00</td>\n",
       "      <td>0</td>\n",
       "      <td></td>\n",
       "      <td>[Nîmes Centre, Valence TGV Rhône-Alpes Sud, Ly...</td>\n",
       "    </tr>\n",
       "    <tr>\n",
       "      <th>12</th>\n",
       "      <td>Marseille - Saint-Charles</td>\n",
       "      <td>TER</td>\n",
       "      <td>876532</td>\n",
       "      <td>05-03-2023</td>\n",
       "      <td>06:37:30</td>\n",
       "      <td>06:37:30</td>\n",
       "      <td>0</td>\n",
       "      <td></td>\n",
       "      <td>[Baillargues, Lunel, Vergèze - Codognan, Nîmes...</td>\n",
       "    </tr>\n",
       "    <tr>\n",
       "      <th>13</th>\n",
       "      <td>Narbonne</td>\n",
       "      <td>TER</td>\n",
       "      <td>876405</td>\n",
       "      <td>05-03-2023</td>\n",
       "      <td>07:51:00</td>\n",
       "      <td>07:51:00</td>\n",
       "      <td>0</td>\n",
       "      <td></td>\n",
       "      <td>[Frontignan, Sète, Agde, Béziers, Narbonne]</td>\n",
       "    </tr>\n",
       "    <tr>\n",
       "      <th>14</th>\n",
       "      <td>Avignon Centre</td>\n",
       "      <td>TER</td>\n",
       "      <td>876404</td>\n",
       "      <td>05-03-2023</td>\n",
       "      <td>08:12:00</td>\n",
       "      <td>08:12:00</td>\n",
       "      <td>0</td>\n",
       "      <td></td>\n",
       "      <td>[Baillargues, Lunel, Vergèze - Codognan, Nîmes...</td>\n",
       "    </tr>\n",
       "    <tr>\n",
       "      <th>15</th>\n",
       "      <td>Toulouse Matabiau</td>\n",
       "      <td>TGV INOUI</td>\n",
       "      <td>6821</td>\n",
       "      <td>05-03-2023</td>\n",
       "      <td>08:44:00</td>\n",
       "      <td>08:44:00</td>\n",
       "      <td>0</td>\n",
       "      <td></td>\n",
       "      <td>[Sète, Béziers, Narbonne, Carcassonne, Toulous...</td>\n",
       "    </tr>\n",
       "    <tr>\n",
       "      <th>16</th>\n",
       "      <td>Paris - Gare de Lyon - Hall 1 &amp; 2</td>\n",
       "      <td>TGV INOUI</td>\n",
       "      <td>6202</td>\n",
       "      <td>05-03-2023</td>\n",
       "      <td>08:50:00</td>\n",
       "      <td>08:50:00</td>\n",
       "      <td>0</td>\n",
       "      <td></td>\n",
       "      <td>[Nîmes Centre, Valence TGV Rhône-Alpes Sud, Pa...</td>\n",
       "    </tr>\n",
       "    <tr>\n",
       "      <th>17</th>\n",
       "      <td>Paris - Gare de Lyon - Hall 1 &amp; 2</td>\n",
       "      <td>TGV INOUI</td>\n",
       "      <td>6030</td>\n",
       "      <td>05-03-2023</td>\n",
       "      <td>08:50:00</td>\n",
       "      <td>08:50:00</td>\n",
       "      <td>0</td>\n",
       "      <td></td>\n",
       "      <td>[Nîmes Centre, Valence TGV Rhône-Alpes Sud, Pa...</td>\n",
       "    </tr>\n",
       "    <tr>\n",
       "      <th>18</th>\n",
       "      <td>Bruxelles-Midi - Brussel-Zuid</td>\n",
       "      <td>TGV INOUI</td>\n",
       "      <td>9862</td>\n",
       "      <td>05-03-2023</td>\n",
       "      <td>08:59:00</td>\n",
       "      <td>08:59:00</td>\n",
       "      <td>0</td>\n",
       "      <td></td>\n",
       "      <td>[Nîmes Centre, Valence TGV Rhône-Alpes Sud, Ly...</td>\n",
       "    </tr>\n",
       "    <tr>\n",
       "      <th>19</th>\n",
       "      <td>Bordeaux Saint-Jean</td>\n",
       "      <td>Intercités</td>\n",
       "      <td>4756</td>\n",
       "      <td>05-03-2023</td>\n",
       "      <td>09:07:00</td>\n",
       "      <td>09:07:00</td>\n",
       "      <td>0</td>\n",
       "      <td></td>\n",
       "      <td>[Sète, Narbonne, Carcassonne, Toulouse Matabia...</td>\n",
       "    </tr>\n",
       "  </tbody>\n",
       "</table>\n",
       "</div>"
      ],
      "text/plain": [
       "                           Destination       Train  Numéro        Jour  \\\n",
       "0                      Avignon Centre          TER   86994  04-03-2023   \n",
       "1                 Bordeaux Saint-Jean   Intercités    4766  04-03-2023   \n",
       "2           Marseille - Saint-Charles   Intercités    4663  04-03-2023   \n",
       "3                        Nîmes Centre          TER  876207  04-03-2023   \n",
       "4                            Narbonne          TER  876429  04-03-2023   \n",
       "5                   Toulouse Matabiau    TGV INOUI    6825  04-03-2023   \n",
       "6                            Narbonne          TER  876566  04-03-2023   \n",
       "7           Marseille - Saint-Charles   Intercités    4665  04-03-2023   \n",
       "8                           Perpignan    TGV INOUI    6225  04-03-2023   \n",
       "9                        Nîmes Centre          TER   86998  04-03-2023   \n",
       "10                           Narbonne          TER  876433  04-03-2023   \n",
       "11                         Luxembourg    TGV INOUI    9898  05-03-2023   \n",
       "12          Marseille - Saint-Charles          TER  876532  05-03-2023   \n",
       "13                           Narbonne          TER  876405  05-03-2023   \n",
       "14                     Avignon Centre          TER  876404  05-03-2023   \n",
       "15                  Toulouse Matabiau    TGV INOUI    6821  05-03-2023   \n",
       "16  Paris - Gare de Lyon - Hall 1 & 2    TGV INOUI    6202  05-03-2023   \n",
       "17  Paris - Gare de Lyon - Hall 1 & 2    TGV INOUI    6030  05-03-2023   \n",
       "18      Bruxelles-Midi - Brussel-Zuid    TGV INOUI    9862  05-03-2023   \n",
       "19                Bordeaux Saint-Jean   Intercités    4756  05-03-2023   \n",
       "\n",
       "   Départ (réel) Départ (prévu)  Retard (min)  \\\n",
       "0       19:13:00       19:13:00             0   \n",
       "1       19:17:00       19:07:00            10   \n",
       "2       19:28:00       18:58:00            30   \n",
       "3       19:33:00       19:33:00             0   \n",
       "4       19:52:00       19:52:00             0   \n",
       "5       20:17:00       20:07:00            10   \n",
       "6       20:29:00       20:29:00             0   \n",
       "7       20:55:00       20:55:00             0   \n",
       "8       21:17:00       21:17:00             0   \n",
       "9       22:13:00       22:13:00             0   \n",
       "10      22:52:00       22:52:00             0   \n",
       "11      06:29:00       06:29:00             0   \n",
       "12      06:37:30       06:37:30             0   \n",
       "13      07:51:00       07:51:00             0   \n",
       "14      08:12:00       08:12:00             0   \n",
       "15      08:44:00       08:44:00             0   \n",
       "16      08:50:00       08:50:00             0   \n",
       "17      08:50:00       08:50:00             0   \n",
       "18      08:59:00       08:59:00             0   \n",
       "19      09:07:00       09:07:00             0   \n",
       "\n",
       "                               Cause  \\\n",
       "0                                      \n",
       "1             Panne de signalisation   \n",
       "2        Panne d'un passage à niveau   \n",
       "3                                      \n",
       "4                                      \n",
       "5   Conditions de départ non réunies   \n",
       "6                                      \n",
       "7                                      \n",
       "8                                      \n",
       "9                                      \n",
       "10                                     \n",
       "11                                     \n",
       "12                                     \n",
       "13                                     \n",
       "14                                     \n",
       "15                                     \n",
       "16                                     \n",
       "17                                     \n",
       "18                                     \n",
       "19                                     \n",
       "\n",
       "                                               Arrêts  \n",
       "0   [Baillargues, Lunel, Vergèze - Codognan, Nîmes...  \n",
       "1   [Béziers, Narbonne, Carcassonne, Toulouse Mata...  \n",
       "2           [Nîmes Centre, Marseille - Saint-Charles]  \n",
       "3   [Baillargues, Lunel, Vergèze - Codognan, Nîmes...  \n",
       "4         [Frontignan, Sète, Agde, Béziers, Narbonne]  \n",
       "5   [Sète, Béziers, Narbonne, Carcassonne, Toulous...  \n",
       "6         [Frontignan, Sète, Agde, Béziers, Narbonne]  \n",
       "7           [Nîmes Centre, Marseille - Saint-Charles]  \n",
       "8          [Sète, Agde, Béziers, Narbonne, Perpignan]  \n",
       "9   [Baillargues, Lunel, Vergèze - Codognan, Nîmes...  \n",
       "10        [Frontignan, Sète, Agde, Béziers, Narbonne]  \n",
       "11  [Nîmes Centre, Valence TGV Rhône-Alpes Sud, Ly...  \n",
       "12  [Baillargues, Lunel, Vergèze - Codognan, Nîmes...  \n",
       "13        [Frontignan, Sète, Agde, Béziers, Narbonne]  \n",
       "14  [Baillargues, Lunel, Vergèze - Codognan, Nîmes...  \n",
       "15  [Sète, Béziers, Narbonne, Carcassonne, Toulous...  \n",
       "16  [Nîmes Centre, Valence TGV Rhône-Alpes Sud, Pa...  \n",
       "17  [Nîmes Centre, Valence TGV Rhône-Alpes Sud, Pa...  \n",
       "18  [Nîmes Centre, Valence TGV Rhône-Alpes Sud, Ly...  \n",
       "19  [Sète, Narbonne, Carcassonne, Toulouse Matabia...  "
      ]
     },
     "execution_count": 20,
     "metadata": {},
     "output_type": "execute_result"
    }
   ],
   "source": [
    "df_gare"
   ]
  },
  {
   "attachments": {},
   "cell_type": "markdown",
   "metadata": {},
   "source": [
    "On exporte le dataframe en fichier _CSV_"
   ]
  },
  {
   "cell_type": "code",
   "execution_count": 21,
   "metadata": {},
   "outputs": [],
   "source": [
    "df_gare.to_csv('Departure.csv', sep=',', index=False, header=True)"
   ]
  }
 ],
 "metadata": {
  "kernelspec": {
   "display_name": "cours",
   "language": "python",
   "name": "python3"
  },
  "language_info": {
   "codemirror_mode": {
    "name": "ipython",
    "version": 3
   },
   "file_extension": ".py",
   "mimetype": "text/x-python",
   "name": "python",
   "nbconvert_exporter": "python",
   "pygments_lexer": "ipython3",
   "version": "3.11.0"
  },
  "orig_nbformat": 4
 },
 "nbformat": 4,
 "nbformat_minor": 2
}
