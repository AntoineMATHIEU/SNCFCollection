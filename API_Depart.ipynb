{
 "cells": [
  {
   "attachments": {},
   "cell_type": "markdown",
   "metadata": {},
   "source": [
    "Ce script permet d'afficher les trains au départ de n'importe quelle gare française.\n",
    "\n",
    "La liste des noms des gares française se trouve dans le fichier Excel **liste_gares.xlsx**"
   ]
  },
  {
   "attachments": {},
   "cell_type": "markdown",
   "metadata": {},
   "source": [
    "# Code"
   ]
  },
  {
   "attachments": {},
   "cell_type": "markdown",
   "metadata": {},
   "source": [
    "## Import des Modules"
   ]
  },
  {
   "cell_type": "code",
   "execution_count": 1,
   "metadata": {},
   "outputs": [],
   "source": [
    "import pandas as pd\n",
    "import requests\n",
    "import json\n",
    "import datetime"
   ]
  },
  {
   "attachments": {},
   "cell_type": "markdown",
   "metadata": {},
   "source": [
    "## Choix de la gare et du nombre de trains affichés"
   ]
  },
  {
   "cell_type": "code",
   "execution_count": 2,
   "metadata": {},
   "outputs": [],
   "source": [
    "gare = \"Alès\"\n",
    "\n",
    "# Max 250\n",
    "nb_trains = 20"
   ]
  },
  {
   "attachments": {},
   "cell_type": "markdown",
   "metadata": {},
   "source": [
    "Mise en varaible du token de connexion à l'API SNCF V1"
   ]
  },
  {
   "cell_type": "code",
   "execution_count": 3,
   "metadata": {},
   "outputs": [],
   "source": [
    "token = 'e7b7fedd-71d0-48c6-8cc7-749e22ba8e80'"
   ]
  },
  {
   "attachments": {},
   "cell_type": "markdown",
   "metadata": {},
   "source": [
    "## Création du dictionnaire des gares françaises"
   ]
  },
  {
   "attachments": {},
   "cell_type": "markdown",
   "metadata": {},
   "source": [
    "Requête à l'API SNCF (pas besoin de token ici) afin de récupérer la liste des gares françaises et l'identifiant associé"
   ]
  },
  {
   "cell_type": "code",
   "execution_count": 4,
   "metadata": {},
   "outputs": [
    {
     "name": "stdout",
     "output_type": "stream",
     "text": [
      "Nombre de gares : 3220\n"
     ]
    }
   ],
   "source": [
    "req_gare = requests.get(\"https://ressources.data.sncf.com/api/records/1.0/search/?dataset=referentiel-gares-voyageurs&q=&rows=3220&sort=gare_alias_libelle_noncontraint&facet=departement_libellemin&facet=segmentdrg_libelle&facet=gare_agencegc_libelle&facet=gare_regionsncf_libelle&facet=gare_ug_libelle\")\n",
    "doc_gare = json.loads(req_gare.text)\n",
    "row_gare = len(doc_gare['records'])\n",
    "print(f'Nombre de gares : {row_gare}')"
   ]
  },
  {
   "attachments": {},
   "cell_type": "markdown",
   "metadata": {},
   "source": [
    "On ne garde que le nom de la gare et l'identifiant"
   ]
  },
  {
   "cell_type": "code",
   "execution_count": 5,
   "metadata": {},
   "outputs": [],
   "source": [
    "df_dic = pd.DataFrame(doc_gare['records'])\n",
    "df_dic = pd.DataFrame(list(df_dic['fields']))\n",
    "df_dic = df_dic[['alias_libelle_noncontraint','uic_code']]"
   ]
  },
  {
   "attachments": {},
   "cell_type": "markdown",
   "metadata": {},
   "source": [
    "On retire les `0` inutiles au début de l'identifiant de gare"
   ]
  },
  {
   "cell_type": "code",
   "execution_count": 6,
   "metadata": {},
   "outputs": [],
   "source": [
    "def removezero(string):\n",
    "    return 'SNCF:' + str(string)[2:]\n",
    "\n",
    "df_dic['uic_code'] = df_dic['uic_code'].apply(removezero)"
   ]
  },
  {
   "attachments": {},
   "cell_type": "markdown",
   "metadata": {},
   "source": [
    "On convertit le dataframe en dictionnaire python"
   ]
  },
  {
   "cell_type": "code",
   "execution_count": 7,
   "metadata": {},
   "outputs": [
    {
     "name": "stderr",
     "output_type": "stream",
     "text": [
      "/var/folders/bg/vbvjjnmj0hv9wmb92ngxcq9m0000gn/T/ipykernel_2996/3118890846.py:2: UserWarning: DataFrame columns are not unique, some columns will be omitted.\n",
      "  dic_gare = df_dic.set_index('alias_libelle_noncontraint').T.to_dict('list')\n"
     ]
    }
   ],
   "source": [
    "df_dic.convert_dtypes()\n",
    "dic_gare = df_dic.set_index('alias_libelle_noncontraint').T.to_dict('list')"
   ]
  },
  {
   "attachments": {},
   "cell_type": "markdown",
   "metadata": {},
   "source": [
    "## Obtention des trains au départ en gare"
   ]
  },
  {
   "attachments": {},
   "cell_type": "markdown",
   "metadata": {},
   "source": [
    "Requête à l'API SNCF afin de récupérer la liste des trains au départ en gare"
   ]
  },
  {
   "cell_type": "code",
   "execution_count": 8,
   "metadata": {},
   "outputs": [],
   "source": [
    "link = 'https://api.sncf.com/v1/coverage/sncf/stop_areas/stop_area:' + dic_gare[gare][0] + '/departures?count=' + str(nb_trains)\n",
    "req = requests.get(link,auth=(token, ''))\n",
    "#print(link)"
   ]
  },
  {
   "cell_type": "code",
   "execution_count": 9,
   "metadata": {},
   "outputs": [
    {
     "name": "stdout",
     "output_type": "stream",
     "text": [
      "Nombre de trains : 20\n"
     ]
    }
   ],
   "source": [
    "doc = json.loads(req.text)\n",
    "row = len(doc['departures'])\n",
    "print(f'Nombre de trains : {row}')"
   ]
  },
  {
   "attachments": {},
   "cell_type": "markdown",
   "metadata": {},
   "source": [
    "On découpe le résultat de la requête en 3 dataframes distincts :\n",
    "\n",
    "- **df_gare** qui donne les informations sur la direction du train, son type (TER, TGV, etc.) et son numéro\n",
    "\n",
    "- **df_heure** qui donne des informations sur un éventuel retard du train\n",
    "\n",
    "- **df_id** qui contient l'identifiant du voyage, ce qui nous servira à récupérer d'autres données plus tard"
   ]
  },
  {
   "cell_type": "code",
   "execution_count": 10,
   "metadata": {},
   "outputs": [],
   "source": [
    "df = pd.DataFrame(doc['departures'])\n",
    "df_gare = pd.DataFrame(list(df['display_informations']))\n",
    "df_heure = pd.DataFrame(list(df['stop_date_time']))\n",
    "df_id = pd.DataFrame(list(df['links']))\n",
    "df_id = pd.DataFrame(list(df_id[1]))"
   ]
  },
  {
   "attachments": {},
   "cell_type": "markdown",
   "metadata": {},
   "source": [
    "On récupère le jour de départ du train"
   ]
  },
  {
   "cell_type": "code",
   "execution_count": 11,
   "metadata": {},
   "outputs": [],
   "source": [
    "def get_day(string):\n",
    "    string = string[:8]\n",
    "    return string[6:8]+'-'+string[4:6]+'-'+string[0:4]\n",
    "\n",
    "df_heure['jour'] = df_heure['departure_date_time'].apply(get_day)"
   ]
  },
  {
   "attachments": {},
   "cell_type": "markdown",
   "metadata": {},
   "source": [
    "On ne garde que les trains en retard"
   ]
  },
  {
   "cell_type": "code",
   "execution_count": 12,
   "metadata": {},
   "outputs": [],
   "source": [
    "df_heure = df_heure.drop(index=df_heure[df_heure['base_departure_date_time'].isnull()].index)\n",
    "df_gare = df_gare.drop(index=df_gare[df_gare['network']=='additional service'].index)"
   ]
  },
  {
   "attachments": {},
   "cell_type": "markdown",
   "metadata": {},
   "source": [
    "On récupère l'heure de départ prévue et réelle du train"
   ]
  },
  {
   "cell_type": "code",
   "execution_count": 13,
   "metadata": {},
   "outputs": [],
   "source": [
    "def del_day(string):\n",
    "    return str(string)[9:]\n",
    "\n",
    "df_heure['departure_date_time'] = df_heure['departure_date_time'].apply(del_day)\n",
    "df_heure['base_departure_date_time'] = df_heure['base_departure_date_time'].apply(del_day)"
   ]
  },
  {
   "attachments": {},
   "cell_type": "markdown",
   "metadata": {},
   "source": [
    "On calcule le retard du train et on le convertit au format heure de `datetime`"
   ]
  },
  {
   "cell_type": "code",
   "execution_count": 14,
   "metadata": {},
   "outputs": [],
   "source": [
    "def conv_min(string):\n",
    "    return int(string[0:2])*60 + int(string[2:4])\n",
    "\n",
    "df_heure['retard'] = df_heure['departure_date_time'].apply(conv_min) - df_heure['base_departure_date_time'].apply(conv_min)"
   ]
  },
  {
   "cell_type": "code",
   "execution_count": 15,
   "metadata": {},
   "outputs": [],
   "source": [
    "def str_tps(str):\n",
    "    return datetime.datetime.strptime(str, '%H%M%S').time()\n",
    "\n",
    "df_heure['heure'] = df_heure['departure_date_time'].apply(str_tps)\n",
    "df_heure['old_heure'] = df_heure['base_departure_date_time'].apply(str_tps)"
   ]
  },
  {
   "attachments": {},
   "cell_type": "markdown",
   "metadata": {},
   "source": [
    "On retire le nom de la ville ou se situe la gare pour plus de lisibilité.\n",
    "\n",
    "_Exemple :_ `Paris Gare de Lyon (Paris)` devient `Paris Gare de Lyon`"
   ]
  },
  {
   "cell_type": "code",
   "execution_count": 16,
   "metadata": {},
   "outputs": [],
   "source": [
    "def del_par(string):\n",
    "    index = string.find(\"(\")\n",
    "    return string[:index]\n",
    "\n",
    "df_gare['direction'] = df_gare['direction'].apply(del_par)"
   ]
  },
  {
   "attachments": {},
   "cell_type": "markdown",
   "metadata": {},
   "source": [
    "On renome les colonnes du dataframe **df_gare** et on y ajoute :\n",
    "\n",
    "- Le jour de départ\n",
    "\n",
    "- L'heure de départ réelle\n",
    "\n",
    "- L'heure de départ prévue\n",
    "\n",
    "- Le retard au départ en minutes du train\n",
    "\n",
    "- L'identifiant du voyage"
   ]
  },
  {
   "cell_type": "code",
   "execution_count": 17,
   "metadata": {},
   "outputs": [],
   "source": [
    "df_gare = df_gare[['direction','network','trip_short_name']]\n",
    "df_gare.rename(columns = {'direction':'Destination'}, inplace = True)\n",
    "df_gare.rename(columns = {'network':'Train'}, inplace = True)\n",
    "df_gare.rename(columns = {'trip_short_name':'Numéro'}, inplace = True)\n",
    "\n",
    "df_gare['Jour'] = df_heure['jour']\n",
    "df_gare['Départ (réel)'] = df_heure['heure']\n",
    "df_gare['Départ (prévu)'] = df_heure['old_heure']\n",
    "df_gare['Retard (min)'] = df_heure['retard']\n",
    "df_gare['id'] = df_id['id']"
   ]
  },
  {
   "attachments": {},
   "cell_type": "markdown",
   "metadata": {},
   "source": [
    "## Obtention des arrêts et de la cause de retard du train"
   ]
  },
  {
   "attachments": {},
   "cell_type": "markdown",
   "metadata": {},
   "source": [
    "Création d'une fonction permettant de récupérer uniquement le nom de la gare dans le json et de supprimer les données superflues"
   ]
  },
  {
   "cell_type": "code",
   "execution_count": 18,
   "metadata": {},
   "outputs": [],
   "source": [
    "def get_name(string):\n",
    "    string = string[10:]\n",
    "    index_fin = string.find(\"', 'links'\")\n",
    "    return string[:index_fin]"
   ]
  },
  {
   "attachments": {},
   "cell_type": "markdown",
   "metadata": {},
   "source": [
    "Pour chaque train, on effectue un requête grâce à l'**id** du voyage afin de récupérer les arrêts et l'éventuelle cause du retard de celui-ci"
   ]
  },
  {
   "cell_type": "code",
   "execution_count": 19,
   "metadata": {},
   "outputs": [],
   "source": [
    "arrets = []\n",
    "causes = []\n",
    "\n",
    "for index, row in df_gare.iterrows():\n",
    "    id = row['id']\n",
    "    \n",
    "    # Il faut retirer la partie 'RealTime' de l'id pour faire la requête\n",
    "    if 'RealTime' in id:\n",
    "        index_id = id.index(\"RealTime\")\n",
    "        id = id[:index_id-1]\n",
    "\n",
    "    # On effectue la requête\n",
    "    link_voyage = 'https://api.sncf.com/v1/coverage/sncf/vehicle_journeys/' + id\n",
    "    req_arret = requests.get(link_voyage ,auth=(token, ''))\n",
    "    doc_voyage = json.loads(req_arret.text)\n",
    "\n",
    "    # On récupère la liste des arrêts du train\n",
    "    df_arret = pd.DataFrame(doc_voyage['vehicle_journeys'])\n",
    "    df_arret = pd.DataFrame(list(df_arret['stop_times']))\n",
    "    df_arret = df_arret.T\n",
    "    df_arret = pd.DataFrame(list(df_arret[0]))\n",
    "    df_arret['stop_point'] = df_arret['stop_point'].astype('str').apply(get_name)\n",
    "\n",
    "    # Si le train est en retard, on récupère la cause du retard\n",
    "    # On renvoie \"Retard non expliqué\" si la SNCF ne fournit pas plus d'informations sur le retard\n",
    "    if row['Retard (min)'] != 0:\n",
    "        df_retard = pd.DataFrame(doc_voyage['disruptions'])\n",
    "        if 'messages' in df_retard:\n",
    "            df_retard = pd.DataFrame(list(df_retard['messages'][0]))\n",
    "            causes.append(df_retard.iloc[0]['text'])\n",
    "        else:\n",
    "            causes.append(\"Retard non expliqué\")\n",
    "    else:\n",
    "        causes.append(\"\")\n",
    "\n",
    "    # On retire les gares que le trains a déjà traversées avant d'arriver à la gare choisie\n",
    "    # Il existe des gares à Paris qui ont plusieurs noms qui ne sont pas tous indéxés dans le dataset des gares françaises\n",
    "    # On créé donc une exception pour chacune d'entre elles\n",
    "    liste_arrets = list(df_arret['stop_point'])\n",
    "    if gare not in liste_arrets:\n",
    "        if \"Paris Gare de Lyon\" in liste_arrets:\n",
    "            index_gare = liste_arrets.index(\"Paris Gare de Lyon\")\n",
    "        if \"Paris - Gare de Lyon - Banlieue\" in liste_arrets:\n",
    "            index_gare = liste_arrets.index(\"Paris - Gare de Lyon - Banlieue\")\n",
    "        if \"Gare du Nord Surface\" in liste_arrets:\n",
    "            index_gare = liste_arrets.index(\"Gare du Nord Surface\")\n",
    "    else:\n",
    "        index_gare = liste_arrets.index(gare)\n",
    "    \n",
    "    # On ajoute donc que les gares pas encore traversées\n",
    "    liste_arrets = liste_arrets[index_gare+1:]\n",
    "    arrets.append(liste_arrets)"
   ]
  },
  {
   "attachments": {},
   "cell_type": "markdown",
   "metadata": {},
   "source": [
    "On ajoute la cause du retard ainsi que les arrêts au dataframe **df_gare**\n",
    "On retire aussi l'id du voyage qui ne sert plus à rien"
   ]
  },
  {
   "cell_type": "code",
   "execution_count": 20,
   "metadata": {},
   "outputs": [],
   "source": [
    "df_gare['Cause'] = causes\n",
    "df_gare['Arrêts'] = arrets\n",
    "df_gare = df_gare.drop(['id'], axis=1)"
   ]
  },
  {
   "attachments": {},
   "cell_type": "markdown",
   "metadata": {},
   "source": [
    "On affiche le dataframe final"
   ]
  },
  {
   "cell_type": "code",
   "execution_count": 21,
   "metadata": {},
   "outputs": [
    {
     "data": {
      "text/html": [
       "<div>\n",
       "<style scoped>\n",
       "    .dataframe tbody tr th:only-of-type {\n",
       "        vertical-align: middle;\n",
       "    }\n",
       "\n",
       "    .dataframe tbody tr th {\n",
       "        vertical-align: top;\n",
       "    }\n",
       "\n",
       "    .dataframe thead th {\n",
       "        text-align: right;\n",
       "    }\n",
       "</style>\n",
       "<table border=\"1\" class=\"dataframe\">\n",
       "  <thead>\n",
       "    <tr style=\"text-align: right;\">\n",
       "      <th></th>\n",
       "      <th>Destination</th>\n",
       "      <th>Train</th>\n",
       "      <th>Numéro</th>\n",
       "      <th>Jour</th>\n",
       "      <th>Départ (réel)</th>\n",
       "      <th>Départ (prévu)</th>\n",
       "      <th>Retard (min)</th>\n",
       "      <th>Cause</th>\n",
       "      <th>Arrêts</th>\n",
       "    </tr>\n",
       "  </thead>\n",
       "  <tbody>\n",
       "    <tr>\n",
       "      <th>0</th>\n",
       "      <td>Génolhac</td>\n",
       "      <td>TER</td>\n",
       "      <td>877516</td>\n",
       "      <td>05-03-2023</td>\n",
       "      <td>16:52:00</td>\n",
       "      <td>16:52:00</td>\n",
       "      <td>0</td>\n",
       "      <td></td>\n",
       "      <td>[Grand-Combe - La Pise, La Levade, Sainte-Céci...</td>\n",
       "    </tr>\n",
       "    <tr>\n",
       "      <th>3</th>\n",
       "      <td>Clermont-Ferrand</td>\n",
       "      <td>TER</td>\n",
       "      <td>873994</td>\n",
       "      <td>05-03-2023</td>\n",
       "      <td>18:00:00</td>\n",
       "      <td>17:50:00</td>\n",
       "      <td>10</td>\n",
       "      <td>Prise en charge de clients en correspondance</td>\n",
       "      <td>[Grand-Combe - La Pise, La Levade, Sainte-Céci...</td>\n",
       "    </tr>\n",
       "    <tr>\n",
       "      <th>5</th>\n",
       "      <td>Nîmes Centre</td>\n",
       "      <td>TER</td>\n",
       "      <td>34003</td>\n",
       "      <td>05-03-2023</td>\n",
       "      <td>18:05:00</td>\n",
       "      <td>18:05:00</td>\n",
       "      <td>0</td>\n",
       "      <td></td>\n",
       "      <td>[Nîmes Centre]</td>\n",
       "    </tr>\n",
       "    <tr>\n",
       "      <th>6</th>\n",
       "      <td>Marvejols</td>\n",
       "      <td>TER</td>\n",
       "      <td>877714</td>\n",
       "      <td>05-03-2023</td>\n",
       "      <td>18:52:00</td>\n",
       "      <td>18:52:00</td>\n",
       "      <td>0</td>\n",
       "      <td></td>\n",
       "      <td>[Grand-Combe - La Pise, Chamborigaud, Génolhac...</td>\n",
       "    </tr>\n",
       "    <tr>\n",
       "      <th>7</th>\n",
       "      <td>Nîmes Centre</td>\n",
       "      <td>TER</td>\n",
       "      <td>877715</td>\n",
       "      <td>05-03-2023</td>\n",
       "      <td>19:30:00</td>\n",
       "      <td>19:30:00</td>\n",
       "      <td>0</td>\n",
       "      <td></td>\n",
       "      <td>[Saint-Geniès-de-Malgoirès, Nîmes Centre]</td>\n",
       "    </tr>\n",
       "    <tr>\n",
       "      <th>8</th>\n",
       "      <td>Nîmes Centre</td>\n",
       "      <td>TER</td>\n",
       "      <td>873995</td>\n",
       "      <td>05-03-2023</td>\n",
       "      <td>21:46:30</td>\n",
       "      <td>21:31:30</td>\n",
       "      <td>15</td>\n",
       "      <td>Prise en charge de clients en correspondance</td>\n",
       "      <td>[Saint-Geniès-de-Malgoirès, Nîmes Centre]</td>\n",
       "    </tr>\n",
       "    <tr>\n",
       "      <th>9</th>\n",
       "      <td>Nîmes Centre</td>\n",
       "      <td>TER</td>\n",
       "      <td>877501</td>\n",
       "      <td>06-03-2023</td>\n",
       "      <td>05:58:00</td>\n",
       "      <td>05:58:00</td>\n",
       "      <td>0</td>\n",
       "      <td></td>\n",
       "      <td>[Boucoiran, Nozières - Brignon, Saint-Geniès-d...</td>\n",
       "    </tr>\n",
       "    <tr>\n",
       "      <th>10</th>\n",
       "      <td>Nîmes Centre</td>\n",
       "      <td>TER</td>\n",
       "      <td>877503</td>\n",
       "      <td>06-03-2023</td>\n",
       "      <td>06:28:00</td>\n",
       "      <td>06:28:00</td>\n",
       "      <td>0</td>\n",
       "      <td></td>\n",
       "      <td>[Nozières - Brignon, Saint-Geniès-de-Malgoirès...</td>\n",
       "    </tr>\n",
       "    <tr>\n",
       "      <th>11</th>\n",
       "      <td>Génolhac</td>\n",
       "      <td>TER</td>\n",
       "      <td>877500</td>\n",
       "      <td>06-03-2023</td>\n",
       "      <td>06:48:30</td>\n",
       "      <td>06:48:30</td>\n",
       "      <td>0</td>\n",
       "      <td></td>\n",
       "      <td>[Grand-Combe - La Pise, Chamborigaud, Génolhac]</td>\n",
       "    </tr>\n",
       "    <tr>\n",
       "      <th>12</th>\n",
       "      <td>Nîmes Centre</td>\n",
       "      <td>TER</td>\n",
       "      <td>877505</td>\n",
       "      <td>06-03-2023</td>\n",
       "      <td>06:56:00</td>\n",
       "      <td>06:56:00</td>\n",
       "      <td>0</td>\n",
       "      <td></td>\n",
       "      <td>[Boucoiran, Nozières - Brignon, Saint-Geniès-d...</td>\n",
       "    </tr>\n",
       "    <tr>\n",
       "      <th>13</th>\n",
       "      <td>Nîmes Centre</td>\n",
       "      <td>TER</td>\n",
       "      <td>877703</td>\n",
       "      <td>06-03-2023</td>\n",
       "      <td>07:23:00</td>\n",
       "      <td>07:23:00</td>\n",
       "      <td>0</td>\n",
       "      <td></td>\n",
       "      <td>[Saint-Geniès-de-Malgoirès, Fons - Saint-Mamer...</td>\n",
       "    </tr>\n",
       "    <tr>\n",
       "      <th>14</th>\n",
       "      <td>Langogne</td>\n",
       "      <td>TER</td>\n",
       "      <td>878918</td>\n",
       "      <td>06-03-2023</td>\n",
       "      <td>07:53:30</td>\n",
       "      <td>07:53:30</td>\n",
       "      <td>0</td>\n",
       "      <td></td>\n",
       "      <td>[Grand-Combe - La Pise, La Levade, Sainte-Céci...</td>\n",
       "    </tr>\n",
       "    <tr>\n",
       "      <th>15</th>\n",
       "      <td>Nîmes Centre</td>\n",
       "      <td>TER</td>\n",
       "      <td>877521</td>\n",
       "      <td>06-03-2023</td>\n",
       "      <td>08:01:00</td>\n",
       "      <td>08:01:00</td>\n",
       "      <td>0</td>\n",
       "      <td></td>\n",
       "      <td>[Nozières - Brignon, Saint-Geniès-de-Malgoirès...</td>\n",
       "    </tr>\n",
       "    <tr>\n",
       "      <th>16</th>\n",
       "      <td>Nîmes Centre</td>\n",
       "      <td>TER</td>\n",
       "      <td>877507</td>\n",
       "      <td>06-03-2023</td>\n",
       "      <td>08:34:00</td>\n",
       "      <td>08:34:00</td>\n",
       "      <td>0</td>\n",
       "      <td></td>\n",
       "      <td>[Saint-Geniès-de-Malgoirès, Nîmes Centre]</td>\n",
       "    </tr>\n",
       "    <tr>\n",
       "      <th>17</th>\n",
       "      <td>Nîmes Centre</td>\n",
       "      <td>TER</td>\n",
       "      <td>877509</td>\n",
       "      <td>06-03-2023</td>\n",
       "      <td>09:33:00</td>\n",
       "      <td>09:33:00</td>\n",
       "      <td>0</td>\n",
       "      <td></td>\n",
       "      <td>[Saint-Geniès-de-Malgoirès, Nîmes Centre]</td>\n",
       "    </tr>\n",
       "    <tr>\n",
       "      <th>18</th>\n",
       "      <td>Nîmes Centre</td>\n",
       "      <td>TER</td>\n",
       "      <td>877531</td>\n",
       "      <td>06-03-2023</td>\n",
       "      <td>10:35:00</td>\n",
       "      <td>10:35:00</td>\n",
       "      <td>0</td>\n",
       "      <td></td>\n",
       "      <td>[Saint-Geniès-de-Malgoirès, Nîmes Centre]</td>\n",
       "    </tr>\n",
       "    <tr>\n",
       "      <th>19</th>\n",
       "      <td>Nîmes Centre</td>\n",
       "      <td>TER</td>\n",
       "      <td>873991</td>\n",
       "      <td>06-03-2023</td>\n",
       "      <td>11:25:00</td>\n",
       "      <td>11:25:00</td>\n",
       "      <td>0</td>\n",
       "      <td></td>\n",
       "      <td>[Saint-Geniès-de-Malgoirès, Nîmes Centre]</td>\n",
       "    </tr>\n",
       "  </tbody>\n",
       "</table>\n",
       "</div>"
      ],
      "text/plain": [
       "          Destination Train  Numéro        Jour Départ (réel) Départ (prévu)  \\\n",
       "0           Génolhac    TER  877516  05-03-2023      16:52:00       16:52:00   \n",
       "3   Clermont-Ferrand    TER  873994  05-03-2023      18:00:00       17:50:00   \n",
       "5       Nîmes Centre    TER   34003  05-03-2023      18:05:00       18:05:00   \n",
       "6          Marvejols    TER  877714  05-03-2023      18:52:00       18:52:00   \n",
       "7       Nîmes Centre    TER  877715  05-03-2023      19:30:00       19:30:00   \n",
       "8       Nîmes Centre    TER  873995  05-03-2023      21:46:30       21:31:30   \n",
       "9       Nîmes Centre    TER  877501  06-03-2023      05:58:00       05:58:00   \n",
       "10      Nîmes Centre    TER  877503  06-03-2023      06:28:00       06:28:00   \n",
       "11          Génolhac    TER  877500  06-03-2023      06:48:30       06:48:30   \n",
       "12      Nîmes Centre    TER  877505  06-03-2023      06:56:00       06:56:00   \n",
       "13      Nîmes Centre    TER  877703  06-03-2023      07:23:00       07:23:00   \n",
       "14          Langogne    TER  878918  06-03-2023      07:53:30       07:53:30   \n",
       "15      Nîmes Centre    TER  877521  06-03-2023      08:01:00       08:01:00   \n",
       "16      Nîmes Centre    TER  877507  06-03-2023      08:34:00       08:34:00   \n",
       "17      Nîmes Centre    TER  877509  06-03-2023      09:33:00       09:33:00   \n",
       "18      Nîmes Centre    TER  877531  06-03-2023      10:35:00       10:35:00   \n",
       "19      Nîmes Centre    TER  873991  06-03-2023      11:25:00       11:25:00   \n",
       "\n",
       "    Retard (min)                                         Cause  \\\n",
       "0              0                                                 \n",
       "3             10  Prise en charge de clients en correspondance   \n",
       "5              0                                                 \n",
       "6              0                                                 \n",
       "7              0                                                 \n",
       "8             15  Prise en charge de clients en correspondance   \n",
       "9              0                                                 \n",
       "10             0                                                 \n",
       "11             0                                                 \n",
       "12             0                                                 \n",
       "13             0                                                 \n",
       "14             0                                                 \n",
       "15             0                                                 \n",
       "16             0                                                 \n",
       "17             0                                                 \n",
       "18             0                                                 \n",
       "19             0                                                 \n",
       "\n",
       "                                               Arrêts  \n",
       "0   [Grand-Combe - La Pise, La Levade, Sainte-Céci...  \n",
       "3   [Grand-Combe - La Pise, La Levade, Sainte-Céci...  \n",
       "5                                      [Nîmes Centre]  \n",
       "6   [Grand-Combe - La Pise, Chamborigaud, Génolhac...  \n",
       "7           [Saint-Geniès-de-Malgoirès, Nîmes Centre]  \n",
       "8           [Saint-Geniès-de-Malgoirès, Nîmes Centre]  \n",
       "9   [Boucoiran, Nozières - Brignon, Saint-Geniès-d...  \n",
       "10  [Nozières - Brignon, Saint-Geniès-de-Malgoirès...  \n",
       "11    [Grand-Combe - La Pise, Chamborigaud, Génolhac]  \n",
       "12  [Boucoiran, Nozières - Brignon, Saint-Geniès-d...  \n",
       "13  [Saint-Geniès-de-Malgoirès, Fons - Saint-Mamer...  \n",
       "14  [Grand-Combe - La Pise, La Levade, Sainte-Céci...  \n",
       "15  [Nozières - Brignon, Saint-Geniès-de-Malgoirès...  \n",
       "16          [Saint-Geniès-de-Malgoirès, Nîmes Centre]  \n",
       "17          [Saint-Geniès-de-Malgoirès, Nîmes Centre]  \n",
       "18          [Saint-Geniès-de-Malgoirès, Nîmes Centre]  \n",
       "19          [Saint-Geniès-de-Malgoirès, Nîmes Centre]  "
      ]
     },
     "execution_count": 21,
     "metadata": {},
     "output_type": "execute_result"
    }
   ],
   "source": [
    "df_gare"
   ]
  },
  {
   "attachments": {},
   "cell_type": "markdown",
   "metadata": {},
   "source": [
    "On exporte le dataframe en fichier _CSV_"
   ]
  },
  {
   "cell_type": "code",
   "execution_count": 22,
   "metadata": {},
   "outputs": [],
   "source": [
    "df_gare.to_csv('Departure.csv', sep=',', index=False, header=True)"
   ]
  }
 ],
 "metadata": {
  "kernelspec": {
   "display_name": "cours",
   "language": "python",
   "name": "python3"
  },
  "language_info": {
   "codemirror_mode": {
    "name": "ipython",
    "version": 3
   },
   "file_extension": ".py",
   "mimetype": "text/x-python",
   "name": "python",
   "nbconvert_exporter": "python",
   "pygments_lexer": "ipython3",
   "version": "3.11.0"
  },
  "orig_nbformat": 4
 },
 "nbformat": 4,
 "nbformat_minor": 2
}
