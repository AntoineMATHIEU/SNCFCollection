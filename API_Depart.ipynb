{
 "cells": [
  {
   "attachments": {},
   "cell_type": "markdown",
   "metadata": {},
   "source": [
    "Ce script permet d'afficher les trains au départ de n'importe quelle gare française.\n",
    "\n",
    "La liste des noms des gares française se trouve dans le fichier Excel **liste_gares.xlsx**"
   ]
  },
  {
   "attachments": {},
   "cell_type": "markdown",
   "metadata": {},
   "source": [
    "# Code"
   ]
  },
  {
   "attachments": {},
   "cell_type": "markdown",
   "metadata": {},
   "source": [
    "## Import des Modules"
   ]
  },
  {
   "cell_type": "code",
   "execution_count": 982,
   "metadata": {},
   "outputs": [],
   "source": [
    "import pandas as pd\n",
    "import requests\n",
    "import json\n",
    "import datetime"
   ]
  },
  {
   "attachments": {},
   "cell_type": "markdown",
   "metadata": {},
   "source": [
    "## Choix de la gare et du nombre de trains affichés"
   ]
  },
  {
   "cell_type": "code",
   "execution_count": 983,
   "metadata": {},
   "outputs": [],
   "source": [
    "gare = \"Nîmes\"\n",
    "\n",
    "# Max 250\n",
    "nb_trains = 50"
   ]
  },
  {
   "attachments": {},
   "cell_type": "markdown",
   "metadata": {},
   "source": [
    "Mise en varaible du token de connexion à l'API SNCF V1"
   ]
  },
  {
   "cell_type": "code",
   "execution_count": 984,
   "metadata": {},
   "outputs": [],
   "source": [
    "token = 'e7b7fedd-71d0-48c6-8cc7-749e22ba8e80'"
   ]
  },
  {
   "attachments": {},
   "cell_type": "markdown",
   "metadata": {},
   "source": [
    "## Création du dictionnaire des gares françaises"
   ]
  },
  {
   "attachments": {},
   "cell_type": "markdown",
   "metadata": {},
   "source": [
    "Requête à l'API SNCF (pas besoin de token ici) afin de récupérer la liste des gares françaises et l'identifiant associé"
   ]
  },
  {
   "cell_type": "code",
   "execution_count": 985,
   "metadata": {},
   "outputs": [
    {
     "name": "stdout",
     "output_type": "stream",
     "text": [
      "Nombre de gares : 3220\n"
     ]
    }
   ],
   "source": [
    "req_gare = requests.get(\"https://ressources.data.sncf.com/api/records/1.0/search/?dataset=referentiel-gares-voyageurs&q=&rows=3220&sort=gare_alias_libelle_noncontraint&facet=departement_libellemin&facet=segmentdrg_libelle&facet=gare_agencegc_libelle&facet=gare_regionsncf_libelle&facet=gare_ug_libelle\")\n",
    "doc_gare = json.loads(req_gare.text)\n",
    "row_gare = len(doc_gare['records'])\n",
    "print(f'Nombre de gares : {row_gare}')"
   ]
  },
  {
   "attachments": {},
   "cell_type": "markdown",
   "metadata": {},
   "source": [
    "On ne garde que le nom de la gare et l'identifiant"
   ]
  },
  {
   "cell_type": "code",
   "execution_count": 986,
   "metadata": {},
   "outputs": [],
   "source": [
    "df_dic = pd.DataFrame(doc_gare['records'])\n",
    "df_dic = pd.DataFrame(list(df_dic['fields']))\n",
    "df_dic = df_dic[['alias_libelle_noncontraint','uic_code']]"
   ]
  },
  {
   "attachments": {},
   "cell_type": "markdown",
   "metadata": {},
   "source": [
    "On retire les `0` inutiles au début de l'identifiant de gare"
   ]
  },
  {
   "cell_type": "code",
   "execution_count": 987,
   "metadata": {},
   "outputs": [],
   "source": [
    "def removezero(string):\n",
    "    return 'SNCF:' + str(string)[2:]\n",
    "\n",
    "df_dic['uic_code'] = df_dic['uic_code'].apply(removezero)"
   ]
  },
  {
   "attachments": {},
   "cell_type": "markdown",
   "metadata": {},
   "source": [
    "On convertit le dataframe en dictionnaire python"
   ]
  },
  {
   "cell_type": "code",
   "execution_count": 988,
   "metadata": {},
   "outputs": [
    {
     "name": "stderr",
     "output_type": "stream",
     "text": [
      "/var/folders/bg/vbvjjnmj0hv9wmb92ngxcq9m0000gn/T/ipykernel_4613/3118890846.py:2: UserWarning: DataFrame columns are not unique, some columns will be omitted.\n",
      "  dic_gare = df_dic.set_index('alias_libelle_noncontraint').T.to_dict('list')\n"
     ]
    }
   ],
   "source": [
    "df_dic.convert_dtypes()\n",
    "dic_gare = df_dic.set_index('alias_libelle_noncontraint').T.to_dict('list')"
   ]
  },
  {
   "attachments": {},
   "cell_type": "markdown",
   "metadata": {},
   "source": [
    "Pour des raisons de temps on ne vas garder un dictionnaire de seulement 45 gares (Sinon la requête sur toutes les gares prendrait 2 heures)\n",
    "On vas prendre donc le csv des gare que l'on vas regarder "
   ]
  },
  {
   "attachments": {},
   "cell_type": "markdown",
   "metadata": {},
   "source": [
    "## Obtention des trains au départ en gare"
   ]
  },
  {
   "attachments": {},
   "cell_type": "markdown",
   "metadata": {},
   "source": [
    "Requête à l'API SNCF afin de récupérer la liste des trains au départ en gare"
   ]
  },
  {
   "cell_type": "code",
   "execution_count": 989,
   "metadata": {},
   "outputs": [],
   "source": [
    "link = 'https://api.sncf.com/v1/coverage/sncf/stop_areas/stop_area:' + dic_gare[gare][0] + '/departures?count=' + str(nb_trains)\n",
    "req = requests.get(link,auth=(token, ''))\n",
    "#print(link)"
   ]
  },
  {
   "cell_type": "code",
   "execution_count": 990,
   "metadata": {},
   "outputs": [
    {
     "name": "stdout",
     "output_type": "stream",
     "text": [
      "Nombre de trains : 37\n"
     ]
    }
   ],
   "source": [
    "doc = json.loads(req.text)\n",
    "row = len(doc['departures'])\n",
    "print(f'Nombre de trains : {row}')"
   ]
  },
  {
   "attachments": {},
   "cell_type": "markdown",
   "metadata": {},
   "source": [
    "On découpe le résultat de la requête en 3 dataframes distincts :\n",
    "\n",
    "- **df_gare** qui donne les informations sur la direction du train, son type (TER, TGV, etc.) et son numéro\n",
    "\n",
    "- **df_heure** qui donne des informations sur un éventuel retard du train\n",
    "\n",
    "- **df_id** qui contient l'identifiant du voyage, ce qui nous servira à récupérer d'autres données plus tard"
   ]
  },
  {
   "cell_type": "code",
   "execution_count": 991,
   "metadata": {},
   "outputs": [],
   "source": [
    "df = pd.DataFrame(doc['departures'])\n",
    "df_gare = pd.DataFrame(list(df['display_informations']))\n",
    "df_heure = pd.DataFrame(list(df['stop_date_time']))\n",
    "df_id = pd.DataFrame(list(df['links']))\n",
    "df_id = pd.DataFrame(list(df_id[1]))"
   ]
  },
  {
   "attachments": {},
   "cell_type": "markdown",
   "metadata": {},
   "source": [
    "On récupère le jour de départ du train"
   ]
  },
  {
   "cell_type": "code",
   "execution_count": 992,
   "metadata": {},
   "outputs": [],
   "source": [
    "def get_day(string):\n",
    "    string = string[:8]\n",
    "    return string[6:8]+'-'+string[4:6]+'-'+string[0:4]\n",
    "\n",
    "df_heure['jour'] = df_heure['departure_date_time'].apply(get_day)"
   ]
  },
  {
   "attachments": {},
   "cell_type": "markdown",
   "metadata": {},
   "source": [
    "On supprime les RER et les Transiliens"
   ]
  },
  {
   "cell_type": "code",
   "execution_count": 993,
   "metadata": {},
   "outputs": [],
   "source": [
    "supr = df_gare.loc[df_gare['network'] == 'RER'].index\n",
    "df_gare = df_gare.drop(supr)\n",
    "df_heure = df_heure.drop(supr)"
   ]
  },
  {
   "cell_type": "code",
   "execution_count": 994,
   "metadata": {},
   "outputs": [],
   "source": [
    "supr = df_gare.loc[df_gare['network'] == 'TRANSILIEN'].index\n",
    "df_gare = df_gare.drop(supr)\n",
    "df_heure = df_heure.drop(supr)"
   ]
  },
  {
   "attachments": {},
   "cell_type": "markdown",
   "metadata": {},
   "source": [
    "On supprime les trains annulés ou remplacés"
   ]
  },
  {
   "cell_type": "code",
   "execution_count": 995,
   "metadata": {},
   "outputs": [],
   "source": [
    "#df_heure = df_heure.drop(index=df_heure[df_heure['base_departure_date_time'].isnull()].index)\n",
    "#df_gare = df_gare.drop(index=df_gare[df_gare['network']=='additional service'].index)"
   ]
  },
  {
   "cell_type": "code",
   "execution_count": 996,
   "metadata": {},
   "outputs": [],
   "source": [
    "supr = df_gare.loc[df_heure['base_departure_date_time'].isnull()].index\n",
    "df_gare = df_gare.drop(supr)\n",
    "df_heure = df_heure.drop(supr)"
   ]
  },
  {
   "attachments": {},
   "cell_type": "markdown",
   "metadata": {},
   "source": [
    "On récupère l'heure de départ prévue et réelle du train"
   ]
  },
  {
   "cell_type": "code",
   "execution_count": 997,
   "metadata": {},
   "outputs": [],
   "source": [
    "def del_day(string):\n",
    "    return str(string)[9:]\n",
    "\n",
    "df_heure['departure_date_time'] = df_heure['departure_date_time'].apply(del_day)\n",
    "df_heure['base_departure_date_time'] = df_heure['base_departure_date_time'].apply(del_day)"
   ]
  },
  {
   "attachments": {},
   "cell_type": "markdown",
   "metadata": {},
   "source": [
    "On calcule le retard du train et on le convertit au format heure de `datetime`"
   ]
  },
  {
   "cell_type": "code",
   "execution_count": 998,
   "metadata": {},
   "outputs": [],
   "source": [
    "def conv_min(string):\n",
    "    return int(string[0:2])*60 + int(string[2:4])\n",
    "\n",
    "df_heure['retard'] = df_heure['departure_date_time'].apply(conv_min) - df_heure['base_departure_date_time'].apply(conv_min)"
   ]
  },
  {
   "cell_type": "code",
   "execution_count": 999,
   "metadata": {},
   "outputs": [],
   "source": [
    "def str_tps(str):\n",
    "    return datetime.datetime.strptime(str, '%H%M%S').time()\n",
    "\n",
    "df_heure['heure'] = df_heure['departure_date_time'].apply(str_tps)\n",
    "df_heure['old_heure'] = df_heure['base_departure_date_time'].apply(str_tps)"
   ]
  },
  {
   "attachments": {},
   "cell_type": "markdown",
   "metadata": {},
   "source": [
    "On retire le nom de la ville ou se situe la gare pour plus de lisibilité.\n",
    "\n",
    "_Exemple :_ `Paris Gare de Lyon (Paris)` devient `Paris Gare de Lyon`"
   ]
  },
  {
   "cell_type": "code",
   "execution_count": 1000,
   "metadata": {},
   "outputs": [],
   "source": [
    "def del_par(string):\n",
    "    index = string.find(\"(\")\n",
    "    return string[:index]\n",
    "\n",
    "df_gare['direction'] = df_gare['direction'].apply(del_par)"
   ]
  },
  {
   "attachments": {},
   "cell_type": "markdown",
   "metadata": {},
   "source": [
    "On renome les colonnes du dataframe **df_gare** et on y ajoute :\n",
    "\n",
    "- Le jour de départ\n",
    "\n",
    "- L'heure de départ réelle\n",
    "\n",
    "- L'heure de départ prévue\n",
    "\n",
    "- Le retard au départ en minutes du train\n",
    "\n",
    "- L'identifiant du voyage"
   ]
  },
  {
   "cell_type": "code",
   "execution_count": 1001,
   "metadata": {},
   "outputs": [],
   "source": [
    "if len(df_gare) != 0:\n",
    "    df_gare = df_gare[['direction','network','trip_short_name']]\n",
    "    df_gare.rename(columns = {'direction':'Destination'}, inplace = True)\n",
    "    df_gare.rename(columns = {'network':'Train'}, inplace = True)\n",
    "    df_gare.rename(columns = {'trip_short_name':'Numéro'}, inplace = True)\n",
    "\n",
    "    df_gare['Jour'] = df_heure['jour']\n",
    "    df_gare['Départ (réel)'] = df_heure['heure']\n",
    "    df_gare['Départ (prévu)'] = df_heure['old_heure']\n",
    "    df_gare['Retard (min)'] = df_heure['retard']\n",
    "    df_gare['id'] = df_id['id']"
   ]
  },
  {
   "attachments": {},
   "cell_type": "markdown",
   "metadata": {},
   "source": [
    "## Obtention des arrêts et de la cause de retard du train"
   ]
  },
  {
   "attachments": {},
   "cell_type": "markdown",
   "metadata": {},
   "source": [
    "Création d'une fonction permettant de récupérer uniquement le nom de la gare dans le json et de supprimer les données superflues"
   ]
  },
  {
   "cell_type": "code",
   "execution_count": 1002,
   "metadata": {},
   "outputs": [],
   "source": [
    "def get_name(string):\n",
    "    string = string[10:]\n",
    "    index_fin = string.find(\"', 'links'\")\n",
    "    return string[:index_fin]"
   ]
  },
  {
   "attachments": {},
   "cell_type": "markdown",
   "metadata": {},
   "source": [
    "Création d'une fonction permettant de récupérer uniquement l'id de la gare dans le json et de supprimer les données superflues"
   ]
  },
  {
   "cell_type": "code",
   "execution_count": 1003,
   "metadata": {},
   "outputs": [],
   "source": [
    "def get_id(string):\n",
    "    index_deb = string.find(\"'id': 'stop_point:\")\n",
    "    string = string[index_deb+18:]\n",
    "    return string[:13]"
   ]
  },
  {
   "attachments": {},
   "cell_type": "markdown",
   "metadata": {},
   "source": [
    "Pour chaque train, on effectue un requête grâce à l'**id** du voyage afin de récupérer les arrêts et l'éventuelle cause du retard de celui-ci"
   ]
  },
  {
   "cell_type": "code",
   "execution_count": 1004,
   "metadata": {},
   "outputs": [],
   "source": [
    "provenance = []\n",
    "arrets = []\n",
    "causes = []\n",
    "\n",
    "for index, row in df_gare.iterrows():\n",
    "    id = row['id']\n",
    "    \n",
    "    # Il faut retirer la partie 'RealTime' de l'id pour faire la requête\n",
    "    if 'RealTime' in id:\n",
    "        index_id = id.index(\"RealTime\")\n",
    "        id = id[:index_id-1]\n",
    "\n",
    "    # On effectue la requête\n",
    "    link_voyage = 'https://api.sncf.com/v1/coverage/sncf/vehicle_journeys/' + id\n",
    "    req_arret = requests.get(link_voyage ,auth=(token, ''))\n",
    "    doc_voyage = json.loads(req_arret.text)\n",
    "\n",
    "    # On récupère la liste des arrêts du train\n",
    "    df_arret = pd.DataFrame(doc_voyage['vehicle_journeys'])\n",
    "    df_arret = pd.DataFrame(list(df_arret['stop_times']))\n",
    "    df_arret = df_arret.T\n",
    "    df_arret = pd.DataFrame(list(df_arret[0]))\n",
    "    df_arret['stop_point_id'] = df_arret['stop_point'].astype('str').apply(get_id)\n",
    "    df_arret['stop_point'] = df_arret['stop_point'].astype('str').apply(get_name)\n",
    "    provenance.append(df_arret['stop_point'][0])\n",
    "\n",
    "    # Si le train est en retard, on récupère la cause du retard\n",
    "    # On renvoie \"Retard non expliqué\" si la SNCF ne fournit pas plus d'informations sur le retard\n",
    "    if row['Retard (min)'] != 0:\n",
    "        df_retard = pd.DataFrame(doc_voyage['disruptions'])\n",
    "        if 'messages' in df_retard:\n",
    "            df_retard = pd.DataFrame(list(df_retard['messages'][0]))\n",
    "            causes.append(df_retard.iloc[0]['text'])\n",
    "        else:\n",
    "            causes.append(\"Retard non expliqué\")\n",
    "    else:\n",
    "        causes.append(\"\")\n",
    "\n",
    "    # On retire les gares que le trains a déjà traversées avant d'arriver à la gare choisie\n",
    "    liste_arrets = [list(df_arret['stop_point']),list(df_arret['stop_point_id'])]\n",
    "    index_gare = liste_arrets[1].index(dic_gare[gare][0])\n",
    "    \n",
    "    # On ajoute donc que les gares pas encore traversées\n",
    "    liste_arrets = liste_arrets[0][index_gare+1:]\n",
    "    arrets.append(liste_arrets)"
   ]
  },
  {
   "attachments": {},
   "cell_type": "markdown",
   "metadata": {},
   "source": [
    "On ajoute la provenance du train, la cause du retard ainsi que les arrêts au dataframe **df_gare**\n",
    "On retire aussi l'id du voyage qui ne sert plus à rien"
   ]
  },
  {
   "cell_type": "code",
   "execution_count": 1005,
   "metadata": {},
   "outputs": [],
   "source": [
    "df_gare['Cause'] = causes\n",
    "df_gare['Arrêts'] = arrets\n",
    "df_gare.insert(0, 'Provenance', provenance)\n",
    "if len(df_gare) != 0:\n",
    "    df_gare = df_gare.drop(['id'], axis=1)"
   ]
  },
  {
   "attachments": {},
   "cell_type": "markdown",
   "metadata": {},
   "source": [
    "On affiche le dataframe final"
   ]
  },
  {
   "cell_type": "code",
   "execution_count": 1006,
   "metadata": {},
   "outputs": [
    {
     "data": {
      "text/html": [
       "<div>\n",
       "<style scoped>\n",
       "    .dataframe tbody tr th:only-of-type {\n",
       "        vertical-align: middle;\n",
       "    }\n",
       "\n",
       "    .dataframe tbody tr th {\n",
       "        vertical-align: top;\n",
       "    }\n",
       "\n",
       "    .dataframe thead th {\n",
       "        text-align: right;\n",
       "    }\n",
       "</style>\n",
       "<table border=\"1\" class=\"dataframe\">\n",
       "  <thead>\n",
       "    <tr style=\"text-align: right;\">\n",
       "      <th></th>\n",
       "      <th>Provenance</th>\n",
       "      <th>Destination</th>\n",
       "      <th>Train</th>\n",
       "      <th>Numéro</th>\n",
       "      <th>Jour</th>\n",
       "      <th>Départ (réel)</th>\n",
       "      <th>Départ (prévu)</th>\n",
       "      <th>Retard (min)</th>\n",
       "      <th>Cause</th>\n",
       "      <th>Arrêts</th>\n",
       "    </tr>\n",
       "  </thead>\n",
       "  <tbody>\n",
       "    <tr>\n",
       "      <th>2</th>\n",
       "      <td>Nîmes Centre</td>\n",
       "      <td>Port-Bou</td>\n",
       "      <td>TER</td>\n",
       "      <td>86969</td>\n",
       "      <td>07-03-2023</td>\n",
       "      <td>06:05:00</td>\n",
       "      <td>06:05:00</td>\n",
       "      <td>0</td>\n",
       "      <td></td>\n",
       "      <td>[Vergèze - Codognan, Lunel, Baillargues, Montp...</td>\n",
       "    </tr>\n",
       "    <tr>\n",
       "      <th>4</th>\n",
       "      <td>Montpellier Saint-Roch</td>\n",
       "      <td>Paris - Gare de Lyon - Hall 1 &amp; 2</td>\n",
       "      <td>TGV INOUI</td>\n",
       "      <td>6200</td>\n",
       "      <td>07-03-2023</td>\n",
       "      <td>06:19:00</td>\n",
       "      <td>06:19:00</td>\n",
       "      <td>0</td>\n",
       "      <td></td>\n",
       "      <td>[Valence TGV Rhône-Alpes Sud, Paris - Gare de ...</td>\n",
       "    </tr>\n",
       "    <tr>\n",
       "      <th>8</th>\n",
       "      <td>Avignon Centre</td>\n",
       "      <td>Perpignan</td>\n",
       "      <td>TER</td>\n",
       "      <td>876407</td>\n",
       "      <td>07-03-2023</td>\n",
       "      <td>08:15:00</td>\n",
       "      <td>08:15:00</td>\n",
       "      <td>0</td>\n",
       "      <td></td>\n",
       "      <td>[Vergèze - Codognan, Lunel, Baillargues, Montp...</td>\n",
       "    </tr>\n",
       "    <tr>\n",
       "      <th>11</th>\n",
       "      <td>Perpignan</td>\n",
       "      <td>Paris - Gare de Lyon - Hall 1 &amp; 2</td>\n",
       "      <td>TGV INOUI</td>\n",
       "      <td>6202</td>\n",
       "      <td>07-03-2023</td>\n",
       "      <td>09:17:30</td>\n",
       "      <td>09:17:30</td>\n",
       "      <td>0</td>\n",
       "      <td></td>\n",
       "      <td>[Valence TGV Rhône-Alpes Sud, Paris - Gare de ...</td>\n",
       "    </tr>\n",
       "    <tr>\n",
       "      <th>12</th>\n",
       "      <td>Paris - Gare de Lyon - Hall 1 &amp; 2</td>\n",
       "      <td>Montpellier Saint-Roch</td>\n",
       "      <td>TGV INOUI</td>\n",
       "      <td>6221</td>\n",
       "      <td>07-03-2023</td>\n",
       "      <td>10:48:00</td>\n",
       "      <td>10:48:00</td>\n",
       "      <td>0</td>\n",
       "      <td></td>\n",
       "      <td>[Montpellier Saint-Roch]</td>\n",
       "    </tr>\n",
       "    <tr>\n",
       "      <th>13</th>\n",
       "      <td>Avignon Centre</td>\n",
       "      <td>Port-Bou</td>\n",
       "      <td>TER</td>\n",
       "      <td>86985</td>\n",
       "      <td>07-03-2023</td>\n",
       "      <td>12:14:30</td>\n",
       "      <td>12:14:30</td>\n",
       "      <td>0</td>\n",
       "      <td></td>\n",
       "      <td>[Vergèze - Codognan, Lunel, Baillargues, Montp...</td>\n",
       "    </tr>\n",
       "    <tr>\n",
       "      <th>15</th>\n",
       "      <td>Paris - Gare de Lyon - Hall 1 &amp; 2</td>\n",
       "      <td>Barcelona Sants</td>\n",
       "      <td>TGV INOUI</td>\n",
       "      <td>9713</td>\n",
       "      <td>07-03-2023</td>\n",
       "      <td>12:48:00</td>\n",
       "      <td>12:48:00</td>\n",
       "      <td>0</td>\n",
       "      <td></td>\n",
       "      <td>[Montpellier Saint-Roch, Sète, Agde, Béziers, ...</td>\n",
       "    </tr>\n",
       "    <tr>\n",
       "      <th>17</th>\n",
       "      <td>Lyon Part Dieu</td>\n",
       "      <td>Toulouse Matabiau</td>\n",
       "      <td>TGV INOUI</td>\n",
       "      <td>6823</td>\n",
       "      <td>07-03-2023</td>\n",
       "      <td>13:38:00</td>\n",
       "      <td>13:38:00</td>\n",
       "      <td>0</td>\n",
       "      <td></td>\n",
       "      <td>[Montpellier Saint-Roch, Béziers, Narbonne, Ca...</td>\n",
       "    </tr>\n",
       "    <tr>\n",
       "      <th>18</th>\n",
       "      <td>Avignon Centre</td>\n",
       "      <td>Port-Bou</td>\n",
       "      <td>TER</td>\n",
       "      <td>86987</td>\n",
       "      <td>07-03-2023</td>\n",
       "      <td>14:14:00</td>\n",
       "      <td>14:14:00</td>\n",
       "      <td>0</td>\n",
       "      <td></td>\n",
       "      <td>[Vergèze - Codognan, Lunel, Baillargues, Montp...</td>\n",
       "    </tr>\n",
       "    <tr>\n",
       "      <th>19</th>\n",
       "      <td>Montpellier Saint-Roch</td>\n",
       "      <td>Paris - Gare de Lyon - Hall 1 &amp; 2</td>\n",
       "      <td>TGV INOUI</td>\n",
       "      <td>6034</td>\n",
       "      <td>07-03-2023</td>\n",
       "      <td>14:17:00</td>\n",
       "      <td>14:17:00</td>\n",
       "      <td>0</td>\n",
       "      <td></td>\n",
       "      <td>[Valence TGV Rhône-Alpes Sud, Paris - Gare de ...</td>\n",
       "    </tr>\n",
       "    <tr>\n",
       "      <th>21</th>\n",
       "      <td>Avignon Centre</td>\n",
       "      <td>Port-Bou</td>\n",
       "      <td>TER</td>\n",
       "      <td>86989</td>\n",
       "      <td>07-03-2023</td>\n",
       "      <td>16:17:00</td>\n",
       "      <td>16:17:00</td>\n",
       "      <td>0</td>\n",
       "      <td></td>\n",
       "      <td>[Vergèze - Codognan, Lunel, Baillargues, Montp...</td>\n",
       "    </tr>\n",
       "    <tr>\n",
       "      <th>22</th>\n",
       "      <td>Montpellier Saint-Roch</td>\n",
       "      <td>Paris - Gare de Lyon - Hall 1 &amp; 2</td>\n",
       "      <td>TGV INOUI</td>\n",
       "      <td>6206</td>\n",
       "      <td>07-03-2023</td>\n",
       "      <td>16:18:00</td>\n",
       "      <td>16:18:00</td>\n",
       "      <td>0</td>\n",
       "      <td></td>\n",
       "      <td>[Valence TGV Rhône-Alpes Sud, Paris - Gare de ...</td>\n",
       "    </tr>\n",
       "    <tr>\n",
       "      <th>31</th>\n",
       "      <td>Avignon Centre</td>\n",
       "      <td>Cerbère</td>\n",
       "      <td>TER</td>\n",
       "      <td>876427</td>\n",
       "      <td>07-03-2023</td>\n",
       "      <td>18:14:30</td>\n",
       "      <td>18:14:30</td>\n",
       "      <td>0</td>\n",
       "      <td></td>\n",
       "      <td>[Vergèze - Codognan, Lunel, Baillargues, Montp...</td>\n",
       "    </tr>\n",
       "    <tr>\n",
       "      <th>34</th>\n",
       "      <td>Paris - Gare de Lyon - Hall 1 &amp; 2</td>\n",
       "      <td>Montpellier Saint-Roch</td>\n",
       "      <td>TGV INOUI</td>\n",
       "      <td>6223</td>\n",
       "      <td>07-03-2023</td>\n",
       "      <td>20:04:00</td>\n",
       "      <td>20:04:00</td>\n",
       "      <td>0</td>\n",
       "      <td></td>\n",
       "      <td>[Montpellier Saint-Roch]</td>\n",
       "    </tr>\n",
       "    <tr>\n",
       "      <th>35</th>\n",
       "      <td>Nîmes Centre</td>\n",
       "      <td>Alès</td>\n",
       "      <td>TER</td>\n",
       "      <td>34004</td>\n",
       "      <td>07-03-2023</td>\n",
       "      <td>20:21:00</td>\n",
       "      <td>20:21:00</td>\n",
       "      <td>0</td>\n",
       "      <td></td>\n",
       "      <td>[Alès]</td>\n",
       "    </tr>\n",
       "  </tbody>\n",
       "</table>\n",
       "</div>"
      ],
      "text/plain": [
       "                           Provenance                         Destination  \\\n",
       "2                        Nîmes Centre                           Port-Bou    \n",
       "4              Montpellier Saint-Roch  Paris - Gare de Lyon - Hall 1 & 2    \n",
       "8                      Avignon Centre                          Perpignan    \n",
       "11                          Perpignan  Paris - Gare de Lyon - Hall 1 & 2    \n",
       "12  Paris - Gare de Lyon - Hall 1 & 2             Montpellier Saint-Roch    \n",
       "13                     Avignon Centre                           Port-Bou    \n",
       "15  Paris - Gare de Lyon - Hall 1 & 2                    Barcelona Sants    \n",
       "17                     Lyon Part Dieu                  Toulouse Matabiau    \n",
       "18                     Avignon Centre                           Port-Bou    \n",
       "19             Montpellier Saint-Roch  Paris - Gare de Lyon - Hall 1 & 2    \n",
       "21                     Avignon Centre                           Port-Bou    \n",
       "22             Montpellier Saint-Roch  Paris - Gare de Lyon - Hall 1 & 2    \n",
       "31                     Avignon Centre                            Cerbère    \n",
       "34  Paris - Gare de Lyon - Hall 1 & 2             Montpellier Saint-Roch    \n",
       "35                       Nîmes Centre                               Alès    \n",
       "\n",
       "        Train  Numéro        Jour Départ (réel) Départ (prévu)  Retard (min)  \\\n",
       "2         TER   86969  07-03-2023      06:05:00       06:05:00             0   \n",
       "4   TGV INOUI    6200  07-03-2023      06:19:00       06:19:00             0   \n",
       "8         TER  876407  07-03-2023      08:15:00       08:15:00             0   \n",
       "11  TGV INOUI    6202  07-03-2023      09:17:30       09:17:30             0   \n",
       "12  TGV INOUI    6221  07-03-2023      10:48:00       10:48:00             0   \n",
       "13        TER   86985  07-03-2023      12:14:30       12:14:30             0   \n",
       "15  TGV INOUI    9713  07-03-2023      12:48:00       12:48:00             0   \n",
       "17  TGV INOUI    6823  07-03-2023      13:38:00       13:38:00             0   \n",
       "18        TER   86987  07-03-2023      14:14:00       14:14:00             0   \n",
       "19  TGV INOUI    6034  07-03-2023      14:17:00       14:17:00             0   \n",
       "21        TER   86989  07-03-2023      16:17:00       16:17:00             0   \n",
       "22  TGV INOUI    6206  07-03-2023      16:18:00       16:18:00             0   \n",
       "31        TER  876427  07-03-2023      18:14:30       18:14:30             0   \n",
       "34  TGV INOUI    6223  07-03-2023      20:04:00       20:04:00             0   \n",
       "35        TER   34004  07-03-2023      20:21:00       20:21:00             0   \n",
       "\n",
       "   Cause                                             Arrêts  \n",
       "2         [Vergèze - Codognan, Lunel, Baillargues, Montp...  \n",
       "4         [Valence TGV Rhône-Alpes Sud, Paris - Gare de ...  \n",
       "8         [Vergèze - Codognan, Lunel, Baillargues, Montp...  \n",
       "11        [Valence TGV Rhône-Alpes Sud, Paris - Gare de ...  \n",
       "12                                 [Montpellier Saint-Roch]  \n",
       "13        [Vergèze - Codognan, Lunel, Baillargues, Montp...  \n",
       "15        [Montpellier Saint-Roch, Sète, Agde, Béziers, ...  \n",
       "17        [Montpellier Saint-Roch, Béziers, Narbonne, Ca...  \n",
       "18        [Vergèze - Codognan, Lunel, Baillargues, Montp...  \n",
       "19        [Valence TGV Rhône-Alpes Sud, Paris - Gare de ...  \n",
       "21        [Vergèze - Codognan, Lunel, Baillargues, Montp...  \n",
       "22        [Valence TGV Rhône-Alpes Sud, Paris - Gare de ...  \n",
       "31        [Vergèze - Codognan, Lunel, Baillargues, Montp...  \n",
       "34                                 [Montpellier Saint-Roch]  \n",
       "35                                                   [Alès]  "
      ]
     },
     "execution_count": 1006,
     "metadata": {},
     "output_type": "execute_result"
    }
   ],
   "source": [
    "df_gare"
   ]
  },
  {
   "attachments": {},
   "cell_type": "markdown",
   "metadata": {},
   "source": [
    "On exporte le dataframe en fichier _CSV_"
   ]
  },
  {
   "cell_type": "code",
   "execution_count": 1007,
   "metadata": {},
   "outputs": [],
   "source": [
    "#df_gare.to_csv('Departure.csv', sep=',', index=False, header=True)"
   ]
  }
 ],
 "metadata": {
  "kernelspec": {
   "display_name": "cours",
   "language": "python",
   "name": "python3"
  },
  "language_info": {
   "codemirror_mode": {
    "name": "ipython",
    "version": 3
   },
   "file_extension": ".py",
   "mimetype": "text/x-python",
   "name": "python",
   "nbconvert_exporter": "python",
   "pygments_lexer": "ipython3",
   "version": "3.11.0"
  },
  "orig_nbformat": 4
 },
 "nbformat": 4,
 "nbformat_minor": 2
}
