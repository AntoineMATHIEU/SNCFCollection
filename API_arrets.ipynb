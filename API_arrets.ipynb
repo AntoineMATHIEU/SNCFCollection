{
 "cells": [
  {
   "cell_type": "code",
   "execution_count": 1,
   "metadata": {},
   "outputs": [],
   "source": [
    "import pandas as pd\n",
    "import requests\n",
    "import json"
   ]
  },
  {
   "cell_type": "code",
   "execution_count": 2,
   "metadata": {},
   "outputs": [],
   "source": [
    "token = 'e7b7fedd-71d0-48c6-8cc7-749e22ba8e80'"
   ]
  },
  {
   "cell_type": "code",
   "execution_count": 3,
   "metadata": {},
   "outputs": [],
   "source": [
    "req = requests.get('https://api.sncf.com/v1/coverage/sncf/vehicle_journeys/vehicle_journey:SNCF:2023-03-01:165493:1187:RapidTransit',auth=(token, ''))"
   ]
  },
  {
   "cell_type": "code",
   "execution_count": 4,
   "metadata": {},
   "outputs": [],
   "source": [
    "doc = json.loads(req.text)"
   ]
  },
  {
   "cell_type": "code",
   "execution_count": 28,
   "metadata": {},
   "outputs": [
    {
     "data": {
      "text/html": [
       "<div>\n",
       "<style scoped>\n",
       "    .dataframe tbody tr th:only-of-type {\n",
       "        vertical-align: middle;\n",
       "    }\n",
       "\n",
       "    .dataframe tbody tr th {\n",
       "        vertical-align: top;\n",
       "    }\n",
       "\n",
       "    .dataframe thead th {\n",
       "        text-align: right;\n",
       "    }\n",
       "</style>\n",
       "<table border=\"1\" class=\"dataframe\">\n",
       "  <thead>\n",
       "    <tr style=\"text-align: right;\">\n",
       "      <th></th>\n",
       "      <th>0</th>\n",
       "    </tr>\n",
       "  </thead>\n",
       "  <tbody>\n",
       "    <tr>\n",
       "      <th>0</th>\n",
       "      <td>{'stop_point': {'name': 'Paris - Montparnasse ...</td>\n",
       "    </tr>\n",
       "    <tr>\n",
       "      <th>1</th>\n",
       "      <td>{'stop_point': {'name': 'Vanves - Malakoff', '...</td>\n",
       "    </tr>\n",
       "    <tr>\n",
       "      <th>2</th>\n",
       "      <td>{'stop_point': {'name': 'Clamart', 'links': []...</td>\n",
       "    </tr>\n",
       "    <tr>\n",
       "      <th>3</th>\n",
       "      <td>{'stop_point': {'name': 'Meudon', 'links': [],...</td>\n",
       "    </tr>\n",
       "    <tr>\n",
       "      <th>4</th>\n",
       "      <td>{'stop_point': {'name': 'Bellevue', 'links': [...</td>\n",
       "    </tr>\n",
       "    <tr>\n",
       "      <th>5</th>\n",
       "      <td>{'stop_point': {'name': 'Sèvres Rive Gauche', ...</td>\n",
       "    </tr>\n",
       "    <tr>\n",
       "      <th>6</th>\n",
       "      <td>{'stop_point': {'name': 'Chaville Rive Gauche'...</td>\n",
       "    </tr>\n",
       "    <tr>\n",
       "      <th>7</th>\n",
       "      <td>{'stop_point': {'name': 'Viroflay Rive Gauche'...</td>\n",
       "    </tr>\n",
       "    <tr>\n",
       "      <th>8</th>\n",
       "      <td>{'stop_point': {'name': 'Versailles Chantiers'...</td>\n",
       "    </tr>\n",
       "    <tr>\n",
       "      <th>9</th>\n",
       "      <td>{'stop_point': {'name': 'Saint-Cyr', 'links': ...</td>\n",
       "    </tr>\n",
       "    <tr>\n",
       "      <th>10</th>\n",
       "      <td>{'stop_point': {'name': 'Saint-Quentin en Yvel...</td>\n",
       "    </tr>\n",
       "    <tr>\n",
       "      <th>11</th>\n",
       "      <td>{'stop_point': {'name': 'Trappes', 'links': []...</td>\n",
       "    </tr>\n",
       "    <tr>\n",
       "      <th>12</th>\n",
       "      <td>{'stop_point': {'name': 'La Verrière', 'links'...</td>\n",
       "    </tr>\n",
       "    <tr>\n",
       "      <th>13</th>\n",
       "      <td>{'stop_point': {'name': 'Coignières', 'links':...</td>\n",
       "    </tr>\n",
       "    <tr>\n",
       "      <th>14</th>\n",
       "      <td>{'stop_point': {'name': 'Les Essarts-le-Roi', ...</td>\n",
       "    </tr>\n",
       "    <tr>\n",
       "      <th>15</th>\n",
       "      <td>{'stop_point': {'name': 'Le Perray', 'links': ...</td>\n",
       "    </tr>\n",
       "    <tr>\n",
       "      <th>16</th>\n",
       "      <td>{'stop_point': {'name': 'Rambouillet', 'links'...</td>\n",
       "    </tr>\n",
       "  </tbody>\n",
       "</table>\n",
       "</div>"
      ],
      "text/plain": [
       "                                                    0\n",
       "0   {'stop_point': {'name': 'Paris - Montparnasse ...\n",
       "1   {'stop_point': {'name': 'Vanves - Malakoff', '...\n",
       "2   {'stop_point': {'name': 'Clamart', 'links': []...\n",
       "3   {'stop_point': {'name': 'Meudon', 'links': [],...\n",
       "4   {'stop_point': {'name': 'Bellevue', 'links': [...\n",
       "5   {'stop_point': {'name': 'Sèvres Rive Gauche', ...\n",
       "6   {'stop_point': {'name': 'Chaville Rive Gauche'...\n",
       "7   {'stop_point': {'name': 'Viroflay Rive Gauche'...\n",
       "8   {'stop_point': {'name': 'Versailles Chantiers'...\n",
       "9   {'stop_point': {'name': 'Saint-Cyr', 'links': ...\n",
       "10  {'stop_point': {'name': 'Saint-Quentin en Yvel...\n",
       "11  {'stop_point': {'name': 'Trappes', 'links': []...\n",
       "12  {'stop_point': {'name': 'La Verrière', 'links'...\n",
       "13  {'stop_point': {'name': 'Coignières', 'links':...\n",
       "14  {'stop_point': {'name': 'Les Essarts-le-Roi', ...\n",
       "15  {'stop_point': {'name': 'Le Perray', 'links': ...\n",
       "16  {'stop_point': {'name': 'Rambouillet', 'links'..."
      ]
     },
     "execution_count": 28,
     "metadata": {},
     "output_type": "execute_result"
    }
   ],
   "source": [
    "df = pd.DataFrame(doc['vehicle_journeys'])\n",
    "df_arret = pd.DataFrame(list(df['stop_times']))\n",
    "df_arret = df_arret.T\n",
    "df_arret"
   ]
  },
  {
   "cell_type": "code",
   "execution_count": 29,
   "metadata": {},
   "outputs": [],
   "source": [
    "def get_name(string):\n",
    "    index_deb = string.find(\"'name': '\")\n",
    "    string = string[index_deb+9:]\n",
    "    index_fin = string.find(\"', '\")\n",
    "    return string[:index_fin]"
   ]
  },
  {
   "cell_type": "code",
   "execution_count": 30,
   "metadata": {},
   "outputs": [],
   "source": [
    "df_arret[0] = df_arret[0].astype('str').apply(get_name)\n"
   ]
  },
  {
   "cell_type": "code",
   "execution_count": 32,
   "metadata": {},
   "outputs": [
    {
     "data": {
      "text/html": [
       "<div>\n",
       "<style scoped>\n",
       "    .dataframe tbody tr th:only-of-type {\n",
       "        vertical-align: middle;\n",
       "    }\n",
       "\n",
       "    .dataframe tbody tr th {\n",
       "        vertical-align: top;\n",
       "    }\n",
       "\n",
       "    .dataframe thead th {\n",
       "        text-align: right;\n",
       "    }\n",
       "</style>\n",
       "<table border=\"1\" class=\"dataframe\">\n",
       "  <thead>\n",
       "    <tr style=\"text-align: right;\">\n",
       "      <th></th>\n",
       "      <th>0</th>\n",
       "    </tr>\n",
       "  </thead>\n",
       "  <tbody>\n",
       "    <tr>\n",
       "      <th>0</th>\n",
       "      <td>Paris - Montparnasse - Hall 1 &amp; 2</td>\n",
       "    </tr>\n",
       "    <tr>\n",
       "      <th>1</th>\n",
       "      <td>Vanves - Malakoff</td>\n",
       "    </tr>\n",
       "    <tr>\n",
       "      <th>2</th>\n",
       "      <td>Clamart</td>\n",
       "    </tr>\n",
       "    <tr>\n",
       "      <th>3</th>\n",
       "      <td>Meudon</td>\n",
       "    </tr>\n",
       "    <tr>\n",
       "      <th>4</th>\n",
       "      <td>Bellevue</td>\n",
       "    </tr>\n",
       "    <tr>\n",
       "      <th>5</th>\n",
       "      <td>Sèvres Rive Gauche</td>\n",
       "    </tr>\n",
       "    <tr>\n",
       "      <th>6</th>\n",
       "      <td>Chaville Rive Gauche</td>\n",
       "    </tr>\n",
       "    <tr>\n",
       "      <th>7</th>\n",
       "      <td>Viroflay Rive Gauche</td>\n",
       "    </tr>\n",
       "    <tr>\n",
       "      <th>8</th>\n",
       "      <td>Versailles Chantiers</td>\n",
       "    </tr>\n",
       "    <tr>\n",
       "      <th>9</th>\n",
       "      <td>Saint-Cyr</td>\n",
       "    </tr>\n",
       "    <tr>\n",
       "      <th>10</th>\n",
       "      <td>Saint-Quentin en Yvelines - Montigny-le-Breton...</td>\n",
       "    </tr>\n",
       "    <tr>\n",
       "      <th>11</th>\n",
       "      <td>Trappes</td>\n",
       "    </tr>\n",
       "    <tr>\n",
       "      <th>12</th>\n",
       "      <td>La Verrière</td>\n",
       "    </tr>\n",
       "    <tr>\n",
       "      <th>13</th>\n",
       "      <td>Coignières</td>\n",
       "    </tr>\n",
       "    <tr>\n",
       "      <th>14</th>\n",
       "      <td>Les Essarts-le-Roi</td>\n",
       "    </tr>\n",
       "    <tr>\n",
       "      <th>15</th>\n",
       "      <td>Le Perray</td>\n",
       "    </tr>\n",
       "    <tr>\n",
       "      <th>16</th>\n",
       "      <td>Rambouillet</td>\n",
       "    </tr>\n",
       "  </tbody>\n",
       "</table>\n",
       "</div>"
      ],
      "text/plain": [
       "                                                    0\n",
       "0                   Paris - Montparnasse - Hall 1 & 2\n",
       "1                                   Vanves - Malakoff\n",
       "2                                             Clamart\n",
       "3                                              Meudon\n",
       "4                                            Bellevue\n",
       "5                                  Sèvres Rive Gauche\n",
       "6                                Chaville Rive Gauche\n",
       "7                                Viroflay Rive Gauche\n",
       "8                                Versailles Chantiers\n",
       "9                                           Saint-Cyr\n",
       "10  Saint-Quentin en Yvelines - Montigny-le-Breton...\n",
       "11                                            Trappes\n",
       "12                                        La Verrière\n",
       "13                                         Coignières\n",
       "14                                 Les Essarts-le-Roi\n",
       "15                                          Le Perray\n",
       "16                                        Rambouillet"
      ]
     },
     "execution_count": 32,
     "metadata": {},
     "output_type": "execute_result"
    }
   ],
   "source": [
    "df_arret"
   ]
  },
  {
   "cell_type": "code",
   "execution_count": 31,
   "metadata": {},
   "outputs": [
    {
     "data": {
      "text/plain": [
       "['Paris - Montparnasse - Hall 1 & 2',\n",
       " 'Vanves - Malakoff',\n",
       " 'Clamart',\n",
       " 'Meudon',\n",
       " 'Bellevue',\n",
       " 'Sèvres Rive Gauche',\n",
       " 'Chaville Rive Gauche',\n",
       " 'Viroflay Rive Gauche',\n",
       " 'Versailles Chantiers',\n",
       " 'Saint-Cyr',\n",
       " 'Saint-Quentin en Yvelines - Montigny-le-Bretonneux',\n",
       " 'Trappes',\n",
       " 'La Verrière',\n",
       " 'Coignières',\n",
       " 'Les Essarts-le-Roi',\n",
       " 'Le Perray',\n",
       " 'Rambouillet']"
      ]
     },
     "execution_count": 31,
     "metadata": {},
     "output_type": "execute_result"
    }
   ],
   "source": [
    "list(df_arret[0])"
   ]
  },
  {
   "attachments": {},
   "cell_type": "markdown",
   "metadata": {},
   "source": [
    "# Version Condensée"
   ]
  },
  {
   "cell_type": "code",
   "execution_count": 33,
   "metadata": {},
   "outputs": [],
   "source": [
    "def get_name(string):\n",
    "    index_deb = string.find(\"'name': '\")\n",
    "    string = string[index_deb+9:]\n",
    "    index_fin = string.find(\"', '\")\n",
    "    return string[:index_fin]"
   ]
  },
  {
   "cell_type": "code",
   "execution_count": 36,
   "metadata": {},
   "outputs": [
    {
     "data": {
      "text/plain": [
       "['Vanves - Malakoff',\n",
       " 'Clamart',\n",
       " 'Meudon',\n",
       " 'Bellevue',\n",
       " 'Sèvres Rive Gauche',\n",
       " 'Chaville Rive Gauche',\n",
       " 'Viroflay Rive Gauche',\n",
       " 'Versailles Chantiers',\n",
       " 'Saint-Cyr',\n",
       " 'Saint-Quentin en Yvelines - Montigny-le-Bretonneux',\n",
       " 'Trappes',\n",
       " 'La Verrière',\n",
       " 'Coignières',\n",
       " 'Les Essarts-le-Roi',\n",
       " 'Le Perray',\n",
       " 'Rambouillet']"
      ]
     },
     "execution_count": 36,
     "metadata": {},
     "output_type": "execute_result"
    }
   ],
   "source": [
    "req_arret = requests.get('https://api.sncf.com/v1/coverage/sncf/vehicle_journeys/vehicle_journey:SNCF:2023-03-01:165493:1187:RapidTransit',auth=(token, ''))\n",
    "doc = json.loads(req.text)\n",
    "\n",
    "df = pd.DataFrame(doc['vehicle_journeys'])\n",
    "df_arret = pd.DataFrame(list(df['stop_times']))\n",
    "df_arret = df_arret.T\n",
    "df_arret[0] = df_arret[0].astype('str').apply(get_name)\n",
    "\n",
    "list(df_arret[0])[1:]"
   ]
  }
 ],
 "metadata": {
  "kernelspec": {
   "display_name": "cours",
   "language": "python",
   "name": "python3"
  },
  "language_info": {
   "codemirror_mode": {
    "name": "ipython",
    "version": 3
   },
   "file_extension": ".py",
   "mimetype": "text/x-python",
   "name": "python",
   "nbconvert_exporter": "python",
   "pygments_lexer": "ipython3",
   "version": "3.11.0"
  },
  "orig_nbformat": 4
 },
 "nbformat": 4,
 "nbformat_minor": 2
}
