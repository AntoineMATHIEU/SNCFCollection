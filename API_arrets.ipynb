{
 "cells": [
  {
   "cell_type": "code",
   "execution_count": 1,
   "metadata": {},
   "outputs": [],
   "source": [
    "import pandas as pd\n",
    "import requests\n",
    "import json"
   ]
  },
  {
   "cell_type": "code",
   "execution_count": 2,
   "metadata": {},
   "outputs": [],
   "source": [
    "token = 'e7b7fedd-71d0-48c6-8cc7-749e22ba8e80'"
   ]
  },
  {
   "cell_type": "code",
   "execution_count": 3,
   "metadata": {},
   "outputs": [],
   "source": [
    "req = requests.get('https://api.sncf.com/v1/coverage/sncf/vehicle_journeys/vehicle_journey:SNCF:2023-03-02:8707:1187:LongDistanceTrain',auth=(token, ''))"
   ]
  },
  {
   "cell_type": "code",
   "execution_count": 4,
   "metadata": {},
   "outputs": [],
   "source": [
    "doc = json.loads(req.text)"
   ]
  },
  {
   "cell_type": "code",
   "execution_count": 5,
   "metadata": {},
   "outputs": [],
   "source": [
    "df = pd.DataFrame(doc['vehicle_journeys'])\n",
    "df_arret = pd.DataFrame(list(df['stop_times']))\n",
    "df_arret = df_arret.T\n",
    "df_arret = pd.DataFrame(list(df_arret[0]))\n",
    "#df_arret"
   ]
  },
  {
   "cell_type": "code",
   "execution_count": 6,
   "metadata": {},
   "outputs": [],
   "source": [
    "def get_name(string):\n",
    "    string = string[10:]\n",
    "    index_fin = string.find(\"', 'links'\")\n",
    "    return string[:index_fin]\n",
    "\n",
    "df_arret['stop_point'] = df_arret['stop_point'].astype('str').apply(get_name)"
   ]
  },
  {
   "cell_type": "code",
   "execution_count": 7,
   "metadata": {},
   "outputs": [
    {
     "data": {
      "text/html": [
       "<div>\n",
       "<style scoped>\n",
       "    .dataframe tbody tr th:only-of-type {\n",
       "        vertical-align: middle;\n",
       "    }\n",
       "\n",
       "    .dataframe tbody tr th {\n",
       "        vertical-align: top;\n",
       "    }\n",
       "\n",
       "    .dataframe thead th {\n",
       "        text-align: right;\n",
       "    }\n",
       "</style>\n",
       "<table border=\"1\" class=\"dataframe\">\n",
       "  <thead>\n",
       "    <tr style=\"text-align: right;\">\n",
       "      <th></th>\n",
       "      <th>stop_point</th>\n",
       "      <th>utc_arrival_time</th>\n",
       "      <th>utc_departure_time</th>\n",
       "      <th>headsign</th>\n",
       "      <th>skipped_stop</th>\n",
       "      <th>arrival_time</th>\n",
       "      <th>drop_off_allowed</th>\n",
       "      <th>pickup_allowed</th>\n",
       "      <th>departure_time</th>\n",
       "    </tr>\n",
       "  </thead>\n",
       "  <tbody>\n",
       "    <tr>\n",
       "      <th>0</th>\n",
       "      <td>Paris - Montparnasse - Hall 1 &amp; 2</td>\n",
       "      <td>074000</td>\n",
       "      <td>074000</td>\n",
       "      <td>8707</td>\n",
       "      <td>False</td>\n",
       "      <td>084000</td>\n",
       "      <td>False</td>\n",
       "      <td>True</td>\n",
       "      <td>084000</td>\n",
       "    </tr>\n",
       "    <tr>\n",
       "      <th>1</th>\n",
       "      <td>Laval</td>\n",
       "      <td>085500</td>\n",
       "      <td>085800</td>\n",
       "      <td>8707</td>\n",
       "      <td>False</td>\n",
       "      <td>095500</td>\n",
       "      <td>True</td>\n",
       "      <td>True</td>\n",
       "      <td>095800</td>\n",
       "    </tr>\n",
       "    <tr>\n",
       "      <th>2</th>\n",
       "      <td>Rennes</td>\n",
       "      <td>092500</td>\n",
       "      <td>092900</td>\n",
       "      <td>8707</td>\n",
       "      <td>False</td>\n",
       "      <td>102500</td>\n",
       "      <td>True</td>\n",
       "      <td>True</td>\n",
       "      <td>102900</td>\n",
       "    </tr>\n",
       "    <tr>\n",
       "      <th>3</th>\n",
       "      <td>Redon</td>\n",
       "      <td>100400</td>\n",
       "      <td>100630</td>\n",
       "      <td>8707</td>\n",
       "      <td>False</td>\n",
       "      <td>110400</td>\n",
       "      <td>True</td>\n",
       "      <td>True</td>\n",
       "      <td>110630</td>\n",
       "    </tr>\n",
       "    <tr>\n",
       "      <th>4</th>\n",
       "      <td>Vannes</td>\n",
       "      <td>102900</td>\n",
       "      <td>103200</td>\n",
       "      <td>8707</td>\n",
       "      <td>False</td>\n",
       "      <td>112900</td>\n",
       "      <td>True</td>\n",
       "      <td>True</td>\n",
       "      <td>113200</td>\n",
       "    </tr>\n",
       "    <tr>\n",
       "      <th>5</th>\n",
       "      <td>Auray</td>\n",
       "      <td>104200</td>\n",
       "      <td>104500</td>\n",
       "      <td>8707</td>\n",
       "      <td>False</td>\n",
       "      <td>114200</td>\n",
       "      <td>True</td>\n",
       "      <td>True</td>\n",
       "      <td>114500</td>\n",
       "    </tr>\n",
       "    <tr>\n",
       "      <th>6</th>\n",
       "      <td>Lorient</td>\n",
       "      <td>110030</td>\n",
       "      <td>110330</td>\n",
       "      <td>8707</td>\n",
       "      <td>False</td>\n",
       "      <td>120030</td>\n",
       "      <td>True</td>\n",
       "      <td>True</td>\n",
       "      <td>120330</td>\n",
       "    </tr>\n",
       "    <tr>\n",
       "      <th>7</th>\n",
       "      <td>Quimper</td>\n",
       "      <td>113800</td>\n",
       "      <td>113800</td>\n",
       "      <td>8707</td>\n",
       "      <td>False</td>\n",
       "      <td>123800</td>\n",
       "      <td>True</td>\n",
       "      <td>False</td>\n",
       "      <td>123800</td>\n",
       "    </tr>\n",
       "  </tbody>\n",
       "</table>\n",
       "</div>"
      ],
      "text/plain": [
       "                          stop_point utc_arrival_time utc_departure_time  \\\n",
       "0  Paris - Montparnasse - Hall 1 & 2           074000             074000   \n",
       "1                              Laval           085500             085800   \n",
       "2                             Rennes           092500             092900   \n",
       "3                              Redon           100400             100630   \n",
       "4                             Vannes           102900             103200   \n",
       "5                              Auray           104200             104500   \n",
       "6                            Lorient           110030             110330   \n",
       "7                            Quimper           113800             113800   \n",
       "\n",
       "  headsign  skipped_stop arrival_time  drop_off_allowed  pickup_allowed  \\\n",
       "0     8707         False       084000             False            True   \n",
       "1     8707         False       095500              True            True   \n",
       "2     8707         False       102500              True            True   \n",
       "3     8707         False       110400              True            True   \n",
       "4     8707         False       112900              True            True   \n",
       "5     8707         False       114200              True            True   \n",
       "6     8707         False       120030              True            True   \n",
       "7     8707         False       123800              True           False   \n",
       "\n",
       "  departure_time  \n",
       "0         084000  \n",
       "1         095800  \n",
       "2         102900  \n",
       "3         110630  \n",
       "4         113200  \n",
       "5         114500  \n",
       "6         120330  \n",
       "7         123800  "
      ]
     },
     "execution_count": 7,
     "metadata": {},
     "output_type": "execute_result"
    }
   ],
   "source": [
    "df_arret"
   ]
  },
  {
   "cell_type": "code",
   "execution_count": 8,
   "metadata": {},
   "outputs": [
    {
     "data": {
      "text/plain": [
       "['Paris - Montparnasse - Hall 1 & 2',\n",
       " 'Laval',\n",
       " 'Rennes',\n",
       " 'Redon',\n",
       " 'Vannes',\n",
       " 'Auray',\n",
       " 'Lorient',\n",
       " 'Quimper']"
      ]
     },
     "execution_count": 8,
     "metadata": {},
     "output_type": "execute_result"
    }
   ],
   "source": [
    "list(df_arret['stop_point'])"
   ]
  },
  {
   "cell_type": "code",
   "execution_count": 12,
   "metadata": {},
   "outputs": [
    {
     "name": "stdout",
     "output_type": "stream",
     "text": [
      "['Redon', 'Vannes', 'Auray', 'Lorient', 'Quimper']\n"
     ]
    }
   ],
   "source": [
    "liste_arrets = list(df_arret['stop_point'])\n",
    "index_gare = liste_arrets.index('Rennes')\n",
    "liste_arrets = liste_arrets[index_gare+1:]\n",
    "print(liste_arrets)"
   ]
  },
  {
   "cell_type": "code",
   "execution_count": 12,
   "metadata": {},
   "outputs": [
    {
     "name": "stdout",
     "output_type": "stream",
     "text": [
      "vehicle_journey:SNCF:2023-03-02:877553:1187:Train\n"
     ]
    }
   ],
   "source": [
    "id = \"vehicle_journey:SNCF:2023-03-02:877553:1187:Train:RealTime:9e6f9a47-bba6-48eb-8e65-dba9b2c48904\"\n",
    "index_id = id.index(\"RealTime\")\n",
    "id = id[:index_id-1]\n",
    "print(id)"
   ]
  }
 ],
 "metadata": {
  "kernelspec": {
   "display_name": "cours",
   "language": "python",
   "name": "python3"
  },
  "language_info": {
   "codemirror_mode": {
    "name": "ipython",
    "version": 3
   },
   "file_extension": ".py",
   "mimetype": "text/x-python",
   "name": "python",
   "nbconvert_exporter": "python",
   "pygments_lexer": "ipython3",
   "version": "3.11.0"
  },
  "orig_nbformat": 4
 },
 "nbformat": 4,
 "nbformat_minor": 2
}
