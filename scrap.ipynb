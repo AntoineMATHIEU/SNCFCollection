{
 "cells": [
  {
   "cell_type": "code",
   "execution_count": 7,
   "metadata": {},
   "outputs": [],
   "source": [
    "import pandas as pd\n",
    "import requests\n",
    "import json"
   ]
  },
  {
   "cell_type": "code",
   "execution_count": 8,
   "metadata": {},
   "outputs": [],
   "source": [
    "result = requests.get(\"https://ressources.data.sncf.com/api/records/1.0/search/?dataset=regularite-mensuelle-tgv-aqst&q=&lang=fr&sort=date&facet=date&facet=gare_depart&facet=gare_arrivee&facet=retard_moyen_tous_trains_depart&facet=retard_moyen_tous_trains_arrivee&facet=retard_moyen_trains_retard_sup15\")\n",
    "\n",
    "doc = json.loads(result.text)"
   ]
  },
  {
   "cell_type": "code",
   "execution_count": 9,
   "metadata": {},
   "outputs": [
    {
     "data": {
      "text/html": [
       "<div>\n",
       "<style scoped>\n",
       "    .dataframe tbody tr th:only-of-type {\n",
       "        vertical-align: middle;\n",
       "    }\n",
       "\n",
       "    .dataframe tbody tr th {\n",
       "        vertical-align: top;\n",
       "    }\n",
       "\n",
       "    .dataframe thead th {\n",
       "        text-align: right;\n",
       "    }\n",
       "</style>\n",
       "<table border=\"1\" class=\"dataframe\">\n",
       "  <thead>\n",
       "    <tr style=\"text-align: right;\">\n",
       "      <th></th>\n",
       "      <th>date</th>\n",
       "      <th>gare_depart</th>\n",
       "      <th>gare_arrivee</th>\n",
       "    </tr>\n",
       "  </thead>\n",
       "  <tbody>\n",
       "    <tr>\n",
       "      <th>0</th>\n",
       "      <td>2022-12</td>\n",
       "      <td>PARIS LYON</td>\n",
       "      <td>ITALIE</td>\n",
       "    </tr>\n",
       "    <tr>\n",
       "      <th>1</th>\n",
       "      <td>2022-12</td>\n",
       "      <td>STUTTGART</td>\n",
       "      <td>PARIS EST</td>\n",
       "    </tr>\n",
       "    <tr>\n",
       "      <th>2</th>\n",
       "      <td>2022-12</td>\n",
       "      <td>AIX EN PROVENCE TGV</td>\n",
       "      <td>PARIS LYON</td>\n",
       "    </tr>\n",
       "    <tr>\n",
       "      <th>3</th>\n",
       "      <td>2022-12</td>\n",
       "      <td>ANNECY</td>\n",
       "      <td>PARIS LYON</td>\n",
       "    </tr>\n",
       "    <tr>\n",
       "      <th>4</th>\n",
       "      <td>2022-12</td>\n",
       "      <td>ARRAS</td>\n",
       "      <td>PARIS NORD</td>\n",
       "    </tr>\n",
       "    <tr>\n",
       "      <th>5</th>\n",
       "      <td>2022-12</td>\n",
       "      <td>LA ROCHELLE VILLE</td>\n",
       "      <td>PARIS MONTPARNASSE</td>\n",
       "    </tr>\n",
       "    <tr>\n",
       "      <th>6</th>\n",
       "      <td>2022-12</td>\n",
       "      <td>LILLE</td>\n",
       "      <td>LYON PART DIEU</td>\n",
       "    </tr>\n",
       "    <tr>\n",
       "      <th>7</th>\n",
       "      <td>2022-12</td>\n",
       "      <td>LYON PART DIEU</td>\n",
       "      <td>MARSEILLE ST CHARLES</td>\n",
       "    </tr>\n",
       "    <tr>\n",
       "      <th>8</th>\n",
       "      <td>2022-12</td>\n",
       "      <td>LYON PART DIEU</td>\n",
       "      <td>PARIS LYON</td>\n",
       "    </tr>\n",
       "    <tr>\n",
       "      <th>9</th>\n",
       "      <td>2022-12</td>\n",
       "      <td>PARIS EST</td>\n",
       "      <td>REIMS</td>\n",
       "    </tr>\n",
       "  </tbody>\n",
       "</table>\n",
       "</div>"
      ],
      "text/plain": [
       "      date          gare_depart          gare_arrivee\n",
       "0  2022-12           PARIS LYON                ITALIE\n",
       "1  2022-12            STUTTGART             PARIS EST\n",
       "2  2022-12  AIX EN PROVENCE TGV            PARIS LYON\n",
       "3  2022-12               ANNECY            PARIS LYON\n",
       "4  2022-12                ARRAS            PARIS NORD\n",
       "5  2022-12    LA ROCHELLE VILLE    PARIS MONTPARNASSE\n",
       "6  2022-12                LILLE        LYON PART DIEU\n",
       "7  2022-12       LYON PART DIEU  MARSEILLE ST CHARLES\n",
       "8  2022-12       LYON PART DIEU            PARIS LYON\n",
       "9  2022-12            PARIS EST                 REIMS"
      ]
     },
     "execution_count": 9,
     "metadata": {},
     "output_type": "execute_result"
    }
   ],
   "source": [
    "dfTGV = pd.DataFrame(doc['records'])\n",
    "dfTGV = pd.DataFrame(list(dfTGV['fields']))\n",
    "dfTGV = dfTGV[['date','gare_depart','gare_arrivee']] \n",
    "dfTGV"
   ]
  },
  {
   "cell_type": "code",
   "execution_count": null,
   "metadata": {},
   "outputs": [],
   "source": []
  }
 ],
 "metadata": {
  "kernelspec": {
   "display_name": "base",
   "language": "python",
   "name": "python3"
  },
  "language_info": {
   "codemirror_mode": {
    "name": "ipython",
    "version": 3
   },
   "file_extension": ".py",
   "mimetype": "text/x-python",
   "name": "python",
   "nbconvert_exporter": "python",
   "pygments_lexer": "ipython3",
   "version": "3.9.7"
  },
  "orig_nbformat": 4,
  "vscode": {
   "interpreter": {
    "hash": "8009e0c08f080e3ccdfbd0cbb0b868555f7bfe4812d08ec6824acefb94305129"
   }
  }
 },
 "nbformat": 4,
 "nbformat_minor": 2
}
