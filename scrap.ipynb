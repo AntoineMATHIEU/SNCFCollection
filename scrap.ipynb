{
 "cells": [
  {
   "cell_type": "code",
   "execution_count": null,
   "metadata": {},
   "outputs": [],
   "source": [
    "import pandas as pd"
   ]
  }
 ],
 "metadata": {
  "kernelspec": {
   "display_name": "cours",
   "language": "python",
   "name": "python3"
  },
  "language_info": {
   "name": "python",
   "version": "3.11.0"
  },
  "orig_nbformat": 4,
  "vscode": {
   "interpreter": {
    "hash": "0a59d7732367dd45dfe4a39cb689f1e83b4581778499ea1daf18f697fa462324"
   }
  }
 },
 "nbformat": 4,
 "nbformat_minor": 2
}
