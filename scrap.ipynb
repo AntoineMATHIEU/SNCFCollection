{
 "cells": [
  {
   "attachments": {},
   "cell_type": "markdown",
   "metadata": {},
   "source": [
    "# Imports"
   ]
  },
  {
   "cell_type": "code",
   "execution_count": 1,
   "metadata": {},
   "outputs": [],
   "source": [
    "import pandas as pd\n",
    "import requests\n",
    "import json"
   ]
  },
  {
   "attachments": {},
   "cell_type": "markdown",
   "metadata": {},
   "source": [
    "# Datasets"
   ]
  },
  {
   "attachments": {},
   "cell_type": "markdown",
   "metadata": {},
   "source": [
    "## Retard TGV"
   ]
  },
  {
   "cell_type": "code",
   "execution_count": null,
   "metadata": {},
   "outputs": [],
   "source": [
    "req_TGV = requests.get(\"https://ressources.data.sncf.com/api/records/1.0/search/?dataset=regularite-mensuelle-tgv-aqst&q=&lang=fr&rows=7428&sort=date\")\n",
    "doc_TGV = json.loads(result.text)\n",
    "row_TGV = len(doc_TGV['records'])\n",
    "print(f'Nombre de lignes : {row_TGV}')"
   ]
  },
  {
   "cell_type": "code",
   "execution_count": 4,
   "metadata": {},
   "outputs": [
    {
     "data": {
      "text/html": [
       "<div>\n",
       "<style scoped>\n",
       "    .dataframe tbody tr th:only-of-type {\n",
       "        vertical-align: middle;\n",
       "    }\n",
       "\n",
       "    .dataframe tbody tr th {\n",
       "        vertical-align: top;\n",
       "    }\n",
       "\n",
       "    .dataframe thead th {\n",
       "        text-align: right;\n",
       "    }\n",
       "</style>\n",
       "<table border=\"1\" class=\"dataframe\">\n",
       "  <thead>\n",
       "    <tr style=\"text-align: right;\">\n",
       "      <th></th>\n",
       "      <th>date</th>\n",
       "      <th>gare_depart</th>\n",
       "      <th>gare_arrivee</th>\n",
       "      <th>retard_moyen_tous_trains_depart</th>\n",
       "      <th>retard_moyen_tous_trains_arrivee</th>\n",
       "      <th>retard_moyen_trains_retard_sup15</th>\n",
       "    </tr>\n",
       "  </thead>\n",
       "  <tbody>\n",
       "    <tr>\n",
       "      <th>0</th>\n",
       "      <td>2022-12</td>\n",
       "      <td>PARIS LYON</td>\n",
       "      <td>ITALIE</td>\n",
       "      <td>3.247126</td>\n",
       "      <td>9.482759</td>\n",
       "      <td>55.800000</td>\n",
       "    </tr>\n",
       "    <tr>\n",
       "      <th>1</th>\n",
       "      <td>2022-12</td>\n",
       "      <td>STUTTGART</td>\n",
       "      <td>PARIS EST</td>\n",
       "      <td>5.824242</td>\n",
       "      <td>11.597086</td>\n",
       "      <td>40.812903</td>\n",
       "    </tr>\n",
       "    <tr>\n",
       "      <th>2</th>\n",
       "      <td>2022-12</td>\n",
       "      <td>AIX EN PROVENCE TGV</td>\n",
       "      <td>PARIS LYON</td>\n",
       "      <td>4.189780</td>\n",
       "      <td>3.231250</td>\n",
       "      <td>30.296296</td>\n",
       "    </tr>\n",
       "    <tr>\n",
       "      <th>3</th>\n",
       "      <td>2022-12</td>\n",
       "      <td>ANNECY</td>\n",
       "      <td>PARIS LYON</td>\n",
       "      <td>0.931538</td>\n",
       "      <td>8.049231</td>\n",
       "      <td>35.926087</td>\n",
       "    </tr>\n",
       "    <tr>\n",
       "      <th>4</th>\n",
       "      <td>2022-12</td>\n",
       "      <td>ARRAS</td>\n",
       "      <td>PARIS NORD</td>\n",
       "      <td>6.404779</td>\n",
       "      <td>8.538795</td>\n",
       "      <td>43.626364</td>\n",
       "    </tr>\n",
       "    <tr>\n",
       "      <th>5</th>\n",
       "      <td>2022-12</td>\n",
       "      <td>LA ROCHELLE VILLE</td>\n",
       "      <td>PARIS MONTPARNASSE</td>\n",
       "      <td>0.449827</td>\n",
       "      <td>6.075993</td>\n",
       "      <td>44.612037</td>\n",
       "    </tr>\n",
       "    <tr>\n",
       "      <th>6</th>\n",
       "      <td>2022-12</td>\n",
       "      <td>LILLE</td>\n",
       "      <td>LYON PART DIEU</td>\n",
       "      <td>12.610831</td>\n",
       "      <td>15.783297</td>\n",
       "      <td>67.502825</td>\n",
       "    </tr>\n",
       "    <tr>\n",
       "      <th>7</th>\n",
       "      <td>2022-12</td>\n",
       "      <td>LYON PART DIEU</td>\n",
       "      <td>MARSEILLE ST CHARLES</td>\n",
       "      <td>10.365059</td>\n",
       "      <td>11.605795</td>\n",
       "      <td>41.611111</td>\n",
       "    </tr>\n",
       "    <tr>\n",
       "      <th>8</th>\n",
       "      <td>2022-12</td>\n",
       "      <td>LYON PART DIEU</td>\n",
       "      <td>PARIS LYON</td>\n",
       "      <td>3.617389</td>\n",
       "      <td>2.921027</td>\n",
       "      <td>29.198374</td>\n",
       "    </tr>\n",
       "    <tr>\n",
       "      <th>9</th>\n",
       "      <td>2022-12</td>\n",
       "      <td>PARIS EST</td>\n",
       "      <td>REIMS</td>\n",
       "      <td>3.640635</td>\n",
       "      <td>5.205000</td>\n",
       "      <td>45.692857</td>\n",
       "    </tr>\n",
       "  </tbody>\n",
       "</table>\n",
       "</div>"
      ],
      "text/plain": [
       "      date          gare_depart          gare_arrivee  \\\n",
       "0  2022-12           PARIS LYON                ITALIE   \n",
       "1  2022-12            STUTTGART             PARIS EST   \n",
       "2  2022-12  AIX EN PROVENCE TGV            PARIS LYON   \n",
       "3  2022-12               ANNECY            PARIS LYON   \n",
       "4  2022-12                ARRAS            PARIS NORD   \n",
       "5  2022-12    LA ROCHELLE VILLE    PARIS MONTPARNASSE   \n",
       "6  2022-12                LILLE        LYON PART DIEU   \n",
       "7  2022-12       LYON PART DIEU  MARSEILLE ST CHARLES   \n",
       "8  2022-12       LYON PART DIEU            PARIS LYON   \n",
       "9  2022-12            PARIS EST                 REIMS   \n",
       "\n",
       "   retard_moyen_tous_trains_depart  retard_moyen_tous_trains_arrivee  \\\n",
       "0                         3.247126                          9.482759   \n",
       "1                         5.824242                         11.597086   \n",
       "2                         4.189780                          3.231250   \n",
       "3                         0.931538                          8.049231   \n",
       "4                         6.404779                          8.538795   \n",
       "5                         0.449827                          6.075993   \n",
       "6                        12.610831                         15.783297   \n",
       "7                        10.365059                         11.605795   \n",
       "8                         3.617389                          2.921027   \n",
       "9                         3.640635                          5.205000   \n",
       "\n",
       "   retard_moyen_trains_retard_sup15  \n",
       "0                         55.800000  \n",
       "1                         40.812903  \n",
       "2                         30.296296  \n",
       "3                         35.926087  \n",
       "4                         43.626364  \n",
       "5                         44.612037  \n",
       "6                         67.502825  \n",
       "7                         41.611111  \n",
       "8                         29.198374  \n",
       "9                         45.692857  "
      ]
     },
     "execution_count": 4,
     "metadata": {},
     "output_type": "execute_result"
    }
   ],
   "source": [
    "dfTGV = pd.DataFrame(doc_TGV['records'])\n",
    "dfTGV = pd.DataFrame(list(dfTGV['fields']))\n",
    "dfTGV = dfTGV[['date','gare_depart','gare_arrivee','retard_moyen_tous_trains_depart','retard_moyen_tous_trains_arrivee','retard_moyen_trains_retard_sup15']] \n",
    "dfTGV.head(10)"
   ]
  }
 ],
 "metadata": {
  "kernelspec": {
   "display_name": "base",
   "language": "python",
   "name": "python3"
  },
  "language_info": {
   "codemirror_mode": {
    "name": "ipython",
    "version": 3
   },
   "file_extension": ".py",
   "mimetype": "text/x-python",
   "name": "python",
   "nbconvert_exporter": "python",
   "pygments_lexer": "ipython3",
   "version": "3.9.7"
  },
  "orig_nbformat": 4,
  "vscode": {
   "interpreter": {
    "hash": "8009e0c08f080e3ccdfbd0cbb0b868555f7bfe4812d08ec6824acefb94305129"
   }
  }
 },
 "nbformat": 4,
 "nbformat_minor": 2
}
