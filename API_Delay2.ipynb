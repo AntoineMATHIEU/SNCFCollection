{
 "cells": [
  {
   "cell_type": "code",
   "execution_count": 1,
   "metadata": {},
   "outputs": [],
   "source": [
    "import pandas as pd\n",
    "import requests\n",
    "import json\n",
    "import datetime"
   ]
  },
  {
   "cell_type": "code",
   "execution_count": 2,
   "metadata": {},
   "outputs": [],
   "source": [
    "token = 'e7b7fedd-71d0-48c6-8cc7-749e22ba8e80'"
   ]
  },
  {
   "cell_type": "code",
   "execution_count": 3,
   "metadata": {},
   "outputs": [],
   "source": [
    "req = requests.get('https://api.sncf.com/v1/coverage/sncf/vehicle_journeys/vehicle_journey:SNCF:2023-03-02:9713:1187:LongDistanceTrain',auth=(token, ''))"
   ]
  },
  {
   "cell_type": "code",
   "execution_count": 4,
   "metadata": {},
   "outputs": [
    {
     "name": "stdout",
     "output_type": "stream",
     "text": [
      "Nombre de lignes : 1\n"
     ]
    }
   ],
   "source": [
    "doc = json.loads(req.text)\n",
    "row = len(doc['disruptions'])\n",
    "print(f'Nombre de lignes : {row}')"
   ]
  },
  {
   "attachments": {},
   "cell_type": "markdown",
   "metadata": {},
   "source": [
    "# Retard"
   ]
  },
  {
   "attachments": {},
   "cell_type": "markdown",
   "metadata": {},
   "source": [
    "## Liste des retards"
   ]
  },
  {
   "cell_type": "code",
   "execution_count": 5,
   "metadata": {},
   "outputs": [
    {
     "data": {
      "text/html": [
       "<div>\n",
       "<style scoped>\n",
       "    .dataframe tbody tr th:only-of-type {\n",
       "        vertical-align: middle;\n",
       "    }\n",
       "\n",
       "    .dataframe tbody tr th {\n",
       "        vertical-align: top;\n",
       "    }\n",
       "\n",
       "    .dataframe thead th {\n",
       "        text-align: right;\n",
       "    }\n",
       "</style>\n",
       "<table border=\"1\" class=\"dataframe\">\n",
       "  <thead>\n",
       "    <tr style=\"text-align: right;\">\n",
       "      <th></th>\n",
       "      <th>status</th>\n",
       "      <th>disruption_id</th>\n",
       "      <th>severity</th>\n",
       "      <th>impact_id</th>\n",
       "      <th>application_periods</th>\n",
       "      <th>messages</th>\n",
       "      <th>updated_at</th>\n",
       "      <th>uri</th>\n",
       "      <th>impacted_objects</th>\n",
       "      <th>disruption_uri</th>\n",
       "      <th>contributor</th>\n",
       "      <th>cause</th>\n",
       "      <th>id</th>\n",
       "    </tr>\n",
       "  </thead>\n",
       "  <tbody>\n",
       "    <tr>\n",
       "      <th>0</th>\n",
       "      <td>active</td>\n",
       "      <td>49b3f803-d5a1-4fb5-a17f-4f15e6fab2c3</td>\n",
       "      <td>{'color': '#000000', 'priority': 42, 'name': '...</td>\n",
       "      <td>49b3f803-d5a1-4fb5-a17f-4f15e6fab2c3</td>\n",
       "      <td>[{'begin': '20230302T093800', 'end': '20230302...</td>\n",
       "      <td>[{'text': 'Intervention des forces de l'ordre'...</td>\n",
       "      <td>20230302T111443</td>\n",
       "      <td>49b3f803-d5a1-4fb5-a17f-4f15e6fab2c3</td>\n",
       "      <td>[{'impacted_stops': [{'amended_arrival_time': ...</td>\n",
       "      <td>49b3f803-d5a1-4fb5-a17f-4f15e6fab2c3</td>\n",
       "      <td>realtime.sncf.piv</td>\n",
       "      <td></td>\n",
       "      <td>49b3f803-d5a1-4fb5-a17f-4f15e6fab2c3</td>\n",
       "    </tr>\n",
       "  </tbody>\n",
       "</table>\n",
       "</div>"
      ],
      "text/plain": [
       "   status                         disruption_id  \\\n",
       "0  active  49b3f803-d5a1-4fb5-a17f-4f15e6fab2c3   \n",
       "\n",
       "                                            severity  \\\n",
       "0  {'color': '#000000', 'priority': 42, 'name': '...   \n",
       "\n",
       "                              impact_id  \\\n",
       "0  49b3f803-d5a1-4fb5-a17f-4f15e6fab2c3   \n",
       "\n",
       "                                 application_periods  \\\n",
       "0  [{'begin': '20230302T093800', 'end': '20230302...   \n",
       "\n",
       "                                            messages       updated_at  \\\n",
       "0  [{'text': 'Intervention des forces de l'ordre'...  20230302T111443   \n",
       "\n",
       "                                    uri  \\\n",
       "0  49b3f803-d5a1-4fb5-a17f-4f15e6fab2c3   \n",
       "\n",
       "                                    impacted_objects  \\\n",
       "0  [{'impacted_stops': [{'amended_arrival_time': ...   \n",
       "\n",
       "                         disruption_uri        contributor cause  \\\n",
       "0  49b3f803-d5a1-4fb5-a17f-4f15e6fab2c3  realtime.sncf.piv         \n",
       "\n",
       "                                     id  \n",
       "0  49b3f803-d5a1-4fb5-a17f-4f15e6fab2c3  "
      ]
     },
     "execution_count": 5,
     "metadata": {},
     "output_type": "execute_result"
    }
   ],
   "source": [
    "df = pd.DataFrame(doc['disruptions'])\n",
    "df.head()"
   ]
  },
  {
   "attachments": {},
   "cell_type": "markdown",
   "metadata": {},
   "source": [
    "## Etat du retard"
   ]
  },
  {
   "cell_type": "code",
   "execution_count": 13,
   "metadata": {},
   "outputs": [
    {
     "data": {
      "text/html": [
       "<div>\n",
       "<style scoped>\n",
       "    .dataframe tbody tr th:only-of-type {\n",
       "        vertical-align: middle;\n",
       "    }\n",
       "\n",
       "    .dataframe tbody tr th {\n",
       "        vertical-align: top;\n",
       "    }\n",
       "\n",
       "    .dataframe thead th {\n",
       "        text-align: right;\n",
       "    }\n",
       "</style>\n",
       "<table border=\"1\" class=\"dataframe\">\n",
       "  <thead>\n",
       "    <tr style=\"text-align: right;\">\n",
       "      <th></th>\n",
       "      <th>text</th>\n",
       "      <th>channel</th>\n",
       "    </tr>\n",
       "  </thead>\n",
       "  <tbody>\n",
       "    <tr>\n",
       "      <th>0</th>\n",
       "      <td>Intervention des forces de l'ordre</td>\n",
       "      <td>{'content_type': '', 'id': 'rt', 'types': ['we...</td>\n",
       "    </tr>\n",
       "  </tbody>\n",
       "</table>\n",
       "</div>"
      ],
      "text/plain": [
       "                                 text  \\\n",
       "0  Intervention des forces de l'ordre   \n",
       "\n",
       "                                             channel  \n",
       "0  {'content_type': '', 'id': 'rt', 'types': ['we...  "
      ]
     },
     "execution_count": 13,
     "metadata": {},
     "output_type": "execute_result"
    }
   ],
   "source": [
    "df_info = pd.DataFrame(list(df['messages'][0]))\n",
    "df_info.head()"
   ]
  },
  {
   "cell_type": "code",
   "execution_count": 14,
   "metadata": {},
   "outputs": [
    {
     "data": {
      "text/plain": [
       "\"Intervention des forces de l'ordre\""
      ]
     },
     "execution_count": 14,
     "metadata": {},
     "output_type": "execute_result"
    }
   ],
   "source": [
    "df_info.iloc[0]['text']"
   ]
  },
  {
   "attachments": {},
   "cell_type": "markdown",
   "metadata": {},
   "source": [
    "## Combinaison"
   ]
  },
  {
   "cell_type": "code",
   "execution_count": 7,
   "metadata": {},
   "outputs": [
    {
     "data": {
      "text/html": [
       "<div>\n",
       "<style scoped>\n",
       "    .dataframe tbody tr th:only-of-type {\n",
       "        vertical-align: middle;\n",
       "    }\n",
       "\n",
       "    .dataframe tbody tr th {\n",
       "        vertical-align: top;\n",
       "    }\n",
       "\n",
       "    .dataframe thead th {\n",
       "        text-align: right;\n",
       "    }\n",
       "</style>\n",
       "<table border=\"1\" class=\"dataframe\">\n",
       "  <thead>\n",
       "    <tr style=\"text-align: right;\">\n",
       "      <th></th>\n",
       "      <th>effect</th>\n",
       "    </tr>\n",
       "  </thead>\n",
       "  <tbody>\n",
       "    <tr>\n",
       "      <th>0</th>\n",
       "      <td>SIGNIFICANT_DELAYS</td>\n",
       "    </tr>\n",
       "  </tbody>\n",
       "</table>\n",
       "</div>"
      ],
      "text/plain": [
       "               effect\n",
       "0  SIGNIFICANT_DELAYS"
      ]
     },
     "execution_count": 7,
     "metadata": {},
     "output_type": "execute_result"
    }
   ],
   "source": [
    "df_fin = df_info.copy()\n",
    "df_fin = df_fin[df_fin['effect'] == 'SIGNIFICANT_DELAYS']\n",
    "df_fin = df_fin[['effect']]\n",
    "df_fin"
   ]
  },
  {
   "cell_type": "code",
   "execution_count": 8,
   "metadata": {},
   "outputs": [],
   "source": [
    "gare_d = []\n",
    "gare_a = []\n",
    "cause = []\n",
    "retard = []\n",
    "heure = []\n",
    "\n",
    "for i in df_fin.index:\n",
    "    df_mod = pd.DataFrame(list(df['impacted_objects'][i]))\n",
    "    df_mod = pd.DataFrame(list(df_mod['impacted_stops'])[0])\n",
    "    df_mod = df_mod[(df_mod['amended_arrival_time'].notnull())]\n",
    "    df_mod = df_mod[(df_mod['base_arrival_time'].notnull())]\n",
    "\n",
    "    retard_val = int(df_mod.iloc[-1]['amended_arrival_time']) - int(df_mod.iloc[-1]['base_arrival_time'])\n",
    "\n",
    "    df_mod['gare'] = pd.DataFrame(list(df_mod['stop_point']))['name']\n",
    "\n",
    "    gare_d.append(df_mod.iloc[0]['gare'])\n",
    "    gare_a.append(df_mod.iloc[-1]['gare'])\n",
    "    cause.append(df_mod.iloc[-1]['cause'])\n",
    "    retard.append(str(retard_val)[:-2])\n",
    "    heure.append(df_mod.iloc[0]['amended_departure_time'])"
   ]
  },
  {
   "cell_type": "code",
   "execution_count": 9,
   "metadata": {},
   "outputs": [],
   "source": [
    "df_fin['gare_depart'] = gare_d\n",
    "df_fin['gare_arrivee'] = gare_a\n",
    "df_fin['cause'] = cause\n",
    "df_fin['retard_min'] = retard\n",
    "df_fin['heure_depart'] = heure"
   ]
  },
  {
   "cell_type": "code",
   "execution_count": 10,
   "metadata": {},
   "outputs": [],
   "source": [
    "def str_tps(str):\n",
    "    return datetime.datetime.strptime(str, '%H%M%S').time()\n",
    "\n",
    "df_fin['heure_depart'] = df_fin['heure_depart'].apply(str_tps)"
   ]
  },
  {
   "cell_type": "code",
   "execution_count": 11,
   "metadata": {},
   "outputs": [
    {
     "data": {
      "text/html": [
       "<div>\n",
       "<style scoped>\n",
       "    .dataframe tbody tr th:only-of-type {\n",
       "        vertical-align: middle;\n",
       "    }\n",
       "\n",
       "    .dataframe tbody tr th {\n",
       "        vertical-align: top;\n",
       "    }\n",
       "\n",
       "    .dataframe thead th {\n",
       "        text-align: right;\n",
       "    }\n",
       "</style>\n",
       "<table border=\"1\" class=\"dataframe\">\n",
       "  <thead>\n",
       "    <tr style=\"text-align: right;\">\n",
       "      <th></th>\n",
       "      <th>effect</th>\n",
       "      <th>gare_depart</th>\n",
       "      <th>gare_arrivee</th>\n",
       "      <th>cause</th>\n",
       "      <th>retard_min</th>\n",
       "      <th>heure_depart</th>\n",
       "    </tr>\n",
       "  </thead>\n",
       "  <tbody>\n",
       "    <tr>\n",
       "      <th>0</th>\n",
       "      <td>SIGNIFICANT_DELAYS</td>\n",
       "      <td>Paris - Gare de Lyon - Hall 1 &amp; 2</td>\n",
       "      <td>Barcelona Sants</td>\n",
       "      <td>Intervention des forces de l'ordre</td>\n",
       "      <td>85</td>\n",
       "      <td>10:23:00</td>\n",
       "    </tr>\n",
       "  </tbody>\n",
       "</table>\n",
       "</div>"
      ],
      "text/plain": [
       "               effect                        gare_depart     gare_arrivee  \\\n",
       "0  SIGNIFICANT_DELAYS  Paris - Gare de Lyon - Hall 1 & 2  Barcelona Sants   \n",
       "\n",
       "                                cause retard_min heure_depart  \n",
       "0  Intervention des forces de l'ordre         85     10:23:00  "
      ]
     },
     "execution_count": 11,
     "metadata": {},
     "output_type": "execute_result"
    }
   ],
   "source": [
    "df_fin"
   ]
  }
 ],
 "metadata": {
  "kernelspec": {
   "display_name": "cours",
   "language": "python",
   "name": "python3"
  },
  "language_info": {
   "codemirror_mode": {
    "name": "ipython",
    "version": 3
   },
   "file_extension": ".py",
   "mimetype": "text/x-python",
   "name": "python",
   "nbconvert_exporter": "python",
   "pygments_lexer": "ipython3",
   "version": "3.11.0"
  },
  "orig_nbformat": 4,
  "vscode": {
   "interpreter": {
    "hash": "0a59d7732367dd45dfe4a39cb689f1e83b4581778499ea1daf18f697fa462324"
   }
  }
 },
 "nbformat": 4,
 "nbformat_minor": 2
}
