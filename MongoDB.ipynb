{
 "cells": [
  {
   "attachments": {},
   "cell_type": "markdown",
   "metadata": {},
   "source": [
    "# MongoDB / Python"
   ]
  },
  {
   "cell_type": "code",
   "execution_count": 1,
   "metadata": {},
   "outputs": [],
   "source": [
    "# Set service\n",
    "from pymongo import MongoClient\n",
    "\n",
    "client  = MongoClient()\n",
    "SNCFCollection = client.SNCFCollection"
   ]
  },
  {
   "cell_type": "code",
   "execution_count": 2,
   "metadata": {},
   "outputs": [],
   "source": [
    "# choix de DB et collection\n",
    "Departure = SNCFCollection.Departure\n",
    "Delay = SNCFCollection.Delay\n",
    "Arrival = SNCFCollection.Arrival"
   ]
  },
  {
   "cell_type": "code",
   "execution_count": 3,
   "metadata": {},
   "outputs": [],
   "source": [
    "# Collection Departue\n",
    "# csv -> dataframe\n",
    "import pandas as pd\n",
    "df_Departure = pd.read_csv('Departure.csv')\n",
    "\n",
    "Departure.delete_many({})\n",
    "\n",
    "# insert all data to DB SNCFCollection\n",
    "for index, row in df_Departure.iterrows():\n",
    "    data = row.to_dict()\n",
    "    Departure.insert_one(data)\n"
   ]
  },
  {
   "cell_type": "code",
   "execution_count": 4,
   "metadata": {},
   "outputs": [],
   "source": [
    "# Collection Delay\n",
    "df_Delay = pd.read_csv('Delay.csv')\n",
    "\n",
    "Delay.delete_many({})\n",
    "\n",
    "for index, row in df_Delay.iterrows():\n",
    "    data = row.to_dict()\n",
    "    Delay.insert_one(data)"
   ]
  },
  {
   "cell_type": "code",
   "execution_count": 5,
   "metadata": {},
   "outputs": [],
   "source": [
    "# Collection Arrival\n",
    "df_Arrival = pd.read_csv('Arrival.csv')\n",
    "\n",
    "Arrival.delete_many({})\n",
    "\n",
    "for index, row in df_Arrival.iterrows():\n",
    "    data = row.to_dict()\n",
    "    Arrival.insert_one(data)"
   ]
  },
  {
   "cell_type": "code",
   "execution_count": null,
   "metadata": {},
   "outputs": [],
   "source": []
  }
 ],
 "metadata": {
  "kernelspec": {
   "display_name": "Python 3",
   "language": "python",
   "name": "python3"
  },
  "language_info": {
   "codemirror_mode": {
    "name": "ipython",
    "version": 3
   },
   "file_extension": ".py",
   "mimetype": "text/x-python",
   "name": "python",
   "nbconvert_exporter": "python",
   "pygments_lexer": "ipython3",
   "version": "3.9.0"
  },
  "orig_nbformat": 4
 },
 "nbformat": 4,
 "nbformat_minor": 2
}
