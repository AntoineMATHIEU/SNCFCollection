{
 "cells": [
  {
   "attachments": {},
   "cell_type": "markdown",
   "metadata": {},
   "source": [
    "Ce script permet d'afficher les trains au départ de n'importe quelle gare française.\n",
    "\n",
    "La liste des noms des gares française se trouve dans le fichier Excel **liste_gares.xlsx**"
   ]
  },
  {
   "attachments": {},
   "cell_type": "markdown",
   "metadata": {},
   "source": [
    "# Code"
   ]
  },
  {
   "attachments": {},
   "cell_type": "markdown",
   "metadata": {},
   "source": [
    "## Import des Modules"
   ]
  },
  {
   "cell_type": "code",
   "execution_count": 53,
   "metadata": {},
   "outputs": [],
   "source": [
    "import pandas as pd\n",
    "import requests\n",
    "import json\n",
    "import datetime"
   ]
  },
  {
   "attachments": {},
   "cell_type": "markdown",
   "metadata": {},
   "source": [
    "## Choix de la gare et du nombre de trains affichés"
   ]
  },
  {
   "cell_type": "code",
   "execution_count": 54,
   "metadata": {},
   "outputs": [],
   "source": [
    "gare = \"Alès\"\n",
    "\n",
    "# Max 250\n",
    "nb_trains = 20"
   ]
  },
  {
   "attachments": {},
   "cell_type": "markdown",
   "metadata": {},
   "source": [
    "Mise en varaible du token de connexion à l'API SNCF V1"
   ]
  },
  {
   "cell_type": "code",
   "execution_count": 55,
   "metadata": {},
   "outputs": [],
   "source": [
    "token = 'e7b7fedd-71d0-48c6-8cc7-749e22ba8e80'"
   ]
  },
  {
   "attachments": {},
   "cell_type": "markdown",
   "metadata": {},
   "source": [
    "## Création du dictionnaire des gares françaises"
   ]
  },
  {
   "attachments": {},
   "cell_type": "markdown",
   "metadata": {},
   "source": [
    "Requête à l'API SNCF (pas besoin de token ici) afin de récupérer la liste des gares françaises et l'identifiant associé"
   ]
  },
  {
   "cell_type": "code",
   "execution_count": 56,
   "metadata": {},
   "outputs": [
    {
     "name": "stdout",
     "output_type": "stream",
     "text": [
      "Nombre de gares : 3220\n"
     ]
    }
   ],
   "source": [
    "req_gare = requests.get(\"https://ressources.data.sncf.com/api/records/1.0/search/?dataset=referentiel-gares-voyageurs&q=&rows=3220&sort=gare_alias_libelle_noncontraint&facet=departement_libellemin&facet=segmentdrg_libelle&facet=gare_agencegc_libelle&facet=gare_regionsncf_libelle&facet=gare_ug_libelle\")\n",
    "doc_gare = json.loads(req_gare.text)\n",
    "row_gare = len(doc_gare['records'])\n",
    "print(f'Nombre de gares : {row_gare}')"
   ]
  },
  {
   "attachments": {},
   "cell_type": "markdown",
   "metadata": {},
   "source": [
    "On ne garde que le nom de la gare et l'identifiant"
   ]
  },
  {
   "cell_type": "code",
   "execution_count": 57,
   "metadata": {},
   "outputs": [],
   "source": [
    "df_dic = pd.DataFrame(doc_gare['records'])\n",
    "df_dic = pd.DataFrame(list(df_dic['fields']))\n",
    "df_dic = df_dic[['alias_libelle_noncontraint','uic_code']]"
   ]
  },
  {
   "attachments": {},
   "cell_type": "markdown",
   "metadata": {},
   "source": [
    "On retire les `0` inutiles au début de l'identifiant de gare"
   ]
  },
  {
   "cell_type": "code",
   "execution_count": 58,
   "metadata": {},
   "outputs": [],
   "source": [
    "def removezero(string):\n",
    "    return 'SNCF:' + str(string)[2:]\n",
    "\n",
    "df_dic['uic_code'] = df_dic['uic_code'].apply(removezero)"
   ]
  },
  {
   "attachments": {},
   "cell_type": "markdown",
   "metadata": {},
   "source": [
    "On convertit le dataframe en dictionnaire python"
   ]
  },
  {
   "cell_type": "code",
   "execution_count": 59,
   "metadata": {},
   "outputs": [
    {
     "name": "stderr",
     "output_type": "stream",
     "text": [
      "/var/folders/bg/vbvjjnmj0hv9wmb92ngxcq9m0000gn/T/ipykernel_2933/3118890846.py:2: UserWarning: DataFrame columns are not unique, some columns will be omitted.\n",
      "  dic_gare = df_dic.set_index('alias_libelle_noncontraint').T.to_dict('list')\n"
     ]
    }
   ],
   "source": [
    "df_dic.convert_dtypes()\n",
    "dic_gare = df_dic.set_index('alias_libelle_noncontraint').T.to_dict('list')"
   ]
  },
  {
   "attachments": {},
   "cell_type": "markdown",
   "metadata": {},
   "source": [
    "## Obtention des trains à l'arrivée en gare"
   ]
  },
  {
   "attachments": {},
   "cell_type": "markdown",
   "metadata": {},
   "source": [
    "Requête à l'API SNCF afin de récupérer la liste des trains à l'arrivée en gare"
   ]
  },
  {
   "cell_type": "code",
   "execution_count": 60,
   "metadata": {},
   "outputs": [],
   "source": [
    "link = 'https://api.sncf.com/v1/coverage/sncf/stop_areas/stop_area:' + dic_gare[gare][0] + '/arrivals?count=' + str(nb_trains)\n",
    "req = requests.get(link,auth=(token, ''))\n",
    "#print(link)"
   ]
  },
  {
   "cell_type": "code",
   "execution_count": 61,
   "metadata": {},
   "outputs": [
    {
     "name": "stdout",
     "output_type": "stream",
     "text": [
      "Nombre de trains : 20\n"
     ]
    }
   ],
   "source": [
    "doc = json.loads(req.text)\n",
    "row = len(doc['arrivals'])\n",
    "print(f'Nombre de trains : {row}')"
   ]
  },
  {
   "attachments": {},
   "cell_type": "markdown",
   "metadata": {},
   "source": [
    "On découpe le résultat de la requête en 3 dataframes distincts :\n",
    "\n",
    "- **df_gare** qui donne les informations sur la direction du train, son type (TER, TGV, etc.) et son numéro\n",
    "\n",
    "- **df_heure** qui donne des informations sur un éventuel retard du train\n",
    "\n",
    "- **df_id** qui contient l'identifiant du voyage, ce qui nous servira à récupérer d'autres données plus tard"
   ]
  },
  {
   "cell_type": "code",
   "execution_count": 62,
   "metadata": {},
   "outputs": [],
   "source": [
    "df = pd.DataFrame(doc['arrivals'])\n",
    "df_gare = pd.DataFrame(list(df['display_informations']))\n",
    "df_heure = pd.DataFrame(list(df['stop_date_time']))\n",
    "df_id = pd.DataFrame(list(df['links']))\n",
    "df_id = pd.DataFrame(list(df_id[1]))"
   ]
  },
  {
   "attachments": {},
   "cell_type": "markdown",
   "metadata": {},
   "source": [
    "On récupère le jour de départ du train"
   ]
  },
  {
   "cell_type": "code",
   "execution_count": 63,
   "metadata": {},
   "outputs": [],
   "source": [
    "def get_day(string):\n",
    "    string = string[:8]\n",
    "    return string[6:8]+'-'+string[4:6]+'-'+string[0:4]\n",
    "\n",
    "df_heure['jour'] = df_heure['departure_date_time'].apply(get_day)"
   ]
  },
  {
   "attachments": {},
   "cell_type": "markdown",
   "metadata": {},
   "source": [
    "On ne garde que les trains en retard"
   ]
  },
  {
   "cell_type": "code",
   "execution_count": 64,
   "metadata": {},
   "outputs": [],
   "source": [
    "df_heure = df_heure.drop(index=df_heure[df_heure['base_departure_date_time'].isnull()].index)\n",
    "df_gare = df_gare.drop(index=df_gare[df_gare['network']=='additional service'].index)"
   ]
  },
  {
   "attachments": {},
   "cell_type": "markdown",
   "metadata": {},
   "source": [
    "On récupère l'heure d'arrivée prévue et réelle du train"
   ]
  },
  {
   "cell_type": "code",
   "execution_count": 65,
   "metadata": {},
   "outputs": [],
   "source": [
    "def del_day(string):\n",
    "    return string[9:]\n",
    "\n",
    "df_heure['arrival_date_time'] = df_heure['arrival_date_time'].apply(del_day)\n",
    "df_heure['base_arrival_date_time'] = df_heure['base_arrival_date_time'].apply(del_day)"
   ]
  },
  {
   "attachments": {},
   "cell_type": "markdown",
   "metadata": {},
   "source": [
    "On calcule le retard du train et on le convertit au format heure de `datetime`"
   ]
  },
  {
   "cell_type": "code",
   "execution_count": 66,
   "metadata": {},
   "outputs": [],
   "source": [
    "def conv_min(string):\n",
    "    return int(string[0:2])*60 + int(string[2:4])\n",
    "\n",
    "df_heure['retard'] = df_heure['arrival_date_time'].apply(conv_min) - df_heure['base_arrival_date_time'].apply(conv_min)"
   ]
  },
  {
   "cell_type": "code",
   "execution_count": 67,
   "metadata": {},
   "outputs": [],
   "source": [
    "def str_tps(str):\n",
    "    return datetime.datetime.strptime(str, '%H%M%S').time()\n",
    "\n",
    "df_heure['heure'] = df_heure['arrival_date_time'].apply(str_tps)\n",
    "df_heure['old_heure'] = df_heure['base_arrival_date_time'].apply(str_tps)"
   ]
  },
  {
   "attachments": {},
   "cell_type": "markdown",
   "metadata": {},
   "source": [
    "On retire le nom de la ville ou se situe la gare pour plus de lisibilité.\n",
    "\n",
    "_Exemple :_ `Paris Gare de Lyon (Paris)` devient `Paris Gare de Lyon`"
   ]
  },
  {
   "cell_type": "code",
   "execution_count": 68,
   "metadata": {},
   "outputs": [],
   "source": [
    "def del_par(string):\n",
    "    index = string.find(\"(\")\n",
    "    return string[:index]\n",
    "\n",
    "df_gare['direction'] = df_gare['direction'].apply(del_par)"
   ]
  },
  {
   "attachments": {},
   "cell_type": "markdown",
   "metadata": {},
   "source": [
    "On renome les colonnes du dataframe **df_gare** et on y ajoute :\n",
    "\n",
    "- Le jour de départ\n",
    "\n",
    "- L'heure d'arrivée réelle\n",
    "\n",
    "- L'heure d'arrivée prévue\n",
    "\n",
    "- Le retard à l'arrivée en minutes du train\n",
    "\n",
    "- L'identifiant du voyage"
   ]
  },
  {
   "cell_type": "code",
   "execution_count": 69,
   "metadata": {},
   "outputs": [],
   "source": [
    "df_gare = df_gare[['direction','network','trip_short_name']]\n",
    "df_gare.rename(columns = {'direction':'Destination'}, inplace = True)\n",
    "df_gare.rename(columns = {'network':'Train'}, inplace = True)\n",
    "df_gare.rename(columns = {'trip_short_name':'Numéro'}, inplace = True)\n",
    "\n",
    "df_gare['Jour'] = df_heure['jour']\n",
    "df_gare['Arrivée (réelle)'] = df_heure['heure']\n",
    "df_gare['Arrivée (prévue)'] = df_heure['old_heure']\n",
    "df_gare['Retard (min)'] = df_heure['retard']\n",
    "df_gare['id'] = df_id['id']"
   ]
  },
  {
   "attachments": {},
   "cell_type": "markdown",
   "metadata": {},
   "source": [
    "## Obtention des arrêts et de la cause de retard du train"
   ]
  },
  {
   "attachments": {},
   "cell_type": "markdown",
   "metadata": {},
   "source": [
    "Création d'une fonction permettant de récupérer uniquement le nom de la gare dans le json et de supprimer les données superflues"
   ]
  },
  {
   "cell_type": "code",
   "execution_count": 70,
   "metadata": {},
   "outputs": [],
   "source": [
    "def get_name(string):\n",
    "    string = string[10:]\n",
    "    index_fin = string.find(\"', 'links'\")\n",
    "    return string[:index_fin]"
   ]
  },
  {
   "attachments": {},
   "cell_type": "markdown",
   "metadata": {},
   "source": [
    "Pour chaque train, on effectue un requête grâce à l'**id** du voyage afin de récupérer les arrêts et l'éventuelle cause du retard de celui-ci"
   ]
  },
  {
   "cell_type": "code",
   "execution_count": 71,
   "metadata": {},
   "outputs": [],
   "source": [
    "arrets = []\n",
    "causes = []\n",
    "for index, row in df_gare.iterrows():\n",
    "    id = row['id']\n",
    "    \n",
    "    # Il faut retirer la partie 'RealTime' de l'id pour faire la requête\n",
    "    if 'RealTime' in id:\n",
    "        index_id = id.index(\"RealTime\")\n",
    "        id = id[:index_id-1]\n",
    "    \n",
    "    # On effectue la requête\n",
    "    link_voyage = 'https://api.sncf.com/v1/coverage/sncf/vehicle_journeys/' + id\n",
    "    req_arret = requests.get(link_voyage ,auth=(token, ''))\n",
    "    doc_voyage = json.loads(req_arret.text)\n",
    "\n",
    "    # On récupère la liste des arrêts du train\n",
    "    df_arret = pd.DataFrame(doc_voyage['vehicle_journeys'])\n",
    "    df_arret = pd.DataFrame(list(df_arret['stop_times']))\n",
    "    df_arret = df_arret.T\n",
    "    df_arret = pd.DataFrame(list(df_arret[0]))\n",
    "    df_arret['stop_point'] = df_arret['stop_point'].astype('str').apply(get_name)\n",
    "\n",
    "    # Si le train est en retard, on récupère la cause du retard\n",
    "    # On renvoie \"Retard non expliqué\" si la SNCF ne fournit pas plus d'informations sur le retard\n",
    "    if row['Retard (min)'] != 0:\n",
    "        df_retard = pd.DataFrame(doc_voyage['disruptions'])\n",
    "        if 'messages' in df_retard:\n",
    "            df_retard = pd.DataFrame(list(df_retard['messages'][0]))\n",
    "            causes.append(df_retard.iloc[0]['text'])\n",
    "        else:\n",
    "            causes.append(\"Retard non expliqué\")\n",
    "    else:\n",
    "        causes.append(\"\")\n",
    "\n",
    "    # On ajoute tous les arrêts du train\n",
    "    liste_arrets = list(df_arret['stop_point'])\n",
    "    arrets.append(liste_arrets)"
   ]
  },
  {
   "attachments": {},
   "cell_type": "markdown",
   "metadata": {},
   "source": [
    "On ajoute la cause du retard ainsi que les arrêts au dataframe **df_gare**\n",
    "On retire aussi l'id du voyage qui ne sert plus à rien"
   ]
  },
  {
   "cell_type": "code",
   "execution_count": 72,
   "metadata": {},
   "outputs": [],
   "source": [
    "df_gare['Cause'] = causes\n",
    "df_gare['Arrêts'] = arrets\n",
    "df_gare = df_gare.drop(['id'], axis=1)"
   ]
  },
  {
   "attachments": {},
   "cell_type": "markdown",
   "metadata": {},
   "source": [
    "On affiche le dataframe final"
   ]
  },
  {
   "cell_type": "code",
   "execution_count": 73,
   "metadata": {},
   "outputs": [
    {
     "data": {
      "text/html": [
       "<div>\n",
       "<style scoped>\n",
       "    .dataframe tbody tr th:only-of-type {\n",
       "        vertical-align: middle;\n",
       "    }\n",
       "\n",
       "    .dataframe tbody tr th {\n",
       "        vertical-align: top;\n",
       "    }\n",
       "\n",
       "    .dataframe thead th {\n",
       "        text-align: right;\n",
       "    }\n",
       "</style>\n",
       "<table border=\"1\" class=\"dataframe\">\n",
       "  <thead>\n",
       "    <tr style=\"text-align: right;\">\n",
       "      <th></th>\n",
       "      <th>Destination</th>\n",
       "      <th>Train</th>\n",
       "      <th>Numéro</th>\n",
       "      <th>Jour</th>\n",
       "      <th>Arrivée (réelle)</th>\n",
       "      <th>Arrivée (prévue)</th>\n",
       "      <th>Retard (min)</th>\n",
       "      <th>Cause</th>\n",
       "      <th>Arrêts</th>\n",
       "    </tr>\n",
       "  </thead>\n",
       "  <tbody>\n",
       "    <tr>\n",
       "      <th>1</th>\n",
       "      <td>Clermont-Ferrand</td>\n",
       "      <td>TER</td>\n",
       "      <td>873994</td>\n",
       "      <td>05-03-2023</td>\n",
       "      <td>17:45:00</td>\n",
       "      <td>17:35:00</td>\n",
       "      <td>10</td>\n",
       "      <td>Prise en charge de clients en correspondance</td>\n",
       "      <td>[Nîmes Centre, Fons - Saint-Mamert, Saint-Geni...</td>\n",
       "    </tr>\n",
       "    <tr>\n",
       "      <th>4</th>\n",
       "      <td>Marvejols</td>\n",
       "      <td>TER</td>\n",
       "      <td>877714</td>\n",
       "      <td>05-03-2023</td>\n",
       "      <td>18:49:00</td>\n",
       "      <td>18:49:00</td>\n",
       "      <td>0</td>\n",
       "      <td></td>\n",
       "      <td>[Nîmes Centre, Fons - Saint-Mamert, Saint-Geni...</td>\n",
       "    </tr>\n",
       "    <tr>\n",
       "      <th>5</th>\n",
       "      <td>Nîmes Centre</td>\n",
       "      <td>TER</td>\n",
       "      <td>877715</td>\n",
       "      <td>05-03-2023</td>\n",
       "      <td>19:26:30</td>\n",
       "      <td>19:26:30</td>\n",
       "      <td>0</td>\n",
       "      <td></td>\n",
       "      <td>[Mende, Bagnols - Chadenet, Allenc, Belvezet, ...</td>\n",
       "    </tr>\n",
       "    <tr>\n",
       "      <th>6</th>\n",
       "      <td>Alès</td>\n",
       "      <td>TER</td>\n",
       "      <td>34004</td>\n",
       "      <td>05-03-2023</td>\n",
       "      <td>21:11:00</td>\n",
       "      <td>21:11:00</td>\n",
       "      <td>0</td>\n",
       "      <td></td>\n",
       "      <td>[Nîmes Centre, Alès]</td>\n",
       "    </tr>\n",
       "    <tr>\n",
       "      <th>7</th>\n",
       "      <td>Nîmes Centre</td>\n",
       "      <td>TER</td>\n",
       "      <td>873995</td>\n",
       "      <td>05-03-2023</td>\n",
       "      <td>21:45:30</td>\n",
       "      <td>21:30:30</td>\n",
       "      <td>15</td>\n",
       "      <td>Prise en charge de clients en correspondance</td>\n",
       "      <td>[Clermont-Ferrand, Clermont la Pardieu, Issoir...</td>\n",
       "    </tr>\n",
       "    <tr>\n",
       "      <th>8</th>\n",
       "      <td>Alès</td>\n",
       "      <td>TER</td>\n",
       "      <td>877526</td>\n",
       "      <td>05-03-2023</td>\n",
       "      <td>21:53:30</td>\n",
       "      <td>21:53:30</td>\n",
       "      <td>0</td>\n",
       "      <td></td>\n",
       "      <td>[Nîmes Centre, Saint-Geniès-de-Malgoirès, Alès]</td>\n",
       "    </tr>\n",
       "    <tr>\n",
       "      <th>9</th>\n",
       "      <td>Nîmes Centre</td>\n",
       "      <td>TER</td>\n",
       "      <td>877505</td>\n",
       "      <td>06-03-2023</td>\n",
       "      <td>06:44:00</td>\n",
       "      <td>06:44:00</td>\n",
       "      <td>0</td>\n",
       "      <td></td>\n",
       "      <td>[Génolhac, Chamborigaud, Sainte-Cécile-d'Andor...</td>\n",
       "    </tr>\n",
       "    <tr>\n",
       "      <th>10</th>\n",
       "      <td>Génolhac</td>\n",
       "      <td>TER</td>\n",
       "      <td>877500</td>\n",
       "      <td>06-03-2023</td>\n",
       "      <td>06:46:30</td>\n",
       "      <td>06:46:30</td>\n",
       "      <td>0</td>\n",
       "      <td></td>\n",
       "      <td>[Nîmes Centre, Saint-Geniès-de-Malgoirès, Alès...</td>\n",
       "    </tr>\n",
       "    <tr>\n",
       "      <th>11</th>\n",
       "      <td>Nîmes Centre</td>\n",
       "      <td>TER</td>\n",
       "      <td>877703</td>\n",
       "      <td>06-03-2023</td>\n",
       "      <td>07:21:00</td>\n",
       "      <td>07:21:00</td>\n",
       "      <td>0</td>\n",
       "      <td></td>\n",
       "      <td>[Mende, Bagnols - Chadenet, Allenc, Belvezet, ...</td>\n",
       "    </tr>\n",
       "    <tr>\n",
       "      <th>12</th>\n",
       "      <td>Alès</td>\n",
       "      <td>TER</td>\n",
       "      <td>877502</td>\n",
       "      <td>06-03-2023</td>\n",
       "      <td>07:34:30</td>\n",
       "      <td>07:34:30</td>\n",
       "      <td>0</td>\n",
       "      <td></td>\n",
       "      <td>[Nîmes Centre, Fons - Saint-Mamert, Saint-Geni...</td>\n",
       "    </tr>\n",
       "    <tr>\n",
       "      <th>13</th>\n",
       "      <td>Langogne</td>\n",
       "      <td>TER</td>\n",
       "      <td>878918</td>\n",
       "      <td>06-03-2023</td>\n",
       "      <td>07:50:30</td>\n",
       "      <td>07:50:30</td>\n",
       "      <td>0</td>\n",
       "      <td></td>\n",
       "      <td>[Nîmes Centre, Fons - Saint-Mamert, Saint-Geni...</td>\n",
       "    </tr>\n",
       "    <tr>\n",
       "      <th>14</th>\n",
       "      <td>Nîmes Centre</td>\n",
       "      <td>TER</td>\n",
       "      <td>877507</td>\n",
       "      <td>06-03-2023</td>\n",
       "      <td>08:27:30</td>\n",
       "      <td>08:27:30</td>\n",
       "      <td>0</td>\n",
       "      <td></td>\n",
       "      <td>[Génolhac, Chamborigaud, Sainte-Cécile-d'Andor...</td>\n",
       "    </tr>\n",
       "    <tr>\n",
       "      <th>15</th>\n",
       "      <td>Alès</td>\n",
       "      <td>TER</td>\n",
       "      <td>877504</td>\n",
       "      <td>06-03-2023</td>\n",
       "      <td>08:30:00</td>\n",
       "      <td>08:30:00</td>\n",
       "      <td>0</td>\n",
       "      <td></td>\n",
       "      <td>[Nîmes Centre, Fons - Saint-Mamert, Saint-Geni...</td>\n",
       "    </tr>\n",
       "    <tr>\n",
       "      <th>16</th>\n",
       "      <td>Alès</td>\n",
       "      <td>TER</td>\n",
       "      <td>877506</td>\n",
       "      <td>06-03-2023</td>\n",
       "      <td>09:54:00</td>\n",
       "      <td>09:54:00</td>\n",
       "      <td>0</td>\n",
       "      <td></td>\n",
       "      <td>[Nîmes Centre, Saint-Geniès-de-Malgoirès, Alès]</td>\n",
       "    </tr>\n",
       "    <tr>\n",
       "      <th>17</th>\n",
       "      <td>Alès</td>\n",
       "      <td>TER</td>\n",
       "      <td>877508</td>\n",
       "      <td>06-03-2023</td>\n",
       "      <td>10:55:30</td>\n",
       "      <td>10:55:30</td>\n",
       "      <td>0</td>\n",
       "      <td></td>\n",
       "      <td>[Nîmes Centre, Saint-Geniès-de-Malgoirès, Alès]</td>\n",
       "    </tr>\n",
       "    <tr>\n",
       "      <th>18</th>\n",
       "      <td>Nîmes Centre</td>\n",
       "      <td>TER</td>\n",
       "      <td>873991</td>\n",
       "      <td>06-03-2023</td>\n",
       "      <td>11:20:00</td>\n",
       "      <td>11:20:00</td>\n",
       "      <td>0</td>\n",
       "      <td></td>\n",
       "      <td>[Clermont-Ferrand, Clermont la Pardieu, Issoir...</td>\n",
       "    </tr>\n",
       "    <tr>\n",
       "      <th>19</th>\n",
       "      <td>Alès</td>\n",
       "      <td>TER</td>\n",
       "      <td>877510</td>\n",
       "      <td>06-03-2023</td>\n",
       "      <td>11:52:30</td>\n",
       "      <td>11:52:30</td>\n",
       "      <td>0</td>\n",
       "      <td></td>\n",
       "      <td>[Nîmes Centre, Saint-Geniès-de-Malgoirès, Alès]</td>\n",
       "    </tr>\n",
       "  </tbody>\n",
       "</table>\n",
       "</div>"
      ],
      "text/plain": [
       "          Destination Train  Numéro        Jour Arrivée (réelle)  \\\n",
       "1   Clermont-Ferrand    TER  873994  05-03-2023         17:45:00   \n",
       "4          Marvejols    TER  877714  05-03-2023         18:49:00   \n",
       "5       Nîmes Centre    TER  877715  05-03-2023         19:26:30   \n",
       "6               Alès    TER   34004  05-03-2023         21:11:00   \n",
       "7       Nîmes Centre    TER  873995  05-03-2023         21:45:30   \n",
       "8               Alès    TER  877526  05-03-2023         21:53:30   \n",
       "9       Nîmes Centre    TER  877505  06-03-2023         06:44:00   \n",
       "10          Génolhac    TER  877500  06-03-2023         06:46:30   \n",
       "11      Nîmes Centre    TER  877703  06-03-2023         07:21:00   \n",
       "12              Alès    TER  877502  06-03-2023         07:34:30   \n",
       "13          Langogne    TER  878918  06-03-2023         07:50:30   \n",
       "14      Nîmes Centre    TER  877507  06-03-2023         08:27:30   \n",
       "15              Alès    TER  877504  06-03-2023         08:30:00   \n",
       "16              Alès    TER  877506  06-03-2023         09:54:00   \n",
       "17              Alès    TER  877508  06-03-2023         10:55:30   \n",
       "18      Nîmes Centre    TER  873991  06-03-2023         11:20:00   \n",
       "19              Alès    TER  877510  06-03-2023         11:52:30   \n",
       "\n",
       "   Arrivée (prévue)  Retard (min)  \\\n",
       "1          17:35:00            10   \n",
       "4          18:49:00             0   \n",
       "5          19:26:30             0   \n",
       "6          21:11:00             0   \n",
       "7          21:30:30            15   \n",
       "8          21:53:30             0   \n",
       "9          06:44:00             0   \n",
       "10         06:46:30             0   \n",
       "11         07:21:00             0   \n",
       "12         07:34:30             0   \n",
       "13         07:50:30             0   \n",
       "14         08:27:30             0   \n",
       "15         08:30:00             0   \n",
       "16         09:54:00             0   \n",
       "17         10:55:30             0   \n",
       "18         11:20:00             0   \n",
       "19         11:52:30             0   \n",
       "\n",
       "                                           Cause  \\\n",
       "1   Prise en charge de clients en correspondance   \n",
       "4                                                  \n",
       "5                                                  \n",
       "6                                                  \n",
       "7   Prise en charge de clients en correspondance   \n",
       "8                                                  \n",
       "9                                                  \n",
       "10                                                 \n",
       "11                                                 \n",
       "12                                                 \n",
       "13                                                 \n",
       "14                                                 \n",
       "15                                                 \n",
       "16                                                 \n",
       "17                                                 \n",
       "18                                                 \n",
       "19                                                 \n",
       "\n",
       "                                               Arrêts  \n",
       "1   [Nîmes Centre, Fons - Saint-Mamert, Saint-Geni...  \n",
       "4   [Nîmes Centre, Fons - Saint-Mamert, Saint-Geni...  \n",
       "5   [Mende, Bagnols - Chadenet, Allenc, Belvezet, ...  \n",
       "6                                [Nîmes Centre, Alès]  \n",
       "7   [Clermont-Ferrand, Clermont la Pardieu, Issoir...  \n",
       "8     [Nîmes Centre, Saint-Geniès-de-Malgoirès, Alès]  \n",
       "9   [Génolhac, Chamborigaud, Sainte-Cécile-d'Andor...  \n",
       "10  [Nîmes Centre, Saint-Geniès-de-Malgoirès, Alès...  \n",
       "11  [Mende, Bagnols - Chadenet, Allenc, Belvezet, ...  \n",
       "12  [Nîmes Centre, Fons - Saint-Mamert, Saint-Geni...  \n",
       "13  [Nîmes Centre, Fons - Saint-Mamert, Saint-Geni...  \n",
       "14  [Génolhac, Chamborigaud, Sainte-Cécile-d'Andor...  \n",
       "15  [Nîmes Centre, Fons - Saint-Mamert, Saint-Geni...  \n",
       "16    [Nîmes Centre, Saint-Geniès-de-Malgoirès, Alès]  \n",
       "17    [Nîmes Centre, Saint-Geniès-de-Malgoirès, Alès]  \n",
       "18  [Clermont-Ferrand, Clermont la Pardieu, Issoir...  \n",
       "19    [Nîmes Centre, Saint-Geniès-de-Malgoirès, Alès]  "
      ]
     },
     "execution_count": 73,
     "metadata": {},
     "output_type": "execute_result"
    }
   ],
   "source": [
    "df_gare"
   ]
  },
  {
   "attachments": {},
   "cell_type": "markdown",
   "metadata": {},
   "source": [
    "On exporte le dataframe en fichier _CSV_"
   ]
  },
  {
   "cell_type": "code",
   "execution_count": 74,
   "metadata": {},
   "outputs": [],
   "source": [
    "df_gare.to_csv('Arrival.csv', sep=',', index=False, header=True)"
   ]
  }
 ],
 "metadata": {
  "kernelspec": {
   "display_name": "cours",
   "language": "python",
   "name": "python3"
  },
  "language_info": {
   "codemirror_mode": {
    "name": "ipython",
    "version": 3
   },
   "file_extension": ".py",
   "mimetype": "text/x-python",
   "name": "python",
   "nbconvert_exporter": "python",
   "pygments_lexer": "ipython3",
   "version": "3.11.0"
  },
  "orig_nbformat": 4
 },
 "nbformat": 4,
 "nbformat_minor": 2
}
