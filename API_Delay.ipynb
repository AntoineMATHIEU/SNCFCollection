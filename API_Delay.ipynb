{
 "cells": [
  {
   "cell_type": "code",
   "execution_count": null,
   "metadata": {},
   "outputs": [],
   "source": [
    "import pandas as pd\n",
    "import requests\n",
    "import json\n",
    "import datetime"
   ]
  },
  {
   "cell_type": "code",
   "execution_count": null,
   "metadata": {},
   "outputs": [],
   "source": [
    "token = 'e7b7fedd-71d0-48c6-8cc7-749e22ba8e80'"
   ]
  },
  {
   "cell_type": "code",
   "execution_count": null,
   "metadata": {},
   "outputs": [],
   "source": [
    "req = requests.get('https://api.sncf.com/v1/coverage/sncf/disruptions?since=20230302T000000&start_page=0&count=1000&',auth=(token, ''))"
   ]
  },
  {
   "cell_type": "code",
   "execution_count": null,
   "metadata": {},
   "outputs": [
    {
     "name": "stdout",
     "output_type": "stream",
     "text": [
      "Nombre de lignes : 1000\n"
     ]
    }
   ],
   "source": [
    "doc = json.loads(req.text)\n",
    "row = len(doc['disruptions'])\n",
    "print(f'Nombre de lignes : {row}')"
   ]
  },
  {
   "attachments": {},
   "cell_type": "markdown",
   "metadata": {},
   "source": [
    "# Retard"
   ]
  },
  {
   "attachments": {},
   "cell_type": "markdown",
   "metadata": {},
   "source": [
    "## Liste des retards"
   ]
  },
  {
   "cell_type": "code",
   "execution_count": null,
   "metadata": {},
   "outputs": [],
   "source": [
    "df = pd.DataFrame(doc['disruptions'])\n",
    "#df.head(5)"
   ]
  },
  {
   "attachments": {},
   "cell_type": "markdown",
   "metadata": {},
   "source": [
    "## Etat du retard"
   ]
  },
  {
   "cell_type": "code",
   "execution_count": null,
   "metadata": {},
   "outputs": [],
   "source": [
    "df_info = pd.DataFrame(list(df['severity']))\n",
    "df_info['updated_at'] = df['updated_at']"
   ]
  },
  {
   "attachments": {},
   "cell_type": "markdown",
   "metadata": {},
   "source": [
    "## Combinaison"
   ]
  },
  {
   "cell_type": "code",
   "execution_count": null,
   "metadata": {},
   "outputs": [],
   "source": [
    "df_fin = df_info.copy()\n",
    "df_fin = df_fin[df_fin['effect'] == 'SIGNIFICANT_DELAYS']\n",
    "df_fin = df_fin[['effect','updated_at']]"
   ]
  },
  {
   "cell_type": "code",
   "execution_count": null,
   "metadata": {},
   "outputs": [],
   "source": [
    "def conv_heure(string):\n",
    "    return int(string[0:2]) + int(string[2:4])/60"
   ]
  },
  {
   "cell_type": "code",
   "execution_count": null,
   "metadata": {},
   "outputs": [],
   "source": [
    "gare_d = []\n",
    "gare_a = []\n",
    "cause = []\n",
    "retard = []\n",
    "heure_arr_prevue = []\n",
    "heure_arr_reelle = []\n",
    "heure_depart = []\n",
    "\n",
    "for i in df_fin.index:\n",
    "    df_mod = pd.DataFrame(list(df['impacted_objects'][i]))\n",
    "    df_mod = pd.DataFrame(list(df_mod['impacted_stops'])[0])\n",
    "    df_mod = df_mod[(df_mod['amended_arrival_time'].notnull())]\n",
    "    df_mod = df_mod[(df_mod['base_arrival_time'].notnull())]\n",
    "    \n",
    "    retard_val = conv_heure(df_mod.iloc[-1]['amended_arrival_time']) - conv_heure(df_mod.iloc[-1]['base_arrival_time'])\n",
    "\n",
    "    if retard_val<0:\n",
    "        retard_val = int(round((retard_val+24)*60,1))\n",
    "    else:\n",
    "        retard_val = int(round(retard_val*60,1))\n",
    "    \n",
    "    df_mod['gare'] = pd.DataFrame(list(df_mod['stop_point']))['name']\n",
    "\n",
    "    gare_d.append(df_mod.iloc[0]['gare'])\n",
    "    gare_a.append(df_mod.iloc[-1]['gare'])\n",
    "    cause.append(df_mod.iloc[-1]['cause'])\n",
    "    retard.append(retard_val)\n",
    "    heure_arr_prevue.append(df_mod.iloc[-1]['base_arrival_time'])\n",
    "    heure_arr_reelle.append(df_mod.iloc[-1]['amended_arrival_time'])\n",
    "    heure_depart.append(df_mod.iloc[0]['base_departure_time'])\n"
   ]
  },
  {
   "cell_type": "code",
   "execution_count": null,
   "metadata": {},
   "outputs": [],
   "source": [
    "def get_day(string):\n",
    "    string = string[:8]\n",
    "    return string[6:8]+'-'+string[4:6]+'-'+string[0:4]"
   ]
  },
  {
   "cell_type": "code",
   "execution_count": null,
   "metadata": {},
   "outputs": [],
   "source": [
    "df_fin = df_fin.drop(['effect'], axis=1)\n",
    "\n",
    "df_fin['Gare (départ)'] = gare_d\n",
    "df_fin['Gare (arrivée)'] = gare_a\n",
    "df_fin['updated_at'] = df_fin['updated_at'].apply(get_day)\n",
    "df_fin[\"Arrivée (réelle)\"] = heure_arr_reelle\n",
    "df_fin[\"Arrivée (prévue)\"] = heure_arr_prevue\n",
    "df_fin[\"Départ (prévu)\"] = heure_depart\n",
    "df_fin['Retard (min)'] = retard\n",
    "df_fin['Cause'] = cause\n",
    "\n",
    "df_fin.rename(columns = {'updated_at':'Jour'}, inplace = True)\n"
   ]
  },
  {
   "cell_type": "code",
   "execution_count": null,
   "metadata": {},
   "outputs": [],
   "source": [
    "def str_tps(str):\n",
    "    return datetime.datetime.strptime(str, '%H%M%S').time()\n",
    "\n",
    "df_fin[\"Arrivée (réelle)\"] = df_fin[\"Arrivée (réelle)\"].apply(str_tps)\n",
    "df_fin[\"Arrivée (prévue)\"] = df_fin[\"Arrivée (prévue)\"].apply(str_tps)\n",
    "df_fin[\"Départ (prévu)\"] = df_fin[\"Départ (prévu)\"].apply(str_tps)"
   ]
  },
  {
   "cell_type": "code",
   "execution_count": null,
   "metadata": {},
   "outputs": [
    {
     "data": {
      "text/html": [
       "<div>\n",
       "<style scoped>\n",
       "    .dataframe tbody tr th:only-of-type {\n",
       "        vertical-align: middle;\n",
       "    }\n",
       "\n",
       "    .dataframe tbody tr th {\n",
       "        vertical-align: top;\n",
       "    }\n",
       "\n",
       "    .dataframe thead th {\n",
       "        text-align: right;\n",
       "    }\n",
       "</style>\n",
       "<table border=\"1\" class=\"dataframe\">\n",
       "  <thead>\n",
       "    <tr style=\"text-align: right;\">\n",
       "      <th></th>\n",
       "      <th>Jour</th>\n",
       "      <th>Gare (départ)</th>\n",
       "      <th>Gare (arrivée)</th>\n",
       "      <th>Arrivée (réelle)</th>\n",
       "      <th>Arrivée (prévue)</th>\n",
       "      <th>Départ (prévu)</th>\n",
       "      <th>Retard (min)</th>\n",
       "      <th>Cause</th>\n",
       "    </tr>\n",
       "  </thead>\n",
       "  <tbody>\n",
       "    <tr>\n",
       "      <th>2</th>\n",
       "      <td>02-03-2023</td>\n",
       "      <td>Saint-Dizier</td>\n",
       "      <td>Paris Est</td>\n",
       "      <td>07:58:00</td>\n",
       "      <td>07:53:00</td>\n",
       "      <td>05:33:00</td>\n",
       "      <td>5</td>\n",
       "      <td></td>\n",
       "    </tr>\n",
       "    <tr>\n",
       "      <th>3</th>\n",
       "      <td>02-03-2023</td>\n",
       "      <td>Abbeville</td>\n",
       "      <td>Albert</td>\n",
       "      <td>08:28:00</td>\n",
       "      <td>08:23:00</td>\n",
       "      <td>06:49:00</td>\n",
       "      <td>5</td>\n",
       "      <td>Réutilisation d'un train</td>\n",
       "    </tr>\n",
       "    <tr>\n",
       "      <th>5</th>\n",
       "      <td>02-03-2023</td>\n",
       "      <td>Toulouse Matabiau</td>\n",
       "      <td>Muret</td>\n",
       "      <td>08:35:00</td>\n",
       "      <td>08:20:00</td>\n",
       "      <td>08:01:00</td>\n",
       "      <td>15</td>\n",
       "      <td>Réutilisation d'un train</td>\n",
       "    </tr>\n",
       "    <tr>\n",
       "      <th>6</th>\n",
       "      <td>02-03-2023</td>\n",
       "      <td>Lyon Perrache</td>\n",
       "      <td>Villefranche-sur-Saône</td>\n",
       "      <td>16:54:00</td>\n",
       "      <td>16:49:00</td>\n",
       "      <td>16:14:00</td>\n",
       "      <td>5</td>\n",
       "      <td>Réutilisation d'un train</td>\n",
       "    </tr>\n",
       "    <tr>\n",
       "      <th>7</th>\n",
       "      <td>02-03-2023</td>\n",
       "      <td>Amiens</td>\n",
       "      <td>Abbeville</td>\n",
       "      <td>09:37:00</td>\n",
       "      <td>09:27:00</td>\n",
       "      <td>08:53:00</td>\n",
       "      <td>10</td>\n",
       "      <td>Régulation du trafic</td>\n",
       "    </tr>\n",
       "    <tr>\n",
       "      <th>...</th>\n",
       "      <td>...</td>\n",
       "      <td>...</td>\n",
       "      <td>...</td>\n",
       "      <td>...</td>\n",
       "      <td>...</td>\n",
       "      <td>...</td>\n",
       "      <td>...</td>\n",
       "      <td>...</td>\n",
       "    </tr>\n",
       "    <tr>\n",
       "      <th>970</th>\n",
       "      <td>02-03-2023</td>\n",
       "      <td>Lille Flandres</td>\n",
       "      <td>Paris Nord</td>\n",
       "      <td>08:04:00</td>\n",
       "      <td>07:44:00</td>\n",
       "      <td>06:42:00</td>\n",
       "      <td>20</td>\n",
       "      <td>Régulation du trafic</td>\n",
       "    </tr>\n",
       "    <tr>\n",
       "      <th>977</th>\n",
       "      <td>02-03-2023</td>\n",
       "      <td>Paris Nord</td>\n",
       "      <td>Amiens</td>\n",
       "      <td>18:58:00</td>\n",
       "      <td>18:38:00</td>\n",
       "      <td>17:31:00</td>\n",
       "      <td>20</td>\n",
       "      <td>Mise à quai tardive en gare origine</td>\n",
       "    </tr>\n",
       "    <tr>\n",
       "      <th>993</th>\n",
       "      <td>02-03-2023</td>\n",
       "      <td>Tours</td>\n",
       "      <td>Nevers</td>\n",
       "      <td>16:03:00</td>\n",
       "      <td>15:58:00</td>\n",
       "      <td>13:30:00</td>\n",
       "      <td>5</td>\n",
       "      <td>Difficultés lors de la préparation du train</td>\n",
       "    </tr>\n",
       "    <tr>\n",
       "      <th>994</th>\n",
       "      <td>02-03-2023</td>\n",
       "      <td>Valence Ville</td>\n",
       "      <td>Marseille - Saint-Charles</td>\n",
       "      <td>12:12:00</td>\n",
       "      <td>12:07:00</td>\n",
       "      <td>09:05:00</td>\n",
       "      <td>5</td>\n",
       "      <td>Régulation du trafic</td>\n",
       "    </tr>\n",
       "    <tr>\n",
       "      <th>995</th>\n",
       "      <td>02-03-2023</td>\n",
       "      <td>Paris Est</td>\n",
       "      <td>Épernay</td>\n",
       "      <td>12:02:00</td>\n",
       "      <td>11:57:00</td>\n",
       "      <td>10:36:00</td>\n",
       "      <td>5</td>\n",
       "      <td>Régulation du trafic</td>\n",
       "    </tr>\n",
       "  </tbody>\n",
       "</table>\n",
       "<p>443 rows × 8 columns</p>\n",
       "</div>"
      ],
      "text/plain": [
       "           Jour      Gare (départ)             Gare (arrivée)  \\\n",
       "2    02-03-2023       Saint-Dizier                  Paris Est   \n",
       "3    02-03-2023          Abbeville                     Albert   \n",
       "5    02-03-2023  Toulouse Matabiau                      Muret   \n",
       "6    02-03-2023      Lyon Perrache     Villefranche-sur-Saône   \n",
       "7    02-03-2023             Amiens                  Abbeville   \n",
       "..          ...                ...                        ...   \n",
       "970  02-03-2023     Lille Flandres                 Paris Nord   \n",
       "977  02-03-2023         Paris Nord                     Amiens   \n",
       "993  02-03-2023              Tours                     Nevers   \n",
       "994  02-03-2023      Valence Ville  Marseille - Saint-Charles   \n",
       "995  02-03-2023          Paris Est                    Épernay   \n",
       "\n",
       "    Arrivée (réelle) Arrivée (prévue) Départ (prévu)  Retard (min)  \\\n",
       "2           07:58:00         07:53:00       05:33:00             5   \n",
       "3           08:28:00         08:23:00       06:49:00             5   \n",
       "5           08:35:00         08:20:00       08:01:00            15   \n",
       "6           16:54:00         16:49:00       16:14:00             5   \n",
       "7           09:37:00         09:27:00       08:53:00            10   \n",
       "..               ...              ...            ...           ...   \n",
       "970         08:04:00         07:44:00       06:42:00            20   \n",
       "977         18:58:00         18:38:00       17:31:00            20   \n",
       "993         16:03:00         15:58:00       13:30:00             5   \n",
       "994         12:12:00         12:07:00       09:05:00             5   \n",
       "995         12:02:00         11:57:00       10:36:00             5   \n",
       "\n",
       "                                           Cause  \n",
       "2                                                 \n",
       "3                       Réutilisation d'un train  \n",
       "5                       Réutilisation d'un train  \n",
       "6                       Réutilisation d'un train  \n",
       "7                           Régulation du trafic  \n",
       "..                                           ...  \n",
       "970                         Régulation du trafic  \n",
       "977          Mise à quai tardive en gare origine  \n",
       "993  Difficultés lors de la préparation du train  \n",
       "994                         Régulation du trafic  \n",
       "995                         Régulation du trafic  \n",
       "\n",
       "[443 rows x 8 columns]"
      ]
     },
     "execution_count": 144,
     "metadata": {},
     "output_type": "execute_result"
    }
   ],
   "source": [
    "df_fin"
   ]
  },
  {
   "cell_type": "code",
   "execution_count": null,
   "metadata": {},
   "outputs": [
    {
     "data": {
      "text/plain": [
       "10.20316027088036"
      ]
     },
     "execution_count": 145,
     "metadata": {},
     "output_type": "execute_result"
    }
   ],
   "source": [
    "df_fin['Retard (min)'].mean()"
   ]
  },
  {
   "cell_type": "code",
   "execution_count": null,
   "metadata": {},
   "outputs": [],
   "source": [
    "df_fin.to_csv('delays.csv', sep=',', index=False, header=True)"
   ]
  }
 ],
 "metadata": {
  "kernelspec": {
   "display_name": "cours",
   "language": "python",
   "name": "python3"
  },
  "language_info": {
   "codemirror_mode": {
    "name": "ipython",
    "version": 3
   },
   "file_extension": ".py",
   "mimetype": "text/x-python",
   "name": "python",
   "nbconvert_exporter": "python",
   "pygments_lexer": "ipython3",
   "version": "3.9.13"
  },
  "orig_nbformat": 4,
  "vscode": {
   "interpreter": {
    "hash": "0a59d7732367dd45dfe4a39cb689f1e83b4581778499ea1daf18f697fa462324"
   }
  }
 },
 "nbformat": 4,
 "nbformat_minor": 2
}
