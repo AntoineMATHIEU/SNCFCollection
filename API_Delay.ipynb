{
 "cells": [
  {
   "attachments": {},
   "cell_type": "markdown",
   "metadata": {},
   "source": [
    "Ce script permet d'afficher tous les trains traversant la France ayant du retard (et uniquement du retard)."
   ]
  },
  {
   "attachments": {},
   "cell_type": "markdown",
   "metadata": {},
   "source": [
    "# Code"
   ]
  },
  {
   "attachments": {},
   "cell_type": "markdown",
   "metadata": {},
   "source": [
    "## Import des Modules"
   ]
  },
  {
   "cell_type": "code",
   "execution_count": 50,
   "metadata": {},
   "outputs": [],
   "source": [
    "import pandas as pd\n",
    "import requests\n",
    "import json\n",
    "import datetime"
   ]
  },
  {
   "attachments": {},
   "cell_type": "markdown",
   "metadata": {},
   "source": [
    "## Obtention des trains ayant eu des perturbations sur leur trajet"
   ]
  },
  {
   "attachments": {},
   "cell_type": "markdown",
   "metadata": {},
   "source": [
    "Mise en varaible du token de connexion à l'API SNCF V1"
   ]
  },
  {
   "cell_type": "code",
   "execution_count": 51,
   "metadata": {},
   "outputs": [],
   "source": [
    "token = 'e7b7fedd-71d0-48c6-8cc7-749e22ba8e80'"
   ]
  },
  {
   "attachments": {},
   "cell_type": "markdown",
   "metadata": {},
   "source": [
    "Requête à l'API SNCF afin de récupérer la liste des trains avec des perturbations"
   ]
  },
  {
   "cell_type": "code",
   "execution_count": 52,
   "metadata": {},
   "outputs": [],
   "source": [
    "req = requests.get('https://api.sncf.com/v1/coverage/sncf/disruptions?since=20230302T000000&start_page=0&count=1000&',auth=(token, ''))"
   ]
  },
  {
   "cell_type": "code",
   "execution_count": 53,
   "metadata": {},
   "outputs": [
    {
     "name": "stdout",
     "output_type": "stream",
     "text": [
      "Nombre de retards : 1000\n"
     ]
    }
   ],
   "source": [
    "doc = json.loads(req.text)\n",
    "row = len(doc['disruptions'])\n",
    "print(f'Nombre de retards : {row}')"
   ]
  },
  {
   "attachments": {},
   "cell_type": "markdown",
   "metadata": {},
   "source": [
    "## Traitement des retards"
   ]
  },
  {
   "attachments": {},
   "cell_type": "markdown",
   "metadata": {},
   "source": [
    "On  ne garde que les informations sur les perturbations et le jour de ces dernières"
   ]
  },
  {
   "cell_type": "code",
   "execution_count": 54,
   "metadata": {},
   "outputs": [],
   "source": [
    "df = pd.DataFrame(doc['disruptions'])\n",
    "df_retard = pd.DataFrame(list(df['severity']))\n",
    "df_retard['updated_at'] = df['updated_at']"
   ]
  },
  {
   "attachments": {},
   "cell_type": "markdown",
   "metadata": {},
   "source": [
    "On ne garde que les trains ayant eu du retard"
   ]
  },
  {
   "cell_type": "code",
   "execution_count": 55,
   "metadata": {},
   "outputs": [],
   "source": [
    "df_retard = df_retard[df_retard['effect'] == 'SIGNIFICANT_DELAYS']\n",
    "df_retard = df_retard[['effect','updated_at']]"
   ]
  },
  {
   "attachments": {},
   "cell_type": "markdown",
   "metadata": {},
   "source": [
    "On réalise une fonction de conversion d'heures afin de calculer le retard"
   ]
  },
  {
   "cell_type": "code",
   "execution_count": 56,
   "metadata": {},
   "outputs": [],
   "source": [
    "def conv_heure(string):\n",
    "    return int(string[0:2]) + int(string[2:4])/60"
   ]
  },
  {
   "attachments": {},
   "cell_type": "markdown",
   "metadata": {},
   "source": [
    "## Obtention d'inforamtions complémentaires sur ce retard"
   ]
  },
  {
   "attachments": {},
   "cell_type": "markdown",
   "metadata": {},
   "source": [
    "On ajoute des informations au retard, ligne par ligne :\n",
    "\n",
    "- Les gares de départ et d'arrivée\n",
    "\n",
    "- Le retard et sa cause\n",
    "\n",
    "- Les heures d'arrivée prévues et réelles du train\n",
    "\n",
    "- L'heure de départ prévue du train"
   ]
  },
  {
   "cell_type": "code",
   "execution_count": 57,
   "metadata": {},
   "outputs": [
    {
     "name": "stderr",
     "output_type": "stream",
     "text": [
      "/var/folders/bg/vbvjjnmj0hv9wmb92ngxcq9m0000gn/T/ipykernel_1244/3411774444.py:27: SettingWithCopyWarning: \n",
      "A value is trying to be set on a copy of a slice from a DataFrame\n",
      "\n",
      "See the caveats in the documentation: https://pandas.pydata.org/pandas-docs/stable/user_guide/indexing.html#returning-a-view-versus-a-copy\n",
      "  df_mod.iloc[-1]['cause'] = \"Retard non expliqué\"\n",
      "/var/folders/bg/vbvjjnmj0hv9wmb92ngxcq9m0000gn/T/ipykernel_1244/3411774444.py:27: SettingWithCopyWarning: \n",
      "A value is trying to be set on a copy of a slice from a DataFrame\n",
      "\n",
      "See the caveats in the documentation: https://pandas.pydata.org/pandas-docs/stable/user_guide/indexing.html#returning-a-view-versus-a-copy\n",
      "  df_mod.iloc[-1]['cause'] = \"Retard non expliqué\"\n",
      "/var/folders/bg/vbvjjnmj0hv9wmb92ngxcq9m0000gn/T/ipykernel_1244/3411774444.py:27: SettingWithCopyWarning: \n",
      "A value is trying to be set on a copy of a slice from a DataFrame\n",
      "\n",
      "See the caveats in the documentation: https://pandas.pydata.org/pandas-docs/stable/user_guide/indexing.html#returning-a-view-versus-a-copy\n",
      "  df_mod.iloc[-1]['cause'] = \"Retard non expliqué\"\n",
      "/var/folders/bg/vbvjjnmj0hv9wmb92ngxcq9m0000gn/T/ipykernel_1244/3411774444.py:27: SettingWithCopyWarning: \n",
      "A value is trying to be set on a copy of a slice from a DataFrame\n",
      "\n",
      "See the caveats in the documentation: https://pandas.pydata.org/pandas-docs/stable/user_guide/indexing.html#returning-a-view-versus-a-copy\n",
      "  df_mod.iloc[-1]['cause'] = \"Retard non expliqué\"\n",
      "/var/folders/bg/vbvjjnmj0hv9wmb92ngxcq9m0000gn/T/ipykernel_1244/3411774444.py:27: SettingWithCopyWarning: \n",
      "A value is trying to be set on a copy of a slice from a DataFrame\n",
      "\n",
      "See the caveats in the documentation: https://pandas.pydata.org/pandas-docs/stable/user_guide/indexing.html#returning-a-view-versus-a-copy\n",
      "  df_mod.iloc[-1]['cause'] = \"Retard non expliqué\"\n",
      "/var/folders/bg/vbvjjnmj0hv9wmb92ngxcq9m0000gn/T/ipykernel_1244/3411774444.py:27: SettingWithCopyWarning: \n",
      "A value is trying to be set on a copy of a slice from a DataFrame\n",
      "\n",
      "See the caveats in the documentation: https://pandas.pydata.org/pandas-docs/stable/user_guide/indexing.html#returning-a-view-versus-a-copy\n",
      "  df_mod.iloc[-1]['cause'] = \"Retard non expliqué\"\n",
      "/var/folders/bg/vbvjjnmj0hv9wmb92ngxcq9m0000gn/T/ipykernel_1244/3411774444.py:27: SettingWithCopyWarning: \n",
      "A value is trying to be set on a copy of a slice from a DataFrame\n",
      "\n",
      "See the caveats in the documentation: https://pandas.pydata.org/pandas-docs/stable/user_guide/indexing.html#returning-a-view-versus-a-copy\n",
      "  df_mod.iloc[-1]['cause'] = \"Retard non expliqué\"\n",
      "/var/folders/bg/vbvjjnmj0hv9wmb92ngxcq9m0000gn/T/ipykernel_1244/3411774444.py:27: SettingWithCopyWarning: \n",
      "A value is trying to be set on a copy of a slice from a DataFrame\n",
      "\n",
      "See the caveats in the documentation: https://pandas.pydata.org/pandas-docs/stable/user_guide/indexing.html#returning-a-view-versus-a-copy\n",
      "  df_mod.iloc[-1]['cause'] = \"Retard non expliqué\"\n",
      "/var/folders/bg/vbvjjnmj0hv9wmb92ngxcq9m0000gn/T/ipykernel_1244/3411774444.py:27: SettingWithCopyWarning: \n",
      "A value is trying to be set on a copy of a slice from a DataFrame\n",
      "\n",
      "See the caveats in the documentation: https://pandas.pydata.org/pandas-docs/stable/user_guide/indexing.html#returning-a-view-versus-a-copy\n",
      "  df_mod.iloc[-1]['cause'] = \"Retard non expliqué\"\n",
      "/var/folders/bg/vbvjjnmj0hv9wmb92ngxcq9m0000gn/T/ipykernel_1244/3411774444.py:27: SettingWithCopyWarning: \n",
      "A value is trying to be set on a copy of a slice from a DataFrame\n",
      "\n",
      "See the caveats in the documentation: https://pandas.pydata.org/pandas-docs/stable/user_guide/indexing.html#returning-a-view-versus-a-copy\n",
      "  df_mod.iloc[-1]['cause'] = \"Retard non expliqué\"\n",
      "/var/folders/bg/vbvjjnmj0hv9wmb92ngxcq9m0000gn/T/ipykernel_1244/3411774444.py:27: SettingWithCopyWarning: \n",
      "A value is trying to be set on a copy of a slice from a DataFrame\n",
      "\n",
      "See the caveats in the documentation: https://pandas.pydata.org/pandas-docs/stable/user_guide/indexing.html#returning-a-view-versus-a-copy\n",
      "  df_mod.iloc[-1]['cause'] = \"Retard non expliqué\"\n",
      "/var/folders/bg/vbvjjnmj0hv9wmb92ngxcq9m0000gn/T/ipykernel_1244/3411774444.py:27: SettingWithCopyWarning: \n",
      "A value is trying to be set on a copy of a slice from a DataFrame\n",
      "\n",
      "See the caveats in the documentation: https://pandas.pydata.org/pandas-docs/stable/user_guide/indexing.html#returning-a-view-versus-a-copy\n",
      "  df_mod.iloc[-1]['cause'] = \"Retard non expliqué\"\n",
      "/var/folders/bg/vbvjjnmj0hv9wmb92ngxcq9m0000gn/T/ipykernel_1244/3411774444.py:27: SettingWithCopyWarning: \n",
      "A value is trying to be set on a copy of a slice from a DataFrame\n",
      "\n",
      "See the caveats in the documentation: https://pandas.pydata.org/pandas-docs/stable/user_guide/indexing.html#returning-a-view-versus-a-copy\n",
      "  df_mod.iloc[-1]['cause'] = \"Retard non expliqué\"\n",
      "/var/folders/bg/vbvjjnmj0hv9wmb92ngxcq9m0000gn/T/ipykernel_1244/3411774444.py:27: SettingWithCopyWarning: \n",
      "A value is trying to be set on a copy of a slice from a DataFrame\n",
      "\n",
      "See the caveats in the documentation: https://pandas.pydata.org/pandas-docs/stable/user_guide/indexing.html#returning-a-view-versus-a-copy\n",
      "  df_mod.iloc[-1]['cause'] = \"Retard non expliqué\"\n",
      "/var/folders/bg/vbvjjnmj0hv9wmb92ngxcq9m0000gn/T/ipykernel_1244/3411774444.py:27: SettingWithCopyWarning: \n",
      "A value is trying to be set on a copy of a slice from a DataFrame\n",
      "\n",
      "See the caveats in the documentation: https://pandas.pydata.org/pandas-docs/stable/user_guide/indexing.html#returning-a-view-versus-a-copy\n",
      "  df_mod.iloc[-1]['cause'] = \"Retard non expliqué\"\n",
      "/var/folders/bg/vbvjjnmj0hv9wmb92ngxcq9m0000gn/T/ipykernel_1244/3411774444.py:27: SettingWithCopyWarning: \n",
      "A value is trying to be set on a copy of a slice from a DataFrame\n",
      "\n",
      "See the caveats in the documentation: https://pandas.pydata.org/pandas-docs/stable/user_guide/indexing.html#returning-a-view-versus-a-copy\n",
      "  df_mod.iloc[-1]['cause'] = \"Retard non expliqué\"\n",
      "/var/folders/bg/vbvjjnmj0hv9wmb92ngxcq9m0000gn/T/ipykernel_1244/3411774444.py:27: SettingWithCopyWarning: \n",
      "A value is trying to be set on a copy of a slice from a DataFrame\n",
      "\n",
      "See the caveats in the documentation: https://pandas.pydata.org/pandas-docs/stable/user_guide/indexing.html#returning-a-view-versus-a-copy\n",
      "  df_mod.iloc[-1]['cause'] = \"Retard non expliqué\"\n",
      "/var/folders/bg/vbvjjnmj0hv9wmb92ngxcq9m0000gn/T/ipykernel_1244/3411774444.py:27: SettingWithCopyWarning: \n",
      "A value is trying to be set on a copy of a slice from a DataFrame\n",
      "\n",
      "See the caveats in the documentation: https://pandas.pydata.org/pandas-docs/stable/user_guide/indexing.html#returning-a-view-versus-a-copy\n",
      "  df_mod.iloc[-1]['cause'] = \"Retard non expliqué\"\n",
      "/var/folders/bg/vbvjjnmj0hv9wmb92ngxcq9m0000gn/T/ipykernel_1244/3411774444.py:27: SettingWithCopyWarning: \n",
      "A value is trying to be set on a copy of a slice from a DataFrame\n",
      "\n",
      "See the caveats in the documentation: https://pandas.pydata.org/pandas-docs/stable/user_guide/indexing.html#returning-a-view-versus-a-copy\n",
      "  df_mod.iloc[-1]['cause'] = \"Retard non expliqué\"\n",
      "/var/folders/bg/vbvjjnmj0hv9wmb92ngxcq9m0000gn/T/ipykernel_1244/3411774444.py:27: SettingWithCopyWarning: \n",
      "A value is trying to be set on a copy of a slice from a DataFrame\n",
      "\n",
      "See the caveats in the documentation: https://pandas.pydata.org/pandas-docs/stable/user_guide/indexing.html#returning-a-view-versus-a-copy\n",
      "  df_mod.iloc[-1]['cause'] = \"Retard non expliqué\"\n",
      "/var/folders/bg/vbvjjnmj0hv9wmb92ngxcq9m0000gn/T/ipykernel_1244/3411774444.py:27: SettingWithCopyWarning: \n",
      "A value is trying to be set on a copy of a slice from a DataFrame\n",
      "\n",
      "See the caveats in the documentation: https://pandas.pydata.org/pandas-docs/stable/user_guide/indexing.html#returning-a-view-versus-a-copy\n",
      "  df_mod.iloc[-1]['cause'] = \"Retard non expliqué\"\n",
      "/var/folders/bg/vbvjjnmj0hv9wmb92ngxcq9m0000gn/T/ipykernel_1244/3411774444.py:27: SettingWithCopyWarning: \n",
      "A value is trying to be set on a copy of a slice from a DataFrame\n",
      "\n",
      "See the caveats in the documentation: https://pandas.pydata.org/pandas-docs/stable/user_guide/indexing.html#returning-a-view-versus-a-copy\n",
      "  df_mod.iloc[-1]['cause'] = \"Retard non expliqué\"\n",
      "/var/folders/bg/vbvjjnmj0hv9wmb92ngxcq9m0000gn/T/ipykernel_1244/3411774444.py:27: SettingWithCopyWarning: \n",
      "A value is trying to be set on a copy of a slice from a DataFrame\n",
      "\n",
      "See the caveats in the documentation: https://pandas.pydata.org/pandas-docs/stable/user_guide/indexing.html#returning-a-view-versus-a-copy\n",
      "  df_mod.iloc[-1]['cause'] = \"Retard non expliqué\"\n"
     ]
    }
   ],
   "source": [
    "gare_d = []\n",
    "gare_a = []\n",
    "cause = []\n",
    "retard = []\n",
    "heure_arr_prevue = []\n",
    "heure_arr_reelle = []\n",
    "heure_depart = []\n",
    "\n",
    "for i in df_retard.index:\n",
    "    df_mod = pd.DataFrame(list(df['impacted_objects'][i]))\n",
    "    df_mod = pd.DataFrame(list(df_mod['impacted_stops'])[0])\n",
    "    df_mod = df_mod[(df_mod['amended_arrival_time'].notnull())]\n",
    "    df_mod = df_mod[(df_mod['base_arrival_time'].notnull())]\n",
    "    \n",
    "    # On calcule le retard et on ajoute une exception si il y a un changement de jour entre les heures d'arrivée prévues et réelles\n",
    "    retard_val = conv_heure(df_mod.iloc[-1]['amended_arrival_time']) - conv_heure(df_mod.iloc[-1]['base_arrival_time'])\n",
    "\n",
    "    if retard_val<0:\n",
    "        retard_val = int(round((retard_val+24)*60,1))\n",
    "    else:\n",
    "        retard_val = int(round(retard_val*60,1))\n",
    "    \n",
    "    df_mod['gare'] = pd.DataFrame(list(df_mod['stop_point']))['name']\n",
    "\n",
    "    # On renvoie \"Retard non expliqué\" si la SNCF ne fournit pas plus d'informations sur le retard\n",
    "    if df_mod.iloc[-1]['cause'] == \"\":\n",
    "        df_mod.iloc[-1]['cause'] = \"Retard non expliqué\"\n",
    "\n",
    "    # On ajoute les informations à des listes\n",
    "    gare_d.append(df_mod.iloc[0]['gare'])\n",
    "    gare_a.append(df_mod.iloc[-1]['gare'])\n",
    "    cause.append(df_mod.iloc[-1]['cause'])\n",
    "    retard.append(retard_val)\n",
    "    heure_arr_prevue.append(df_mod.iloc[-1]['base_arrival_time'])\n",
    "    heure_arr_reelle.append(df_mod.iloc[-1]['amended_arrival_time'])\n",
    "    heure_depart.append(df_mod.iloc[0]['base_departure_time'])\n"
   ]
  },
  {
   "attachments": {},
   "cell_type": "markdown",
   "metadata": {},
   "source": [
    "Création d'une fonction afin d'obtenir le jour du départ"
   ]
  },
  {
   "cell_type": "code",
   "execution_count": 58,
   "metadata": {},
   "outputs": [],
   "source": [
    "def get_day(string):\n",
    "    string = string[:8]\n",
    "    return string[6:8]+'-'+string[4:6]+'-'+string[0:4]"
   ]
  },
  {
   "attachments": {},
   "cell_type": "markdown",
   "metadata": {},
   "source": [
    "On ajoute les informations au dataframe"
   ]
  },
  {
   "cell_type": "code",
   "execution_count": 59,
   "metadata": {},
   "outputs": [],
   "source": [
    "df_retard = df_retard.drop(['effect'], axis=1)\n",
    "\n",
    "df_retard['Gare (départ)'] = gare_d\n",
    "df_retard['Gare (arrivée)'] = gare_a\n",
    "df_retard['updated_at'] = df_retard['updated_at'].apply(get_day)\n",
    "df_retard[\"Arrivée (réelle)\"] = heure_arr_reelle\n",
    "df_retard[\"Arrivée (prévue)\"] = heure_arr_prevue\n",
    "df_retard[\"Départ (prévu)\"] = heure_depart\n",
    "df_retard['Retard (min)'] = retard\n",
    "df_retard['Cause'] = cause\n",
    "\n",
    "df_retard.rename(columns = {'updated_at':'Jour'}, inplace = True)\n"
   ]
  },
  {
   "attachments": {},
   "cell_type": "markdown",
   "metadata": {},
   "source": [
    "On passe les heures au format heure de `datetime`"
   ]
  },
  {
   "cell_type": "code",
   "execution_count": 60,
   "metadata": {},
   "outputs": [],
   "source": [
    "def str_tps(str):\n",
    "    return datetime.datetime.strptime(str, '%H%M%S').time()\n",
    "\n",
    "df_retard[\"Arrivée (réelle)\"] = df_retard[\"Arrivée (réelle)\"].apply(str_tps)\n",
    "df_retard[\"Arrivée (prévue)\"] = df_retard[\"Arrivée (prévue)\"].apply(str_tps)\n",
    "df_retard[\"Départ (prévu)\"] = df_retard[\"Départ (prévu)\"].apply(str_tps)"
   ]
  },
  {
   "attachments": {},
   "cell_type": "markdown",
   "metadata": {},
   "source": [
    "On affiche le dataframe final"
   ]
  },
  {
   "cell_type": "code",
   "execution_count": 61,
   "metadata": {},
   "outputs": [
    {
     "data": {
      "text/html": [
       "<div>\n",
       "<style scoped>\n",
       "    .dataframe tbody tr th:only-of-type {\n",
       "        vertical-align: middle;\n",
       "    }\n",
       "\n",
       "    .dataframe tbody tr th {\n",
       "        vertical-align: top;\n",
       "    }\n",
       "\n",
       "    .dataframe thead th {\n",
       "        text-align: right;\n",
       "    }\n",
       "</style>\n",
       "<table border=\"1\" class=\"dataframe\">\n",
       "  <thead>\n",
       "    <tr style=\"text-align: right;\">\n",
       "      <th></th>\n",
       "      <th>Jour</th>\n",
       "      <th>Gare (départ)</th>\n",
       "      <th>Gare (arrivée)</th>\n",
       "      <th>Arrivée (réelle)</th>\n",
       "      <th>Arrivée (prévue)</th>\n",
       "      <th>Départ (prévu)</th>\n",
       "      <th>Retard (min)</th>\n",
       "      <th>Cause</th>\n",
       "    </tr>\n",
       "  </thead>\n",
       "  <tbody>\n",
       "    <tr>\n",
       "      <th>0</th>\n",
       "      <td>04-03-2023</td>\n",
       "      <td>Bar-le-Duc</td>\n",
       "      <td>Paris Est</td>\n",
       "      <td>11:28:00</td>\n",
       "      <td>11:23:00</td>\n",
       "      <td>09:05:00</td>\n",
       "      <td>5</td>\n",
       "      <td>Difficultés lors de la préparation du train</td>\n",
       "    </tr>\n",
       "    <tr>\n",
       "      <th>2</th>\n",
       "      <td>04-03-2023</td>\n",
       "      <td>Toulouse Matabiau</td>\n",
       "      <td>Muret</td>\n",
       "      <td>23:06:00</td>\n",
       "      <td>23:01:00</td>\n",
       "      <td>22:42:00</td>\n",
       "      <td>5</td>\n",
       "      <td>Prise en charge de clients en correspondance</td>\n",
       "    </tr>\n",
       "    <tr>\n",
       "      <th>4</th>\n",
       "      <td>04-03-2023</td>\n",
       "      <td>Calais Ville</td>\n",
       "      <td>Lille Flandres</td>\n",
       "      <td>07:41:00</td>\n",
       "      <td>07:21:00</td>\n",
       "      <td>06:06:00</td>\n",
       "      <td>20</td>\n",
       "      <td>Défaillance de matériel</td>\n",
       "    </tr>\n",
       "    <tr>\n",
       "      <th>5</th>\n",
       "      <td>04-03-2023</td>\n",
       "      <td>Annecy</td>\n",
       "      <td>Chambéry - Challes-les-Eaux</td>\n",
       "      <td>08:19:00</td>\n",
       "      <td>08:14:00</td>\n",
       "      <td>07:19:00</td>\n",
       "      <td>5</td>\n",
       "      <td>Régulation du trafic</td>\n",
       "    </tr>\n",
       "    <tr>\n",
       "      <th>10</th>\n",
       "      <td>04-03-2023</td>\n",
       "      <td>Strasbourg</td>\n",
       "      <td>Saint-Louis</td>\n",
       "      <td>10:11:30</td>\n",
       "      <td>10:01:30</td>\n",
       "      <td>08:51:00</td>\n",
       "      <td>10</td>\n",
       "      <td>Régulation du trafic</td>\n",
       "    </tr>\n",
       "    <tr>\n",
       "      <th>...</th>\n",
       "      <td>...</td>\n",
       "      <td>...</td>\n",
       "      <td>...</td>\n",
       "      <td>...</td>\n",
       "      <td>...</td>\n",
       "      <td>...</td>\n",
       "      <td>...</td>\n",
       "      <td>...</td>\n",
       "    </tr>\n",
       "    <tr>\n",
       "      <th>993</th>\n",
       "      <td>04-03-2023</td>\n",
       "      <td>Strasbourg</td>\n",
       "      <td>Molsheim</td>\n",
       "      <td>08:42:00</td>\n",
       "      <td>08:12:00</td>\n",
       "      <td>07:48:00</td>\n",
       "      <td>30</td>\n",
       "      <td>Difficultés lors de la préparation du train</td>\n",
       "    </tr>\n",
       "    <tr>\n",
       "      <th>994</th>\n",
       "      <td>04-03-2023</td>\n",
       "      <td>Paris Austerlitz</td>\n",
       "      <td>Orléans</td>\n",
       "      <td>09:03:00</td>\n",
       "      <td>07:13:00</td>\n",
       "      <td>05:38:00</td>\n",
       "      <td>110</td>\n",
       "      <td>Régulation du trafic</td>\n",
       "    </tr>\n",
       "    <tr>\n",
       "      <th>995</th>\n",
       "      <td>04-03-2023</td>\n",
       "      <td>Le Mans</td>\n",
       "      <td>Caen</td>\n",
       "      <td>10:16:00</td>\n",
       "      <td>10:11:00</td>\n",
       "      <td>08:26:00</td>\n",
       "      <td>5</td>\n",
       "      <td>Prise en charge de clients en correspondance</td>\n",
       "    </tr>\n",
       "    <tr>\n",
       "      <th>996</th>\n",
       "      <td>04-03-2023</td>\n",
       "      <td>Clamecy</td>\n",
       "      <td>Auxerre-Saint-Gervais</td>\n",
       "      <td>09:45:00</td>\n",
       "      <td>09:40:00</td>\n",
       "      <td>08:24:00</td>\n",
       "      <td>5</td>\n",
       "      <td>Embouteillage</td>\n",
       "    </tr>\n",
       "    <tr>\n",
       "      <th>999</th>\n",
       "      <td>04-03-2023</td>\n",
       "      <td>Saint-Mariens - Saint-Yzan</td>\n",
       "      <td>Bordeaux Saint-Jean</td>\n",
       "      <td>16:57:00</td>\n",
       "      <td>16:52:00</td>\n",
       "      <td>16:07:00</td>\n",
       "      <td>5</td>\n",
       "      <td>Réutilisation d'un train</td>\n",
       "    </tr>\n",
       "  </tbody>\n",
       "</table>\n",
       "<p>521 rows × 8 columns</p>\n",
       "</div>"
      ],
      "text/plain": [
       "           Jour               Gare (départ)               Gare (arrivée)  \\\n",
       "0    04-03-2023                  Bar-le-Duc                    Paris Est   \n",
       "2    04-03-2023           Toulouse Matabiau                        Muret   \n",
       "4    04-03-2023                Calais Ville               Lille Flandres   \n",
       "5    04-03-2023                      Annecy  Chambéry - Challes-les-Eaux   \n",
       "10   04-03-2023                  Strasbourg                  Saint-Louis   \n",
       "..          ...                         ...                          ...   \n",
       "993  04-03-2023                  Strasbourg                     Molsheim   \n",
       "994  04-03-2023            Paris Austerlitz                      Orléans   \n",
       "995  04-03-2023                     Le Mans                         Caen   \n",
       "996  04-03-2023                     Clamecy        Auxerre-Saint-Gervais   \n",
       "999  04-03-2023  Saint-Mariens - Saint-Yzan          Bordeaux Saint-Jean   \n",
       "\n",
       "    Arrivée (réelle) Arrivée (prévue) Départ (prévu)  Retard (min)  \\\n",
       "0           11:28:00         11:23:00       09:05:00             5   \n",
       "2           23:06:00         23:01:00       22:42:00             5   \n",
       "4           07:41:00         07:21:00       06:06:00            20   \n",
       "5           08:19:00         08:14:00       07:19:00             5   \n",
       "10          10:11:30         10:01:30       08:51:00            10   \n",
       "..               ...              ...            ...           ...   \n",
       "993         08:42:00         08:12:00       07:48:00            30   \n",
       "994         09:03:00         07:13:00       05:38:00           110   \n",
       "995         10:16:00         10:11:00       08:26:00             5   \n",
       "996         09:45:00         09:40:00       08:24:00             5   \n",
       "999         16:57:00         16:52:00       16:07:00             5   \n",
       "\n",
       "                                            Cause  \n",
       "0     Difficultés lors de la préparation du train  \n",
       "2    Prise en charge de clients en correspondance  \n",
       "4                         Défaillance de matériel  \n",
       "5                            Régulation du trafic  \n",
       "10                           Régulation du trafic  \n",
       "..                                            ...  \n",
       "993   Difficultés lors de la préparation du train  \n",
       "994                          Régulation du trafic  \n",
       "995  Prise en charge de clients en correspondance  \n",
       "996                                 Embouteillage  \n",
       "999                      Réutilisation d'un train  \n",
       "\n",
       "[521 rows x 8 columns]"
      ]
     },
     "execution_count": 61,
     "metadata": {},
     "output_type": "execute_result"
    }
   ],
   "source": [
    "df_retard"
   ]
  },
  {
   "attachments": {},
   "cell_type": "markdown",
   "metadata": {},
   "source": [
    "On exporte le dataframe en fichier _CSV_"
   ]
  },
  {
   "cell_type": "code",
   "execution_count": 63,
   "metadata": {},
   "outputs": [],
   "source": [
    "df_retard.to_csv('delays.csv', sep=',', index=False, header=True)"
   ]
  }
 ],
 "metadata": {
  "kernelspec": {
   "display_name": "cours",
   "language": "python",
   "name": "python3"
  },
  "language_info": {
   "codemirror_mode": {
    "name": "ipython",
    "version": 3
   },
   "file_extension": ".py",
   "mimetype": "text/x-python",
   "name": "python",
   "nbconvert_exporter": "python",
   "pygments_lexer": "ipython3",
   "version": "3.11.0"
  },
  "orig_nbformat": 4,
  "vscode": {
   "interpreter": {
    "hash": "0a59d7732367dd45dfe4a39cb689f1e83b4581778499ea1daf18f697fa462324"
   }
  }
 },
 "nbformat": 4,
 "nbformat_minor": 2
}
