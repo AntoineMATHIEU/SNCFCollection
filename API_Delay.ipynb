{
 "cells": [
  {
   "attachments": {},
   "cell_type": "markdown",
   "metadata": {},
   "source": [
    "Ce script permet d'afficher tous les trains traversant la France ayant du retard (et uniquement du retard)."
   ]
  },
  {
   "attachments": {},
   "cell_type": "markdown",
   "metadata": {},
   "source": [
    "# Code"
   ]
  },
  {
   "attachments": {},
   "cell_type": "markdown",
   "metadata": {},
   "source": [
    "## Import des Modules"
   ]
  },
  {
   "cell_type": "code",
   "execution_count": 178,
   "metadata": {},
   "outputs": [],
   "source": [
    "import pandas as pd\n",
    "import requests\n",
    "import json\n",
    "import datetime"
   ]
  },
  {
   "attachments": {},
   "cell_type": "markdown",
   "metadata": {},
   "source": [
    "## Obtention des trains ayant eu des perturbations sur leur trajet"
   ]
  },
  {
   "attachments": {},
   "cell_type": "markdown",
   "metadata": {},
   "source": [
    "Mise en varaible du token de connexion à l'API SNCF V1"
   ]
  },
  {
   "cell_type": "code",
   "execution_count": 179,
   "metadata": {},
   "outputs": [],
   "source": [
    "token = 'e7b7fedd-71d0-48c6-8cc7-749e22ba8e80'"
   ]
  },
  {
   "attachments": {},
   "cell_type": "markdown",
   "metadata": {},
   "source": [
    "Requête à l'API SNCF afin de récupérer la liste des trains avec des perturbations d'aujourd'hui\n",
    "\n",
    "L'API ne permettant que de récupérer 1000 résultats à la fois, on réalise une boucle afin de tout récupérer"
   ]
  },
  {
   "cell_type": "code",
   "execution_count": 180,
   "metadata": {},
   "outputs": [],
   "source": [
    "# On récupère la date du jour\n",
    "date = datetime.date.today()\n",
    "date = str(date)\n",
    "date = date[:4] + date[5:7] + date[8:10]"
   ]
  },
  {
   "cell_type": "code",
   "execution_count": 181,
   "metadata": {},
   "outputs": [],
   "source": [
    "i = 0\n",
    "val = True\n",
    "df = pd.DataFrame()\n",
    "while val:\n",
    "    link = 'https://api.sncf.com/v1/coverage/sncf/disruptions?since=' + date +'T000000&start_page=' + str(i) + '&count=1000&'\n",
    "    req = requests.get(link,auth=(token, ''))\n",
    "    doc = json.loads(req.text)\n",
    "    df = pd.concat([df, pd.DataFrame(doc['disruptions'])], ignore_index=True)\n",
    "    i += 1\n",
    "    if len(doc['disruptions']) != 1000:\n",
    "        val = False"
   ]
  },
  {
   "attachments": {},
   "cell_type": "markdown",
   "metadata": {},
   "source": [
    "## Traitement des retards"
   ]
  },
  {
   "attachments": {},
   "cell_type": "markdown",
   "metadata": {},
   "source": [
    "On  ne garde que les informations sur les perturbations et le jour de ces dernières"
   ]
  },
  {
   "cell_type": "code",
   "execution_count": 182,
   "metadata": {},
   "outputs": [],
   "source": [
    "df_retard = pd.DataFrame(list(df['severity']))\n",
    "df_retard['updated_at'] = df['updated_at']"
   ]
  },
  {
   "attachments": {},
   "cell_type": "markdown",
   "metadata": {},
   "source": [
    "On ne garde que les trains ayant eu du retard"
   ]
  },
  {
   "cell_type": "code",
   "execution_count": 183,
   "metadata": {},
   "outputs": [],
   "source": [
    "df_retard = df_retard[df_retard['effect'] == 'SIGNIFICANT_DELAYS']\n",
    "df_retard = df_retard[['effect','updated_at']]"
   ]
  },
  {
   "attachments": {},
   "cell_type": "markdown",
   "metadata": {},
   "source": [
    "On réalise une fonction de conversion d'heures afin de calculer le retard"
   ]
  },
  {
   "cell_type": "code",
   "execution_count": 184,
   "metadata": {},
   "outputs": [],
   "source": [
    "def conv_heure(string):\n",
    "    return int(string[0:2]) + int(string[2:4])/60"
   ]
  },
  {
   "attachments": {},
   "cell_type": "markdown",
   "metadata": {},
   "source": [
    "## Obtention d'inforamtions complémentaires sur ce retard"
   ]
  },
  {
   "attachments": {},
   "cell_type": "markdown",
   "metadata": {},
   "source": [
    "On ajoute des informations au retard, ligne par ligne :\n",
    "\n",
    "- Les gares de départ et d'arrivée\n",
    "\n",
    "- Le retard et sa cause\n",
    "\n",
    "- Les heures d'arrivée prévues et réelles du train\n",
    "\n",
    "- L'heure de départ prévue du train"
   ]
  },
  {
   "cell_type": "code",
   "execution_count": 185,
   "metadata": {},
   "outputs": [],
   "source": [
    "gare_d = []\n",
    "gare_a = []\n",
    "cause = []\n",
    "retard = []\n",
    "heure_arr_prevue = []\n",
    "heure_arr_reelle = []\n",
    "heure_depart = []\n",
    "\n",
    "for i in df_retard.index:\n",
    "    df_mod = pd.DataFrame(list(df['impacted_objects'][i]))\n",
    "    df_mod = pd.DataFrame(list(df_mod['impacted_stops'])[0])\n",
    "    df_mod = df_mod[(df_mod['amended_arrival_time'].notnull())]\n",
    "    df_mod = df_mod[(df_mod['base_arrival_time'].notnull())]\n",
    "    \n",
    "    # On calcule le retard et on ajoute une exception si il y a un changement de jour entre les heures d'arrivée prévues et réelles\n",
    "    retard_val = conv_heure(df_mod.iloc[-1]['amended_arrival_time']) - conv_heure(df_mod.iloc[-1]['base_arrival_time'])\n",
    "\n",
    "    if retard_val<0:\n",
    "        retard_val = int(round((retard_val+24)*60,1))\n",
    "    else:\n",
    "        retard_val = int(round(retard_val*60,1))\n",
    "    \n",
    "    df_mod['gare'] = pd.DataFrame(list(df_mod['stop_point']))['name']\n",
    "\n",
    "    # On renvoie \"Retard non expliqué\" si la SNCF ne fournit pas plus d'informations sur le retard\n",
    "    cause_ret = df_mod.iloc[-1]['cause']\n",
    "    if cause_ret == \"\":\n",
    "        cause_ret = \"Retard non expliqué\"\n",
    "\n",
    "    # On ajoute les informations à des listes\n",
    "    gare_d.append(df_mod.iloc[0]['gare'])\n",
    "    gare_a.append(df_mod.iloc[-1]['gare'])\n",
    "    cause.append(cause_ret)\n",
    "    retard.append(retard_val)\n",
    "    heure_arr_prevue.append(df_mod.iloc[-1]['base_arrival_time'])\n",
    "    heure_arr_reelle.append(df_mod.iloc[-1]['amended_arrival_time'])\n",
    "    heure_depart.append(df_mod.iloc[0]['base_departure_time'])\n"
   ]
  },
  {
   "attachments": {},
   "cell_type": "markdown",
   "metadata": {},
   "source": [
    "Création d'une fonction afin d'obtenir le jour du départ"
   ]
  },
  {
   "cell_type": "code",
   "execution_count": 186,
   "metadata": {},
   "outputs": [],
   "source": [
    "def get_day(string):\n",
    "    string = string[:8]\n",
    "    return string[6:8]+'-'+string[4:6]+'-'+string[0:4]"
   ]
  },
  {
   "attachments": {},
   "cell_type": "markdown",
   "metadata": {},
   "source": [
    "On ajoute les informations au dataframe"
   ]
  },
  {
   "cell_type": "code",
   "execution_count": 187,
   "metadata": {},
   "outputs": [],
   "source": [
    "df_retard = df_retard.drop(['effect'], axis=1)\n",
    "\n",
    "df_retard['Gare (départ)'] = gare_d\n",
    "df_retard['Gare (arrivée)'] = gare_a\n",
    "df_retard['updated_at'] = df_retard['updated_at'].apply(get_day)\n",
    "df_retard[\"Arrivée (réelle)\"] = heure_arr_reelle\n",
    "df_retard[\"Arrivée (prévue)\"] = heure_arr_prevue\n",
    "df_retard[\"Départ (prévu)\"] = heure_depart\n",
    "df_retard['Retard (min)'] = retard\n",
    "df_retard['Cause'] = cause\n",
    "\n",
    "df_retard.rename(columns = {'updated_at':'Jour'}, inplace = True)\n"
   ]
  },
  {
   "attachments": {},
   "cell_type": "markdown",
   "metadata": {},
   "source": [
    "On passe les heures au format heure de `datetime`"
   ]
  },
  {
   "cell_type": "code",
   "execution_count": 188,
   "metadata": {},
   "outputs": [],
   "source": [
    "def str_tps(str):\n",
    "    return datetime.datetime.strptime(str, '%H%M%S').time()\n",
    "\n",
    "df_retard[\"Arrivée (réelle)\"] = df_retard[\"Arrivée (réelle)\"].apply(str_tps)\n",
    "df_retard[\"Arrivée (prévue)\"] = df_retard[\"Arrivée (prévue)\"].apply(str_tps)\n",
    "df_retard[\"Départ (prévu)\"] = df_retard[\"Départ (prévu)\"].apply(str_tps)"
   ]
  },
  {
   "attachments": {},
   "cell_type": "markdown",
   "metadata": {},
   "source": [
    "On affiche le dataframe final"
   ]
  },
  {
   "cell_type": "code",
   "execution_count": 189,
   "metadata": {},
   "outputs": [
    {
     "data": {
      "text/html": [
       "<div>\n",
       "<style scoped>\n",
       "    .dataframe tbody tr th:only-of-type {\n",
       "        vertical-align: middle;\n",
       "    }\n",
       "\n",
       "    .dataframe tbody tr th {\n",
       "        vertical-align: top;\n",
       "    }\n",
       "\n",
       "    .dataframe thead th {\n",
       "        text-align: right;\n",
       "    }\n",
       "</style>\n",
       "<table border=\"1\" class=\"dataframe\">\n",
       "  <thead>\n",
       "    <tr style=\"text-align: right;\">\n",
       "      <th></th>\n",
       "      <th>Jour</th>\n",
       "      <th>Gare (départ)</th>\n",
       "      <th>Gare (arrivée)</th>\n",
       "      <th>Arrivée (réelle)</th>\n",
       "      <th>Arrivée (prévue)</th>\n",
       "      <th>Départ (prévu)</th>\n",
       "      <th>Retard (min)</th>\n",
       "      <th>Cause</th>\n",
       "    </tr>\n",
       "  </thead>\n",
       "  <tbody>\n",
       "    <tr>\n",
       "      <th>4</th>\n",
       "      <td>04-03-2023</td>\n",
       "      <td>Saint-Étienne Châteaucreux</td>\n",
       "      <td>Montbrison</td>\n",
       "      <td>09:17:30</td>\n",
       "      <td>09:12:30</td>\n",
       "      <td>08:33:00</td>\n",
       "      <td>5</td>\n",
       "      <td>Difficultés lors de la préparation du train</td>\n",
       "    </tr>\n",
       "    <tr>\n",
       "      <th>8</th>\n",
       "      <td>04-03-2023</td>\n",
       "      <td>Lyon Part Dieu</td>\n",
       "      <td>Aix-les-Bains - Le Revard</td>\n",
       "      <td>18:23:00</td>\n",
       "      <td>18:18:00</td>\n",
       "      <td>17:08:00</td>\n",
       "      <td>5</td>\n",
       "      <td>Saturation des voies en gare</td>\n",
       "    </tr>\n",
       "    <tr>\n",
       "      <th>41</th>\n",
       "      <td>04-03-2023</td>\n",
       "      <td>Marseille - Saint-Charles</td>\n",
       "      <td>Hyères</td>\n",
       "      <td>13:01:00</td>\n",
       "      <td>12:56:00</td>\n",
       "      <td>11:32:00</td>\n",
       "      <td>5</td>\n",
       "      <td>Retard non expliqué</td>\n",
       "    </tr>\n",
       "    <tr>\n",
       "      <th>50</th>\n",
       "      <td>04-03-2023</td>\n",
       "      <td>Paris - Gare de Lyon - Hall 1 &amp; 2</td>\n",
       "      <td>Évian-les-Bains</td>\n",
       "      <td>11:35:30</td>\n",
       "      <td>11:15:30</td>\n",
       "      <td>06:49:00</td>\n",
       "      <td>20</td>\n",
       "      <td>Incident de circulation</td>\n",
       "    </tr>\n",
       "    <tr>\n",
       "      <th>53</th>\n",
       "      <td>04-03-2023</td>\n",
       "      <td>Orléans</td>\n",
       "      <td>Tours</td>\n",
       "      <td>19:03:00</td>\n",
       "      <td>18:58:00</td>\n",
       "      <td>17:38:00</td>\n",
       "      <td>5</td>\n",
       "      <td>Prise en charge de clients en correspondance</td>\n",
       "    </tr>\n",
       "    <tr>\n",
       "      <th>...</th>\n",
       "      <td>...</td>\n",
       "      <td>...</td>\n",
       "      <td>...</td>\n",
       "      <td>...</td>\n",
       "      <td>...</td>\n",
       "      <td>...</td>\n",
       "      <td>...</td>\n",
       "      <td>...</td>\n",
       "    </tr>\n",
       "    <tr>\n",
       "      <th>3925</th>\n",
       "      <td>04-03-2023</td>\n",
       "      <td>Stuttgart Hbf</td>\n",
       "      <td>Paris Est</td>\n",
       "      <td>23:16:00</td>\n",
       "      <td>22:06:00</td>\n",
       "      <td>18:52:00</td>\n",
       "      <td>70</td>\n",
       "      <td>Défaillance de matériel</td>\n",
       "    </tr>\n",
       "    <tr>\n",
       "      <th>3926</th>\n",
       "      <td>04-03-2023</td>\n",
       "      <td>Montréjeau - Gourdan-Polignan</td>\n",
       "      <td>Toulouse Matabiau</td>\n",
       "      <td>21:39:30</td>\n",
       "      <td>21:29:30</td>\n",
       "      <td>20:13:00</td>\n",
       "      <td>10</td>\n",
       "      <td>Défaillance de matériel</td>\n",
       "    </tr>\n",
       "    <tr>\n",
       "      <th>3927</th>\n",
       "      <td>04-03-2023</td>\n",
       "      <td>Strasbourg</td>\n",
       "      <td>Paris Est</td>\n",
       "      <td>23:19:30</td>\n",
       "      <td>22:34:30</td>\n",
       "      <td>20:01:00</td>\n",
       "      <td>45</td>\n",
       "      <td>Présence d'un bagage abandonné</td>\n",
       "    </tr>\n",
       "    <tr>\n",
       "      <th>3928</th>\n",
       "      <td>04-03-2023</td>\n",
       "      <td>Aix-les-Bains - Le Revard</td>\n",
       "      <td>Lyon Part Dieu</td>\n",
       "      <td>20:57:00</td>\n",
       "      <td>20:52:00</td>\n",
       "      <td>19:41:00</td>\n",
       "      <td>5</td>\n",
       "      <td>Régulation du trafic</td>\n",
       "    </tr>\n",
       "    <tr>\n",
       "      <th>3929</th>\n",
       "      <td>04-03-2023</td>\n",
       "      <td>Chambéry - Challes-les-Eaux</td>\n",
       "      <td>La Tour-du-Pin</td>\n",
       "      <td>21:08:00</td>\n",
       "      <td>20:58:00</td>\n",
       "      <td>19:32:00</td>\n",
       "      <td>10</td>\n",
       "      <td>Embouteillage</td>\n",
       "    </tr>\n",
       "  </tbody>\n",
       "</table>\n",
       "<p>509 rows × 8 columns</p>\n",
       "</div>"
      ],
      "text/plain": [
       "            Jour                      Gare (départ)  \\\n",
       "4     04-03-2023         Saint-Étienne Châteaucreux   \n",
       "8     04-03-2023                     Lyon Part Dieu   \n",
       "41    04-03-2023          Marseille - Saint-Charles   \n",
       "50    04-03-2023  Paris - Gare de Lyon - Hall 1 & 2   \n",
       "53    04-03-2023                            Orléans   \n",
       "...          ...                                ...   \n",
       "3925  04-03-2023                      Stuttgart Hbf   \n",
       "3926  04-03-2023      Montréjeau - Gourdan-Polignan   \n",
       "3927  04-03-2023                         Strasbourg   \n",
       "3928  04-03-2023          Aix-les-Bains - Le Revard   \n",
       "3929  04-03-2023        Chambéry - Challes-les-Eaux   \n",
       "\n",
       "                 Gare (arrivée) Arrivée (réelle) Arrivée (prévue)  \\\n",
       "4                    Montbrison         09:17:30         09:12:30   \n",
       "8     Aix-les-Bains - Le Revard         18:23:00         18:18:00   \n",
       "41                       Hyères         13:01:00         12:56:00   \n",
       "50              Évian-les-Bains         11:35:30         11:15:30   \n",
       "53                        Tours         19:03:00         18:58:00   \n",
       "...                         ...              ...              ...   \n",
       "3925                  Paris Est         23:16:00         22:06:00   \n",
       "3926          Toulouse Matabiau         21:39:30         21:29:30   \n",
       "3927                  Paris Est         23:19:30         22:34:30   \n",
       "3928             Lyon Part Dieu         20:57:00         20:52:00   \n",
       "3929             La Tour-du-Pin         21:08:00         20:58:00   \n",
       "\n",
       "     Départ (prévu)  Retard (min)  \\\n",
       "4          08:33:00             5   \n",
       "8          17:08:00             5   \n",
       "41         11:32:00             5   \n",
       "50         06:49:00            20   \n",
       "53         17:38:00             5   \n",
       "...             ...           ...   \n",
       "3925       18:52:00            70   \n",
       "3926       20:13:00            10   \n",
       "3927       20:01:00            45   \n",
       "3928       19:41:00             5   \n",
       "3929       19:32:00            10   \n",
       "\n",
       "                                             Cause  \n",
       "4      Difficultés lors de la préparation du train  \n",
       "8                     Saturation des voies en gare  \n",
       "41                             Retard non expliqué  \n",
       "50                         Incident de circulation  \n",
       "53    Prise en charge de clients en correspondance  \n",
       "...                                            ...  \n",
       "3925                       Défaillance de matériel  \n",
       "3926                       Défaillance de matériel  \n",
       "3927                Présence d'un bagage abandonné  \n",
       "3928                          Régulation du trafic  \n",
       "3929                                 Embouteillage  \n",
       "\n",
       "[509 rows x 8 columns]"
      ]
     },
     "execution_count": 189,
     "metadata": {},
     "output_type": "execute_result"
    }
   ],
   "source": [
    "df_retard"
   ]
  },
  {
   "attachments": {},
   "cell_type": "markdown",
   "metadata": {},
   "source": [
    "On exporte le dataframe en fichier _CSV_"
   ]
  },
  {
   "cell_type": "code",
   "execution_count": 190,
   "metadata": {},
   "outputs": [],
   "source": [
    "df_retard.to_csv('Delay.csv', sep=',', index=False, header=True)"
   ]
  }
 ],
 "metadata": {
  "kernelspec": {
   "display_name": "cours",
   "language": "python",
   "name": "python3"
  },
  "language_info": {
   "codemirror_mode": {
    "name": "ipython",
    "version": 3
   },
   "file_extension": ".py",
   "mimetype": "text/x-python",
   "name": "python",
   "nbconvert_exporter": "python",
   "pygments_lexer": "ipython3",
   "version": "3.11.0"
  },
  "orig_nbformat": 4,
  "vscode": {
   "interpreter": {
    "hash": "0a59d7732367dd45dfe4a39cb689f1e83b4581778499ea1daf18f697fa462324"
   }
  }
 },
 "nbformat": 4,
 "nbformat_minor": 2
}
