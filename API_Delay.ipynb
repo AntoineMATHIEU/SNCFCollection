{
 "cells": [
  {
   "attachments": {},
   "cell_type": "markdown",
   "metadata": {},
   "source": [
    "Ce script permet d'afficher tous les trains traversant la France ayant du retard (et uniquement du retard)."
   ]
  },
  {
   "attachments": {},
   "cell_type": "markdown",
   "metadata": {},
   "source": [
    "# Code"
   ]
  },
  {
   "attachments": {},
   "cell_type": "markdown",
   "metadata": {},
   "source": [
    "## Import des Modules"
   ]
  },
  {
   "cell_type": "code",
   "execution_count": 1,
   "metadata": {},
   "outputs": [],
   "source": [
    "import pandas as pd\n",
    "import requests\n",
    "import json\n",
    "import datetime"
   ]
  },
  {
   "attachments": {},
   "cell_type": "markdown",
   "metadata": {},
   "source": [
    "## Obtention des trains ayant eu des perturbations sur leur trajet"
   ]
  },
  {
   "attachments": {},
   "cell_type": "markdown",
   "metadata": {},
   "source": [
    "Mise en varaible du token de connexion à l'API SNCF V1"
   ]
  },
  {
   "cell_type": "code",
   "execution_count": 2,
   "metadata": {},
   "outputs": [],
   "source": [
    "token = 'e7b7fedd-71d0-48c6-8cc7-749e22ba8e80'"
   ]
  },
  {
   "attachments": {},
   "cell_type": "markdown",
   "metadata": {},
   "source": [
    "Requête à l'API SNCF afin de récupérer la liste des trains avec des perturbations d'aujourd'hui\n",
    "\n",
    "L'API ne permettant que de récupérer 1000 résultats à la fois, on réalise une boucle afin de tout récupérer"
   ]
  },
  {
   "cell_type": "code",
   "execution_count": 3,
   "metadata": {},
   "outputs": [],
   "source": [
    "# On récupère la date du jour ou on la saisit manuellement\n",
    "date = datetime.date.today()\n",
    "date = str(date)\n",
    "date = date[:4] + date[5:7] + date[8:10]\n",
    "date = '20230307'"
   ]
  },
  {
   "cell_type": "code",
   "execution_count": 4,
   "metadata": {},
   "outputs": [],
   "source": [
    "i = 0\n",
    "val = True\n",
    "df = pd.DataFrame()\n",
    "while val:\n",
    "    link = 'https://api.sncf.com/v1/coverage/sncf/disruptions?since=' + date +'T000000&start_page=' + str(i) + '&count=1000&'\n",
    "    req = requests.get(link,auth=(token, ''))\n",
    "    doc = json.loads(req.text)\n",
    "    df = pd.concat([df, pd.DataFrame(doc['disruptions'])], ignore_index=True)\n",
    "    i += 1\n",
    "    if len(doc['disruptions']) != 1000:\n",
    "        val = False"
   ]
  },
  {
   "attachments": {},
   "cell_type": "markdown",
   "metadata": {},
   "source": [
    "## Traitement des retards"
   ]
  },
  {
   "attachments": {},
   "cell_type": "markdown",
   "metadata": {},
   "source": [
    "On  ne garde que les informations sur les perturbations et le jour de ces dernières"
   ]
  },
  {
   "cell_type": "code",
   "execution_count": 5,
   "metadata": {},
   "outputs": [],
   "source": [
    "df_jour = pd.DataFrame(list(df['application_periods']))\n",
    "df_jour = pd.DataFrame(list(df_jour[0]))\n",
    "df_retard = pd.DataFrame(list(df['severity']))\n",
    "df_retard['updated_at'] = df_jour['begin']"
   ]
  },
  {
   "attachments": {},
   "cell_type": "markdown",
   "metadata": {},
   "source": [
    "On ne garde que les trains ayant eu du retard"
   ]
  },
  {
   "cell_type": "code",
   "execution_count": 6,
   "metadata": {},
   "outputs": [],
   "source": [
    "df_retard = df_retard[df_retard['effect'] == 'SIGNIFICANT_DELAYS']\n",
    "df_retard = df_retard[['effect','updated_at']]"
   ]
  },
  {
   "attachments": {},
   "cell_type": "markdown",
   "metadata": {},
   "source": [
    "On réalise une fonction de conversion d'heures afin de calculer le retard"
   ]
  },
  {
   "cell_type": "code",
   "execution_count": 7,
   "metadata": {},
   "outputs": [],
   "source": [
    "def conv_heure(string):\n",
    "    return int(string[0:2]) + int(string[2:4])/60"
   ]
  },
  {
   "attachments": {},
   "cell_type": "markdown",
   "metadata": {},
   "source": [
    "## Obtention d'inforamtions complémentaires sur ce retard"
   ]
  },
  {
   "attachments": {},
   "cell_type": "markdown",
   "metadata": {},
   "source": [
    "On ajoute des informations au retard, ligne par ligne :\n",
    "\n",
    "- Les gares de départ et d'arrivée\n",
    "\n",
    "- Le retard et sa cause\n",
    "\n",
    "- Les heures d'arrivée prévues et réelles du train\n",
    "\n",
    "- L'heure de départ prévue du train"
   ]
  },
  {
   "cell_type": "code",
   "execution_count": 8,
   "metadata": {},
   "outputs": [],
   "source": [
    "gare_d = []\n",
    "gare_a = []\n",
    "cause = []\n",
    "retard = []\n",
    "heure_arr_prevue = []\n",
    "heure_arr_reelle = []\n",
    "heure_depart = []\n",
    "\n",
    "#for i in df_retard.index:\n",
    "for index, row in df_retard.iterrows():\n",
    "    #df_mod = pd.DataFrame(list(df['impacted_objects'][i]))\n",
    "    df_mod = pd.DataFrame(list(df.iloc[index]['impacted_objects']))\n",
    "    df_mod = pd.DataFrame(list(df_mod['impacted_stops'])[0])\n",
    "    df_mod = df_mod[(df_mod['amended_arrival_time'].notnull())]\n",
    "    df_mod = df_mod[(df_mod['base_arrival_time'].notnull())]\n",
    "    \n",
    "    # On calcule le retard et on ajoute une exception si il y a un changement de jour entre les heures d'arrivée prévues et réelles\n",
    "    retard_val = conv_heure(df_mod.iloc[-1]['amended_arrival_time']) - conv_heure(df_mod.iloc[-1]['base_arrival_time'])\n",
    "\n",
    "    if retard_val<0:\n",
    "        retard_val = int(round((retard_val+24)*60,1))\n",
    "    else:\n",
    "        retard_val = int(round(retard_val*60,1))\n",
    "    \n",
    "    df_mod['gare'] = pd.DataFrame(list(df_mod['stop_point']))['name']\n",
    "\n",
    "    # On renvoie \"Retard non expliqué\" si la SNCF ne fournit pas plus d'informations sur le retard\n",
    "    cause_ret = df_mod.iloc[-1]['cause']\n",
    "    if cause_ret == \"\":\n",
    "        cause_ret = \"Retard non expliqué\"\n",
    "\n",
    "    # On ajoute les informations à des listes\n",
    "    gare_d.append(df_mod.iloc[0]['gare'])\n",
    "    gare_a.append(df_mod.iloc[-1]['gare'])\n",
    "    cause.append(cause_ret)\n",
    "    retard.append(retard_val)\n",
    "    heure_arr_prevue.append(df_mod.iloc[-1]['base_arrival_time'])\n",
    "    heure_arr_reelle.append(df_mod.iloc[-1]['amended_arrival_time'])\n",
    "    heure_depart.append(df_mod.iloc[0]['base_departure_time'])\n"
   ]
  },
  {
   "attachments": {},
   "cell_type": "markdown",
   "metadata": {},
   "source": [
    "Création d'une fonction afin d'obtenir le jour du départ"
   ]
  },
  {
   "cell_type": "code",
   "execution_count": 9,
   "metadata": {},
   "outputs": [],
   "source": [
    "def get_day(string):\n",
    "    string = string[:8]\n",
    "    return string[6:8]+'-'+string[4:6]+'-'+string[0:4]"
   ]
  },
  {
   "attachments": {},
   "cell_type": "markdown",
   "metadata": {},
   "source": [
    "On ajoute les informations au dataframe"
   ]
  },
  {
   "cell_type": "code",
   "execution_count": 10,
   "metadata": {},
   "outputs": [],
   "source": [
    "df_retard = df_retard.drop(['effect'], axis=1)\n",
    "\n",
    "df_retard['Gare (départ)'] = gare_d\n",
    "df_retard['Gare (arrivée)'] = gare_a\n",
    "df_retard['updated_at'] = df_retard['updated_at'].apply(get_day)\n",
    "df_retard[\"Arrivée (réelle)\"] = heure_arr_reelle\n",
    "df_retard[\"Arrivée (prévue)\"] = heure_arr_prevue\n",
    "df_retard[\"Départ (prévu)\"] = heure_depart\n",
    "df_retard['Retard (min)'] = retard\n",
    "df_retard['Cause'] = cause\n",
    "\n",
    "df_retard.rename(columns = {'updated_at':'Jour'}, inplace = True)\n"
   ]
  },
  {
   "attachments": {},
   "cell_type": "markdown",
   "metadata": {},
   "source": [
    "On passe les heures au format heure de `datetime`"
   ]
  },
  {
   "cell_type": "code",
   "execution_count": 11,
   "metadata": {},
   "outputs": [],
   "source": [
    "def str_tps(str):\n",
    "    return datetime.datetime.strptime(str, '%H%M%S').time()\n",
    "\n",
    "df_retard[\"Arrivée (réelle)\"] = df_retard[\"Arrivée (réelle)\"].apply(str_tps)\n",
    "df_retard[\"Arrivée (prévue)\"] = df_retard[\"Arrivée (prévue)\"].apply(str_tps)\n",
    "df_retard[\"Départ (prévu)\"] = df_retard[\"Départ (prévu)\"].apply(str_tps)"
   ]
  },
  {
   "attachments": {},
   "cell_type": "markdown",
   "metadata": {},
   "source": [
    "On affiche le dataframe final"
   ]
  },
  {
   "cell_type": "code",
   "execution_count": 12,
   "metadata": {},
   "outputs": [
    {
     "data": {
      "text/html": [
       "<div>\n",
       "<style scoped>\n",
       "    .dataframe tbody tr th:only-of-type {\n",
       "        vertical-align: middle;\n",
       "    }\n",
       "\n",
       "    .dataframe tbody tr th {\n",
       "        vertical-align: top;\n",
       "    }\n",
       "\n",
       "    .dataframe thead th {\n",
       "        text-align: right;\n",
       "    }\n",
       "</style>\n",
       "<table border=\"1\" class=\"dataframe\">\n",
       "  <thead>\n",
       "    <tr style=\"text-align: right;\">\n",
       "      <th></th>\n",
       "      <th>Jour</th>\n",
       "      <th>Gare (départ)</th>\n",
       "      <th>Gare (arrivée)</th>\n",
       "      <th>Arrivée (réelle)</th>\n",
       "      <th>Arrivée (prévue)</th>\n",
       "      <th>Départ (prévu)</th>\n",
       "      <th>Retard (min)</th>\n",
       "      <th>Cause</th>\n",
       "    </tr>\n",
       "  </thead>\n",
       "  <tbody>\n",
       "    <tr>\n",
       "      <th>14</th>\n",
       "      <td>08-03-2023</td>\n",
       "      <td>Montpellier Saint-Roch</td>\n",
       "      <td>Valence TGV Rhône-Alpes Sud</td>\n",
       "      <td>07:54:00</td>\n",
       "      <td>07:04:00</td>\n",
       "      <td>05:50:00</td>\n",
       "      <td>50</td>\n",
       "      <td>Mise à quai tardive en gare origine</td>\n",
       "    </tr>\n",
       "    <tr>\n",
       "      <th>17</th>\n",
       "      <td>08-03-2023</td>\n",
       "      <td>Maubeuge</td>\n",
       "      <td>Charleroi-Central</td>\n",
       "      <td>20:53:00</td>\n",
       "      <td>20:48:00</td>\n",
       "      <td>19:53:00</td>\n",
       "      <td>5</td>\n",
       "      <td>Incident sur un réseau ferré étranger</td>\n",
       "    </tr>\n",
       "    <tr>\n",
       "      <th>19</th>\n",
       "      <td>08-03-2023</td>\n",
       "      <td>Strasbourg</td>\n",
       "      <td>Bâle - SBB</td>\n",
       "      <td>21:13:00</td>\n",
       "      <td>21:08:00</td>\n",
       "      <td>19:51:00</td>\n",
       "      <td>5</td>\n",
       "      <td>Régulation du trafic</td>\n",
       "    </tr>\n",
       "    <tr>\n",
       "      <th>104</th>\n",
       "      <td>08-03-2023</td>\n",
       "      <td>Givet</td>\n",
       "      <td>Charleville-Mézières</td>\n",
       "      <td>19:00:00</td>\n",
       "      <td>18:25:00</td>\n",
       "      <td>17:20:00</td>\n",
       "      <td>35</td>\n",
       "      <td>Réutilisation d'un train</td>\n",
       "    </tr>\n",
       "    <tr>\n",
       "      <th>105</th>\n",
       "      <td>08-03-2023</td>\n",
       "      <td>Orléans</td>\n",
       "      <td>Tours</td>\n",
       "      <td>18:27:00</td>\n",
       "      <td>18:22:00</td>\n",
       "      <td>17:00:00</td>\n",
       "      <td>5</td>\n",
       "      <td>Présence d'individus sur les voies</td>\n",
       "    </tr>\n",
       "    <tr>\n",
       "      <th>...</th>\n",
       "      <td>...</td>\n",
       "      <td>...</td>\n",
       "      <td>...</td>\n",
       "      <td>...</td>\n",
       "      <td>...</td>\n",
       "      <td>...</td>\n",
       "      <td>...</td>\n",
       "      <td>...</td>\n",
       "    </tr>\n",
       "    <tr>\n",
       "      <th>34170</th>\n",
       "      <td>08-03-2023</td>\n",
       "      <td>Dinan</td>\n",
       "      <td>Lamballe</td>\n",
       "      <td>19:22:00</td>\n",
       "      <td>19:17:00</td>\n",
       "      <td>18:10:00</td>\n",
       "      <td>5</td>\n",
       "      <td>Embouteillage</td>\n",
       "    </tr>\n",
       "    <tr>\n",
       "      <th>34226</th>\n",
       "      <td>08-03-2023</td>\n",
       "      <td>Amiens</td>\n",
       "      <td>Laon</td>\n",
       "      <td>20:05:00</td>\n",
       "      <td>20:00:00</td>\n",
       "      <td>18:25:00</td>\n",
       "      <td>5</td>\n",
       "      <td>Régulation du trafic</td>\n",
       "    </tr>\n",
       "    <tr>\n",
       "      <th>34269</th>\n",
       "      <td>08-03-2023</td>\n",
       "      <td>Verdun</td>\n",
       "      <td>Metz Ville</td>\n",
       "      <td>13:02:00</td>\n",
       "      <td>12:57:00</td>\n",
       "      <td>10:37:00</td>\n",
       "      <td>5</td>\n",
       "      <td>Embouteillage</td>\n",
       "    </tr>\n",
       "    <tr>\n",
       "      <th>34280</th>\n",
       "      <td>09-03-2023</td>\n",
       "      <td>Lille Flandres</td>\n",
       "      <td>Tournai</td>\n",
       "      <td>11:21:00</td>\n",
       "      <td>10:36:00</td>\n",
       "      <td>10:08:00</td>\n",
       "      <td>45</td>\n",
       "      <td>Réutilisation d'un train</td>\n",
       "    </tr>\n",
       "    <tr>\n",
       "      <th>34311</th>\n",
       "      <td>09-03-2023</td>\n",
       "      <td>Toulon</td>\n",
       "      <td>Marseille - Saint-Charles</td>\n",
       "      <td>16:30:00</td>\n",
       "      <td>15:55:00</td>\n",
       "      <td>14:50:00</td>\n",
       "      <td>35</td>\n",
       "      <td>Régulation du trafic</td>\n",
       "    </tr>\n",
       "  </tbody>\n",
       "</table>\n",
       "<p>679 rows × 8 columns</p>\n",
       "</div>"
      ],
      "text/plain": [
       "             Jour           Gare (départ)               Gare (arrivée)  \\\n",
       "14     08-03-2023  Montpellier Saint-Roch  Valence TGV Rhône-Alpes Sud   \n",
       "17     08-03-2023                Maubeuge            Charleroi-Central   \n",
       "19     08-03-2023              Strasbourg                   Bâle - SBB   \n",
       "104    08-03-2023                   Givet         Charleville-Mézières   \n",
       "105    08-03-2023                 Orléans                        Tours   \n",
       "...           ...                     ...                          ...   \n",
       "34170  08-03-2023                   Dinan                     Lamballe   \n",
       "34226  08-03-2023                  Amiens                         Laon   \n",
       "34269  08-03-2023                  Verdun                   Metz Ville   \n",
       "34280  09-03-2023          Lille Flandres                      Tournai   \n",
       "34311  09-03-2023                  Toulon    Marseille - Saint-Charles   \n",
       "\n",
       "      Arrivée (réelle) Arrivée (prévue) Départ (prévu)  Retard (min)  \\\n",
       "14            07:54:00         07:04:00       05:50:00            50   \n",
       "17            20:53:00         20:48:00       19:53:00             5   \n",
       "19            21:13:00         21:08:00       19:51:00             5   \n",
       "104           19:00:00         18:25:00       17:20:00            35   \n",
       "105           18:27:00         18:22:00       17:00:00             5   \n",
       "...                ...              ...            ...           ...   \n",
       "34170         19:22:00         19:17:00       18:10:00             5   \n",
       "34226         20:05:00         20:00:00       18:25:00             5   \n",
       "34269         13:02:00         12:57:00       10:37:00             5   \n",
       "34280         11:21:00         10:36:00       10:08:00            45   \n",
       "34311         16:30:00         15:55:00       14:50:00            35   \n",
       "\n",
       "                                       Cause  \n",
       "14       Mise à quai tardive en gare origine  \n",
       "17     Incident sur un réseau ferré étranger  \n",
       "19                      Régulation du trafic  \n",
       "104                 Réutilisation d'un train  \n",
       "105       Présence d'individus sur les voies  \n",
       "...                                      ...  \n",
       "34170                          Embouteillage  \n",
       "34226                   Régulation du trafic  \n",
       "34269                          Embouteillage  \n",
       "34280               Réutilisation d'un train  \n",
       "34311                   Régulation du trafic  \n",
       "\n",
       "[679 rows x 8 columns]"
      ]
     },
     "execution_count": 12,
     "metadata": {},
     "output_type": "execute_result"
    }
   ],
   "source": [
    "df_retard"
   ]
  },
  {
   "attachments": {},
   "cell_type": "markdown",
   "metadata": {},
   "source": [
    "On exporte le dataframe en fichier _CSV_"
   ]
  },
  {
   "cell_type": "code",
   "execution_count": 13,
   "metadata": {},
   "outputs": [],
   "source": [
    "df_retard.to_csv('Delay.csv', sep=',', index=False, header=True)"
   ]
  }
 ],
 "metadata": {
  "kernelspec": {
   "display_name": "cours",
   "language": "python",
   "name": "python3"
  },
  "language_info": {
   "codemirror_mode": {
    "name": "ipython",
    "version": 3
   },
   "file_extension": ".py",
   "mimetype": "text/x-python",
   "name": "python",
   "nbconvert_exporter": "python",
   "pygments_lexer": "ipython3",
   "version": "3.11.0"
  },
  "orig_nbformat": 4,
  "vscode": {
   "interpreter": {
    "hash": "0a59d7732367dd45dfe4a39cb689f1e83b4581778499ea1daf18f697fa462324"
   }
  }
 },
 "nbformat": 4,
 "nbformat_minor": 2
}
